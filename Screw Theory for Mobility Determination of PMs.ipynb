{
 "cells": [
  {
   "cell_type": "markdown",
   "metadata": {
    "slideshow": {
     "slide_type": "slide"
    }
   },
   "source": [
    "# A Python Module for Mobility Determination of Parallel Manipulators Using Screw Theory\n",
    "\n",
    "<br><br>\n",
    "\n",
    "### Adriyan\n",
    "\n",
    "<br>\n",
    "\n",
    "**Department of Mechanical Engineering**  \n",
    "**Sekolah Tinggi Teknologi Nasional, Jambi, 36125, Indonesia**\n",
    "<br><br>\n",
    "&copy; Adriyan, 2019\n",
    "<br><br>"
   ]
  },
  {
   "cell_type": "markdown",
   "metadata": {
    "slideshow": {
     "slide_type": "subslide"
    }
   },
   "source": [
    "---\n",
    "\n",
    "<font color=\"navy\">\n",
    "This material is used as a part of a research article which entitled <strong><em>A Python Module for Mobility Determination of Parallel Manipulators Using Screw Theory</em></strong> which published in Journal METAL, Andalas University.\n",
    "    <br><br>\n",
    "Material appears in this notebook is released under 3-clause BSD License. \n",
    "    \n",
    "**If you found this notebook and/or the <code>pyScrew4Mobility</code> package is worth for your research or publications please cites the paper.**\n",
    "</font>\n",
    "\n",
    "---\n",
    "<br>"
   ]
  },
  {
   "cell_type": "code",
   "execution_count": 1,
   "metadata": {
    "slideshow": {
     "slide_type": "fragment"
    }
   },
   "outputs": [
    {
     "data": {
      "text/html": [
       "<style>\n",
       "    /* @import local('Macondo'), url('http://fonts.googleapis.com/css?family=Macondo'); */\n",
       "    @import url('http://fonts.googleapis.com/css?family=Source+Code+Pro');\n",
       "    @import url('http://fonts.googleapis.com/css?family=Crimson+Text');\n",
       "    @import url('http://fonts.googleapis.com/css?family=Belleza');\n",
       "    @import url('http://fonts.googleapis.com/css?family=Merriweather');\n",
       "    @import url('http://fonts.googleapis.com/css?family=Average+Sans');\n",
       "    \n",
       "    /* Change notebook width */\n",
       "    div#notebook {\n",
       "        padding-left:5%;\n",
       "        padding-right:5%;\n",
       "    }\n",
       "\n",
       "    /* Change for Header*/\n",
       "    div.text_cell_render h1 {\n",
       "        margin-top: 24pt;\n",
       "        margin-bottom: 32pt;\n",
       "        font-family: \"Belleza\";\n",
       "        font-size: 48pt;\n",
       "        color: #004B8D; \n",
       "    }  \n",
       "\n",
       "    div.text_cell_render h2 {\n",
       "        margin-top: 24pt;\n",
       "        margin-bottom: 12pt;\n",
       "        font-family: \"Belleza\";\n",
       "        font-size: 32pt;\n",
       "        color: #007D28; \n",
       "    }\n",
       "\n",
       "    div.text_cell_render h3 {\n",
       "        margin-top: 24pt;\n",
       "        margin-bottom: 12pt;\n",
       "        font-family: \"Belleza\";\n",
       "        font-size: 24pt;\n",
       "        color: #0692AB; \n",
       "    }    \n",
       "    div.text_cell_render h4 {\n",
       "        margin-top: 24pt;\n",
       "        margin-bottom: 12pt;\n",
       "        font-family: \"Belleza\";\n",
       "        font-size: 20pt;\n",
       "        color: #034F84; \n",
       "    }\n",
       "\n",
       "    div.text_cell_render h5 {\n",
       "        margin-top: 24pt;\n",
       "        margin-bottom: 12pt;\n",
       "        font-family: \"Belleza\";\n",
       "        font-size: 16pt;\n",
       "        font-style: normal;\n",
       "        color: #800000; \n",
       "    }\n",
       "\n",
       "    div.text_cell_render h6 {\n",
       "        margin-top: 6pt;\n",
       "        margin-bottom: 6pt;\n",
       "        font-family: \"Belleza\";\n",
       "        font-size: 14pt;\n",
       "        font-style: normal;\n",
       "        color: #000001;\n",
       "    }\n",
       "\n",
       "    /* Change code font */\n",
       "    .CodeMirror pre {\n",
       "        font-size: 11pt;\n",
       "        font-family: Source Code Pro, Consolas, monocco, monospace;\n",
       "    }\n",
       "    div.code_cell{\n",
       "        max-width: 100%;\n",
       "    }\n",
       "    div.code_cell_render{\n",
       "        font-size: 11pt;\n",
       "    }\n",
       "    div.cell.code_cell {\n",
       "        border-width: 2px;\n",
       "        border-radius: 6px;\n",
       "    }\n",
       "    div.input_area {\n",
       "        border-width: 1px;\n",
       "        border-radius: 3px;\n",
       "        border-color: #EEEEEE;\n",
       "        background-color: #EEEEEE;\n",
       "    }\n",
       "\n",
       "    div.text_cell { \n",
       "        max-width: 100%; /* instead of 100%, */\n",
       "    }\n",
       "\n",
       "    div.text_cell_render { \n",
       "        margin-top: 6pt;\n",
       "        margin-bottom: 6pt;\n",
       "        font-family: \"Merriweather\";\n",
       "        font-size: 11pt;\n",
       "        line-height: 135%; /* added for some line spacing of text. */\n",
       "    }\n",
       "\n",
       "    .rendered_html ol {\n",
       "        list-style:decimal;\n",
       "        margin: 1em 2em;\n",
       "    }\n",
       "\n",
       "</style>\n"
      ],
      "text/plain": [
       "<IPython.core.display.HTML object>"
      ]
     },
     "execution_count": 1,
     "metadata": {},
     "output_type": "execute_result"
    }
   ],
   "source": [
    "from IPython.display import HTML, display_png\n",
    "# with open(\"jlstyle.css\", \"r\") as fs: fs=fs.read() # If you run on Jupyter Lab\n",
    "with open(\"nbstyle.css\", \"r\") as fs: fs=fs.read() # If you run on Jupyter Notebook\n",
    "HTML(fs)"
   ]
  },
  {
   "cell_type": "markdown",
   "metadata": {
    "slideshow": {
     "slide_type": "slide"
    }
   },
   "source": [
    "## 1. A Grübler-Kutzbach Mobility"
   ]
  },
  {
   "cell_type": "markdown",
   "metadata": {},
   "source": [
    "Grübler-Kutzbach mobility formulas:  \n",
    "\n",
    "$$\n",
    "M = \\kappa \\cdot \\left( n - j - 1\\right) + \\sum_{i}{f_i}\n",
    "$$\n",
    "\n",
    "where $\\kappa$ is equal to 3 and 6 for planar and spatial manipulators, respectively. $n$ and $j$ denote the number of links and joints in the mechanisms/manipulators, respectively. While, $\\sum_{i}{f_i}$ is the number of motion allowed by each joint that constructs the mechanisms/manipulators."
   ]
  },
  {
   "cell_type": "code",
   "execution_count": 2,
   "metadata": {},
   "outputs": [],
   "source": [
    "def Mobility_GK(n, j, Sigma_fi, kappa=6):\n",
    "    return kappa * (n - j - 1) + Sigma_fi"
   ]
  },
  {
   "cell_type": "markdown",
   "metadata": {
    "slideshow": {
     "slide_type": "slide"
    }
   },
   "source": [
    "## 2. `pyScrew4Mobility` Module: the implementation of screw theory for mobility determination of parallel manipulators using sympy"
   ]
  },
  {
   "cell_type": "markdown",
   "metadata": {},
   "source": [
    "Currently, `pyScrew4Mobility` Module is constructed by three python classes:\n",
    "1. A class of `Screw` which responsible to construct a screw or a screw system.  \n",
    "2. A class of `ScrewSystem`  which responsible for algebraic calculation of the screw or the screw system, such as orthogonal product and reciprocal screw.  \n",
    "3. A class of `Mobility` which applied to calculate mobility of parallel manipulators for given screw system of its each limb.   \n",
    "\n",
    "The `pyScrew4Mobility Module` is released under 3-Clause BSD (Berkeley Software Disribution) License.  \n",
    "\n",
    "To use `pyScrew4Mobility Module` using this (Jupyter) notebook, one must put the the file `pyScrew4Mobility.py` in the same directory of this notebook and use the IPython magic as given below before importing the screw library."
   ]
  },
  {
   "cell_type": "code",
   "execution_count": 3,
   "metadata": {},
   "outputs": [],
   "source": [
    "%load_ext autoreload\n",
    "%autoreload 2\n",
    "import pyScrew4Mobility as s4m"
   ]
  },
  {
   "cell_type": "markdown",
   "metadata": {
    "slideshow": {
     "slide_type": "slide"
    }
   },
   "source": [
    "## 3. The Application of `pyScrew4Mobility` Package to Four Well-known Parallel Manipulators"
   ]
  },
  {
   "cell_type": "markdown",
   "metadata": {},
   "source": [
    "The `pyScrew4Mobility` package is applied to determine the mobility of four well-known parallel manipulators, namely:\n",
    "1. **Tripteron: a 3-PRRR parallel manipulator**\n",
    "2. **A star-like parallel manipulator 3-PR(Pa)R**\n",
    "3. **A 4-PRRU parallel manipulator**, Quadrupteron (PRRR/3-PRRU) is the special case.\n",
    "4. **A 6-UPS parallel manipulator**"
   ]
  },
  {
   "cell_type": "code",
   "execution_count": 4,
   "metadata": {},
   "outputs": [],
   "source": [
    "import sympy as sym\n",
    "from sympy.physics import mechanics as mec\n",
    "from sympy.physics import matrices as mat"
   ]
  },
  {
   "cell_type": "code",
   "execution_count": 5,
   "metadata": {},
   "outputs": [],
   "source": [
    "sym.init_printing(use_latex=\"mathjax\")"
   ]
  },
  {
   "cell_type": "markdown",
   "metadata": {
    "slideshow": {
     "slide_type": "slide"
    }
   },
   "source": [
    "### 3.1. A 3-PRRR Parallel Manipulator"
   ]
  },
  {
   "cell_type": "markdown",
   "metadata": {},
   "source": [
    "The geometry of manipulator\n",
    "\n",
    "<img src=\"./img/1_PM_3PRRR.PNG\" width=\"450\" />"
   ]
  },
  {
   "cell_type": "markdown",
   "metadata": {},
   "source": [
    "**Examining the mobility with Grübler-Kutzbach mobility formula**"
   ]
  },
  {
   "cell_type": "code",
   "execution_count": 6,
   "metadata": {
    "slideshow": {
     "slide_type": "fragment"
    }
   },
   "outputs": [
    {
     "name": "stdout",
     "output_type": "stream",
     "text": [
      "Mobility of 3-PRRR using Grübler-Kutzbach mobility formulas: 0\n"
     ]
    }
   ],
   "source": [
    "n = 1 + 3 * 3 + 1\n",
    "j = 3 * 4\n",
    "Sigma_fi = 3 * 4\n",
    "print(\"Mobility of 3-PRRR using Grübler-Kutzbach mobility formulas: \" \\\n",
    "      + str(Mobility_GK(n, j, Sigma_fi)))"
   ]
  },
  {
   "cell_type": "markdown",
   "metadata": {},
   "source": [
    "**The zeroth step:** A user defined for ${\\bf{r}}_{ij}$, ${\\bf{s}}_{ij}$ and $h_{ij}$ of 3-PRRR PM."
   ]
  },
  {
   "cell_type": "code",
   "execution_count": 7,
   "metadata": {
    "slideshow": {
     "slide_type": "subslide"
    }
   },
   "outputs": [],
   "source": [
    "def PM_3PRRR():\n",
    "    # Number of limbs\n",
    "    n_limbs = 3 \n",
    "    # Declaring sympy symbol for its kinematic parameter\n",
    "    a, b, Ly, Lz, r = sym.symbols(\"a b L_y L_z r\") \n",
    "    # Joint displacement and/or joint angular displacement\n",
    "    act_spc = sym.symbols(\"d_{1:\"+str(n_limbs+1)+\"}\")\n",
    "    thetas = sym.symbols(\"\\\\theta_{{1:\"+str(n_limbs+1)+\"}{2:4}}\")\n",
    "    # The unit vector of a unit screw pointing at for each limb\n",
    "    _s = [4 * [mat.Matrix([1, 0, 0]),],\n",
    "          4 * [mat.Matrix([0, 1, 0]),],\n",
    "          4 * [mat.Matrix([0, 0, 1])]]\n",
    "    # pitch of the each joint for every limb\n",
    "    _h = [sym.oo,] + 3 * [0,]    \n",
    "    # A fixed reference of frame O-XYZ\n",
    "    G = mec.ReferenceFrame(\"G\")    \n",
    "    # Position vector of OA_i\n",
    "    rOA = [mat.Matrix([act_spc[0], Ly, 0]),\n",
    "           mat.Matrix([0, act_spc[1], Lz]),\n",
    "           mat.Matrix([0, 0, act_spc[2]])]\n",
    "    # An auxiliary vector for determining position vector AB and BC\n",
    "    _ = [mat.Matrix([0, 1, 0]),\n",
    "         mat.Matrix([0, 0, 1]),\n",
    "         mat.Matrix([1, 0, 0])]\n",
    "    # Within this loop, it is constructed all parameters required for \n",
    "    # mobility calculation\n",
    "    list_of_parameters = [] # Variable for containing all parameters \n",
    "                            # required for mobility calculation\n",
    "    ii = 0\n",
    "    for _1, _2, _3 in zip(thetas[::2], thetas[1::2], [G.x, G.y, G.z]):\n",
    "        # Moving reference of frame\n",
    "        H = G.orientnew(\"H\"+str(ii+1), \"Axis\", [_1, _3])\n",
    "        K = G.orientnew(\"K\"+str(ii+1), \"Axis\", [_2, _3])\n",
    "        # Position vector AB and BC in fixed reference of frame\n",
    "        rAB = G.dcm(H) * (a * _[ii])\n",
    "        rBC = G.dcm(K) * (b * _[ii])\n",
    "        # Contruct all parameters for each limb\n",
    "        s_limb = []\n",
    "        for jj in range(len(_s[ii])):\n",
    "            _r = rOA[ii]\n",
    "            if jj == 2:\n",
    "                _r += rAB\n",
    "            elif jj == 3:\n",
    "                _r += rAB + rBC\n",
    "            s_limb.append([_s[ii][jj], _r, _h[jj]])\n",
    "        list_of_parameters.append(s_limb)\n",
    "        ii += 1\n",
    "    return list_of_parameters\n"
   ]
  },
  {
   "cell_type": "markdown",
   "metadata": {},
   "source": [
    "**The first to fourth step:**"
   ]
  },
  {
   "cell_type": "code",
   "execution_count": 8,
   "metadata": {},
   "outputs": [],
   "source": [
    "Mobility_PM_3PRRR = s4m.ManipulatorsMobility(PM_3PRRR(), \"A 3-PRRR Parallel Manipulator\")"
   ]
  },
  {
   "cell_type": "code",
   "execution_count": 9,
   "metadata": {},
   "outputs": [
    {
     "data": {
      "text/plain": [
       "{'Number': 3, 'Type': '3T', 'Direction': ['Tx', 'Ty', 'Tz']}"
      ]
     },
     "execution_count": 9,
     "metadata": {},
     "output_type": "execute_result"
    }
   ],
   "source": [
    "Mobility_PM_3PRRR.Mobility"
   ]
  },
  {
   "cell_type": "markdown",
   "metadata": {},
   "source": [
    "**Displaying the result from the first to fourth step:** "
   ]
  },
  {
   "cell_type": "code",
   "execution_count": 10,
   "metadata": {},
   "outputs": [],
   "source": [
    "def all_screw_system(obj):\n",
    "    print(\"Limb Twist System\")\n",
    "    print(\"=================\")\n",
    "    for ii, item in enumerate(obj.LimbTwistSystem):\n",
    "        print(\"Limb: \", ii+1)\n",
    "        display(item.screw_system_list)\n",
    "\n",
    "    print(\"\\n\\nLimb Wrench System\")\n",
    "    print(\"==================\")\n",
    "    for ii, item in enumerate(obj.LimbWrenchSystem):\n",
    "        print(\"Limb: \", ii+1)\n",
    "        display(item.screw_system_list)\n",
    "\n",
    "    print(\"\\n\\nPlatform Wrench System\")\n",
    "    print(\"======================\")\n",
    "    display(obj.PlatformWrenchSystem.screw_system_list)\n",
    "\n",
    "    print(\"\\n\\nPlatform Twist System\")\n",
    "    print(\"=====================\")\n",
    "    display(obj.PlatformTwistSystem.screw_system_list)"
   ]
  },
  {
   "cell_type": "code",
   "execution_count": 11,
   "metadata": {
    "scrolled": false
   },
   "outputs": [
    {
     "name": "stdout",
     "output_type": "stream",
     "text": [
      "Limb Twist System\n",
      "=================\n",
      "Limb:  1\n"
     ]
    },
    {
     "data": {
      "text/latex": [
       "$\\displaystyle \\left[ \\left[\\begin{matrix}0\\\\0\\\\0\\\\1\\\\0\\\\0\\end{matrix}\\right], \\  \\left[\\begin{matrix}1\\\\0\\\\0\\\\0\\\\0\\\\- L_{y}\\end{matrix}\\right], \\  \\left[\\begin{matrix}1\\\\0\\\\0\\\\0\\\\a \\sin{\\left(\\theta_{{1}{2}} \\right)}\\\\- L_{y} - a \\cos{\\left(\\theta_{{1}{2}} \\right)}\\end{matrix}\\right], \\  \\left[\\begin{matrix}1\\\\0\\\\0\\\\0\\\\a \\sin{\\left(\\theta_{{1}{2}} \\right)} + b \\sin{\\left(\\theta_{{1}{3}} \\right)}\\\\- L_{y} - a \\cos{\\left(\\theta_{{1}{2}} \\right)} - b \\cos{\\left(\\theta_{{1}{3}} \\right)}\\end{matrix}\\right]\\right]$"
      ],
      "text/plain": [
       "⎡⎡0⎤  ⎡ 1  ⎤  ⎡              1              ⎤  ⎡                          1   \n",
       "⎢⎢ ⎥  ⎢    ⎥  ⎢                             ⎥  ⎢                              \n",
       "⎢⎢0⎥  ⎢ 0  ⎥  ⎢              0              ⎥  ⎢                          0   \n",
       "⎢⎢ ⎥  ⎢    ⎥  ⎢                             ⎥  ⎢                              \n",
       "⎢⎢0⎥  ⎢ 0  ⎥  ⎢              0              ⎥  ⎢                          0   \n",
       "⎢⎢ ⎥, ⎢    ⎥, ⎢                             ⎥, ⎢                              \n",
       "⎢⎢1⎥  ⎢ 0  ⎥  ⎢              0              ⎥  ⎢                          0   \n",
       "⎢⎢ ⎥  ⎢    ⎥  ⎢                             ⎥  ⎢                              \n",
       "⎢⎢0⎥  ⎢ 0  ⎥  ⎢   a⋅sin(\\theta_{{1}{2}})    ⎥  ⎢   a⋅sin(\\theta_{{1}{2}}) + b⋅\n",
       "⎢⎢ ⎥  ⎢    ⎥  ⎢                             ⎥  ⎢                              \n",
       "⎣⎣0⎦  ⎣-L_y⎦  ⎣-L_y - a⋅cos(\\theta_{{1}{2}})⎦  ⎣-L_y - a⋅cos(\\theta_{{1}{2}}) \n",
       "\n",
       "                        ⎤⎤\n",
       "                        ⎥⎥\n",
       "                        ⎥⎥\n",
       "                        ⎥⎥\n",
       "                        ⎥⎥\n",
       "                        ⎥⎥\n",
       "                        ⎥⎥\n",
       "                        ⎥⎥\n",
       "sin(\\theta_{{1}{3}})    ⎥⎥\n",
       "                        ⎥⎥\n",
       "- b⋅cos(\\theta_{{1}{3}})⎦⎦"
      ]
     },
     "metadata": {},
     "output_type": "display_data"
    },
    {
     "name": "stdout",
     "output_type": "stream",
     "text": [
      "Limb:  2\n"
     ]
    },
    {
     "data": {
      "text/latex": [
       "$\\displaystyle \\left[ \\left[\\begin{matrix}0\\\\0\\\\0\\\\0\\\\1\\\\0\\end{matrix}\\right], \\  \\left[\\begin{matrix}0\\\\1\\\\0\\\\- L_{z}\\\\0\\\\0\\end{matrix}\\right], \\  \\left[\\begin{matrix}0\\\\1\\\\0\\\\- L_{z} - a \\cos{\\left(\\theta_{{2}{2}} \\right)}\\\\0\\\\a \\sin{\\left(\\theta_{{2}{2}} \\right)}\\end{matrix}\\right], \\  \\left[\\begin{matrix}0\\\\1\\\\0\\\\- L_{z} - a \\cos{\\left(\\theta_{{2}{2}} \\right)} - b \\cos{\\left(\\theta_{{2}{3}} \\right)}\\\\0\\\\a \\sin{\\left(\\theta_{{2}{2}} \\right)} + b \\sin{\\left(\\theta_{{2}{3}} \\right)}\\end{matrix}\\right]\\right]$"
      ],
      "text/plain": [
       "⎡⎡0⎤  ⎡ 0  ⎤  ⎡              0              ⎤  ⎡                          0   \n",
       "⎢⎢ ⎥  ⎢    ⎥  ⎢                             ⎥  ⎢                              \n",
       "⎢⎢0⎥  ⎢ 1  ⎥  ⎢              1              ⎥  ⎢                          1   \n",
       "⎢⎢ ⎥  ⎢    ⎥  ⎢                             ⎥  ⎢                              \n",
       "⎢⎢0⎥  ⎢ 0  ⎥  ⎢              0              ⎥  ⎢                          0   \n",
       "⎢⎢ ⎥, ⎢    ⎥, ⎢                             ⎥, ⎢                              \n",
       "⎢⎢0⎥  ⎢-L_z⎥  ⎢-L_z - a⋅cos(\\theta_{{2}{2}})⎥  ⎢-L_z - a⋅cos(\\theta_{{2}{2}}) \n",
       "⎢⎢ ⎥  ⎢    ⎥  ⎢                             ⎥  ⎢                              \n",
       "⎢⎢1⎥  ⎢ 0  ⎥  ⎢              0              ⎥  ⎢                          0   \n",
       "⎢⎢ ⎥  ⎢    ⎥  ⎢                             ⎥  ⎢                              \n",
       "⎣⎣0⎦  ⎣ 0  ⎦  ⎣   a⋅sin(\\theta_{{2}{2}})    ⎦  ⎣   a⋅sin(\\theta_{{2}{2}}) + b⋅\n",
       "\n",
       "                        ⎤⎤\n",
       "                        ⎥⎥\n",
       "                        ⎥⎥\n",
       "                        ⎥⎥\n",
       "                        ⎥⎥\n",
       "                        ⎥⎥\n",
       "- b⋅cos(\\theta_{{2}{3}})⎥⎥\n",
       "                        ⎥⎥\n",
       "                        ⎥⎥\n",
       "                        ⎥⎥\n",
       "sin(\\theta_{{2}{3}})    ⎦⎦"
      ]
     },
     "metadata": {},
     "output_type": "display_data"
    },
    {
     "name": "stdout",
     "output_type": "stream",
     "text": [
      "Limb:  3\n"
     ]
    },
    {
     "data": {
      "text/latex": [
       "$\\displaystyle \\left[ \\left[\\begin{matrix}0\\\\0\\\\0\\\\0\\\\0\\\\1\\end{matrix}\\right], \\  \\left[\\begin{matrix}0\\\\0\\\\1\\\\0\\\\0\\\\0\\end{matrix}\\right], \\  \\left[\\begin{matrix}0\\\\0\\\\1\\\\a \\sin{\\left(\\theta_{{3}{2}} \\right)}\\\\- a \\cos{\\left(\\theta_{{3}{2}} \\right)}\\\\0\\end{matrix}\\right], \\  \\left[\\begin{matrix}0\\\\0\\\\1\\\\a \\sin{\\left(\\theta_{{3}{2}} \\right)} + b \\sin{\\left(\\theta_{{3}{3}} \\right)}\\\\- a \\cos{\\left(\\theta_{{3}{2}} \\right)} - b \\cos{\\left(\\theta_{{3}{3}} \\right)}\\\\0\\end{matrix}\\right]\\right]$"
      ],
      "text/plain": [
       "⎡⎡0⎤  ⎡0⎤  ⎡           0           ⎤  ⎡                       0               \n",
       "⎢⎢ ⎥  ⎢ ⎥  ⎢                       ⎥  ⎢                                       \n",
       "⎢⎢0⎥  ⎢0⎥  ⎢           0           ⎥  ⎢                       0               \n",
       "⎢⎢ ⎥  ⎢ ⎥  ⎢                       ⎥  ⎢                                       \n",
       "⎢⎢0⎥  ⎢1⎥  ⎢           1           ⎥  ⎢                       1               \n",
       "⎢⎢ ⎥, ⎢ ⎥, ⎢                       ⎥, ⎢                                       \n",
       "⎢⎢0⎥  ⎢0⎥  ⎢a⋅sin(\\theta_{{3}{2}}) ⎥  ⎢a⋅sin(\\theta_{{3}{2}}) + b⋅sin(\\theta_{\n",
       "⎢⎢ ⎥  ⎢ ⎥  ⎢                       ⎥  ⎢                                       \n",
       "⎢⎢0⎥  ⎢0⎥  ⎢-a⋅cos(\\theta_{{3}{2}})⎥  ⎢-a⋅cos(\\theta_{{3}{2}}) - b⋅cos(\\theta_\n",
       "⎢⎢ ⎥  ⎢ ⎥  ⎢                       ⎥  ⎢                                       \n",
       "⎣⎣1⎦  ⎣0⎦  ⎣           0           ⎦  ⎣                       0               \n",
       "\n",
       "         ⎤⎤\n",
       "         ⎥⎥\n",
       "         ⎥⎥\n",
       "         ⎥⎥\n",
       "         ⎥⎥\n",
       "         ⎥⎥\n",
       "{3}{3}}) ⎥⎥\n",
       "         ⎥⎥\n",
       "{{3}{3}})⎥⎥\n",
       "         ⎥⎥\n",
       "         ⎦⎦"
      ]
     },
     "metadata": {},
     "output_type": "display_data"
    },
    {
     "name": "stdout",
     "output_type": "stream",
     "text": [
      "\n",
      "\n",
      "Limb Wrench System\n",
      "==================\n",
      "Limb:  1\n"
     ]
    },
    {
     "data": {
      "text/latex": [
       "$\\displaystyle \\left[ \\left[\\begin{matrix}0\\\\0\\\\0\\\\0\\\\1\\\\0\\end{matrix}\\right], \\  \\left[\\begin{matrix}0\\\\0\\\\0\\\\0\\\\0\\\\1\\end{matrix}\\right]\\right]$"
      ],
      "text/plain": [
       "⎡⎡0⎤  ⎡0⎤⎤\n",
       "⎢⎢ ⎥  ⎢ ⎥⎥\n",
       "⎢⎢0⎥  ⎢0⎥⎥\n",
       "⎢⎢ ⎥  ⎢ ⎥⎥\n",
       "⎢⎢0⎥  ⎢0⎥⎥\n",
       "⎢⎢ ⎥, ⎢ ⎥⎥\n",
       "⎢⎢0⎥  ⎢0⎥⎥\n",
       "⎢⎢ ⎥  ⎢ ⎥⎥\n",
       "⎢⎢1⎥  ⎢0⎥⎥\n",
       "⎢⎢ ⎥  ⎢ ⎥⎥\n",
       "⎣⎣0⎦  ⎣1⎦⎦"
      ]
     },
     "metadata": {},
     "output_type": "display_data"
    },
    {
     "name": "stdout",
     "output_type": "stream",
     "text": [
      "Limb:  2\n"
     ]
    },
    {
     "data": {
      "text/latex": [
       "$\\displaystyle \\left[ \\left[\\begin{matrix}0\\\\0\\\\0\\\\1\\\\0\\\\0\\end{matrix}\\right], \\  \\left[\\begin{matrix}0\\\\0\\\\0\\\\0\\\\0\\\\1\\end{matrix}\\right]\\right]$"
      ],
      "text/plain": [
       "⎡⎡0⎤  ⎡0⎤⎤\n",
       "⎢⎢ ⎥  ⎢ ⎥⎥\n",
       "⎢⎢0⎥  ⎢0⎥⎥\n",
       "⎢⎢ ⎥  ⎢ ⎥⎥\n",
       "⎢⎢0⎥  ⎢0⎥⎥\n",
       "⎢⎢ ⎥, ⎢ ⎥⎥\n",
       "⎢⎢1⎥  ⎢0⎥⎥\n",
       "⎢⎢ ⎥  ⎢ ⎥⎥\n",
       "⎢⎢0⎥  ⎢0⎥⎥\n",
       "⎢⎢ ⎥  ⎢ ⎥⎥\n",
       "⎣⎣0⎦  ⎣1⎦⎦"
      ]
     },
     "metadata": {},
     "output_type": "display_data"
    },
    {
     "name": "stdout",
     "output_type": "stream",
     "text": [
      "Limb:  3\n"
     ]
    },
    {
     "data": {
      "text/latex": [
       "$\\displaystyle \\left[ \\left[\\begin{matrix}0\\\\0\\\\0\\\\1\\\\0\\\\0\\end{matrix}\\right], \\  \\left[\\begin{matrix}0\\\\0\\\\0\\\\0\\\\1\\\\0\\end{matrix}\\right]\\right]$"
      ],
      "text/plain": [
       "⎡⎡0⎤  ⎡0⎤⎤\n",
       "⎢⎢ ⎥  ⎢ ⎥⎥\n",
       "⎢⎢0⎥  ⎢0⎥⎥\n",
       "⎢⎢ ⎥  ⎢ ⎥⎥\n",
       "⎢⎢0⎥  ⎢0⎥⎥\n",
       "⎢⎢ ⎥, ⎢ ⎥⎥\n",
       "⎢⎢1⎥  ⎢0⎥⎥\n",
       "⎢⎢ ⎥  ⎢ ⎥⎥\n",
       "⎢⎢0⎥  ⎢1⎥⎥\n",
       "⎢⎢ ⎥  ⎢ ⎥⎥\n",
       "⎣⎣0⎦  ⎣0⎦⎦"
      ]
     },
     "metadata": {},
     "output_type": "display_data"
    },
    {
     "name": "stdout",
     "output_type": "stream",
     "text": [
      "\n",
      "\n",
      "Platform Wrench System\n",
      "======================\n"
     ]
    },
    {
     "data": {
      "text/latex": [
       "$\\displaystyle \\left[ \\left[\\begin{matrix}0\\\\0\\\\0\\\\0\\\\1\\\\0\\end{matrix}\\right], \\  \\left[\\begin{matrix}0\\\\0\\\\0\\\\0\\\\0\\\\1\\end{matrix}\\right], \\  \\left[\\begin{matrix}0\\\\0\\\\0\\\\1\\\\0\\\\0\\end{matrix}\\right]\\right]$"
      ],
      "text/plain": [
       "⎡⎡0⎤  ⎡0⎤  ⎡0⎤⎤\n",
       "⎢⎢ ⎥  ⎢ ⎥  ⎢ ⎥⎥\n",
       "⎢⎢0⎥  ⎢0⎥  ⎢0⎥⎥\n",
       "⎢⎢ ⎥  ⎢ ⎥  ⎢ ⎥⎥\n",
       "⎢⎢0⎥  ⎢0⎥  ⎢0⎥⎥\n",
       "⎢⎢ ⎥, ⎢ ⎥, ⎢ ⎥⎥\n",
       "⎢⎢0⎥  ⎢0⎥  ⎢1⎥⎥\n",
       "⎢⎢ ⎥  ⎢ ⎥  ⎢ ⎥⎥\n",
       "⎢⎢1⎥  ⎢0⎥  ⎢0⎥⎥\n",
       "⎢⎢ ⎥  ⎢ ⎥  ⎢ ⎥⎥\n",
       "⎣⎣0⎦  ⎣1⎦  ⎣0⎦⎦"
      ]
     },
     "metadata": {},
     "output_type": "display_data"
    },
    {
     "name": "stdout",
     "output_type": "stream",
     "text": [
      "\n",
      "\n",
      "Platform Twist System\n",
      "=====================\n"
     ]
    },
    {
     "data": {
      "text/latex": [
       "$\\displaystyle \\left[ \\left[\\begin{matrix}0\\\\0\\\\0\\\\1\\\\0\\\\0\\end{matrix}\\right], \\  \\left[\\begin{matrix}0\\\\0\\\\0\\\\0\\\\1\\\\0\\end{matrix}\\right], \\  \\left[\\begin{matrix}0\\\\0\\\\0\\\\0\\\\0\\\\1\\end{matrix}\\right]\\right]$"
      ],
      "text/plain": [
       "⎡⎡0⎤  ⎡0⎤  ⎡0⎤⎤\n",
       "⎢⎢ ⎥  ⎢ ⎥  ⎢ ⎥⎥\n",
       "⎢⎢0⎥  ⎢0⎥  ⎢0⎥⎥\n",
       "⎢⎢ ⎥  ⎢ ⎥  ⎢ ⎥⎥\n",
       "⎢⎢0⎥  ⎢0⎥  ⎢0⎥⎥\n",
       "⎢⎢ ⎥, ⎢ ⎥, ⎢ ⎥⎥\n",
       "⎢⎢1⎥  ⎢0⎥  ⎢0⎥⎥\n",
       "⎢⎢ ⎥  ⎢ ⎥  ⎢ ⎥⎥\n",
       "⎢⎢0⎥  ⎢1⎥  ⎢0⎥⎥\n",
       "⎢⎢ ⎥  ⎢ ⎥  ⎢ ⎥⎥\n",
       "⎣⎣0⎦  ⎣0⎦  ⎣1⎦⎦"
      ]
     },
     "metadata": {},
     "output_type": "display_data"
    }
   ],
   "source": [
    "all_screw_system(Mobility_PM_3PRRR)"
   ]
  },
  {
   "cell_type": "markdown",
   "metadata": {
    "slideshow": {
     "slide_type": "slide"
    }
   },
   "source": [
    "### 3.2. A 3-PR(Pa)R Parallel Manipulator"
   ]
  },
  {
   "cell_type": "markdown",
   "metadata": {},
   "source": [
    "The geometry of manipulator\n",
    "\n",
    "<img src=\"./img/2_PM_3PRPaR.PNG\" width=\"512\" />"
   ]
  },
  {
   "cell_type": "markdown",
   "metadata": {},
   "source": [
    "**Examining the mobility with Grübler-Kutzbach mobility formula**"
   ]
  },
  {
   "cell_type": "code",
   "execution_count": 12,
   "metadata": {
    "slideshow": {
     "slide_type": "fragment"
    }
   },
   "outputs": [
    {
     "name": "stdout",
     "output_type": "stream",
     "text": [
      "Mobility of 3-PR(Pa)R using Grübler-Kutzbach mobility formulas: -9\n"
     ]
    }
   ],
   "source": [
    "n = 1 + 3 * 5 + 1\n",
    "j = 3 * 7\n",
    "Sigma_fi = 3 * 7\n",
    "print(\"Mobility of 3-PR(Pa)R using Grübler-Kutzbach mobility formulas: \" \\\n",
    "      + str(Mobility_GK(n, j, Sigma_fi)))"
   ]
  },
  {
   "cell_type": "markdown",
   "metadata": {},
   "source": [
    "**The zeroth step:** A user defined for ${\\bf{r}}_{ij}$, ${\\bf{s}}_{ij}$ and $h_{ij}$ of 3-PR(Pa)R PM."
   ]
  },
  {
   "cell_type": "code",
   "execution_count": 13,
   "metadata": {},
   "outputs": [],
   "source": [
    "def PM_3PRPaR():\n",
    "    # Number of limbs\n",
    "    n_limbs = 3\n",
    "    # Declaring sympy symbol for its kinematic parameter\n",
    "    L, r = sym.symbols(\"L r\")\n",
    "    a, b = sym.symbols(\"a b\")\n",
    "    # Joint displacement and/or joint angular displacement\n",
    "    act_spc = sym.symbols(\"d_{1:\"+str(n_limbs+1)+\"}\")\n",
    "    lambdas = sym.symbols(\"\\\\lambda_{1:\"+str(n_limbs+1)+\"}\")\n",
    "    thetas = sym.symbols(\"\\\\theta_{{1:\"+str(n_limbs+1)+\"}{2:6}}\")\n",
    "    lambdas_subs = dict(zip(lambdas, [0, 2*sym.pi/3, 4*sym.pi/3]))\n",
    "    # A fixed reference of frame O-XYZ\n",
    "    G = mec.ReferenceFrame(\"G\")\n",
    "    # Within this loop, it is constructed all parameters required for \n",
    "    # mobility calculation\n",
    "    list_of_parameters = [] # Variable for containing all parameters \n",
    "                            # required for mobility calculation\n",
    "    kk = len(thetas)//n_limbs\n",
    "    for ii in range(n_limbs):\n",
    "        # Moving reference of frame\n",
    "        H = G.orientnew(\"H\"+str(ii+1), \"Axis\", [lambdas[ii].subs(lambdas_subs), G.z])\n",
    "        rOA0 = mat.Matrix([act_spc[ii], 0, 0])\n",
    "        rOA1 = mat.Matrix([act_spc[ii] - b/2, 0, 0])\n",
    "        rOA2 = mat.Matrix([act_spc[ii] + b/2, 0, 0])\n",
    "        K = G.orientnew(\"K\"+str(ii+1), \"Axis\", [thetas[ii*kk], G.x])\n",
    "        N = G.orientnew(\"N\"+str(ii+1), \"Body\", [*thetas[ii*kk:ii*kk+2], 0], \"XYZ\")\n",
    "        # Position vector A0B0, A1B1, and A2B2 in fixed reference of frame\n",
    "        rA0B0, rA1B1, rA2B2 = 3 * [G.dcm(N) * mat.Matrix([L, 0, 0]),]\n",
    "        # The unit vector of a unit screw pointing at for each limb\n",
    "        _s = 2 * [mat.Matrix([1, 0, 0]),] \\\n",
    "             + 4 * [mat.Matrix([0, 1, 0]),] \\\n",
    "             + [mat.Matrix([1, 0, 0]),]\n",
    "        # pitch of the each joint for every limb\n",
    "        _h = [sym.oo,] + 6 * [0,]\n",
    "        # Contruct all parameters for each limb\n",
    "        s_limb = []\n",
    "        for jj, item in enumerate(_s):\n",
    "            _r = rOA0\n",
    "            if jj in [2, 3, 4, 5, 6]:\n",
    "                item = G.dcm(K) * item\n",
    "                if jj == 2:\n",
    "                    _r = rOA1\n",
    "                elif jj == 3:\n",
    "                    _r = rOA2\n",
    "                elif jj == 4:\n",
    "                    _r = rOA1 + rA1B1\n",
    "                elif jj == 5:\n",
    "                    _r = rOA2 + rA2B2\n",
    "                elif jj == 6:\n",
    "                    _r = rOA0 + rA0B0 \n",
    "            s_limb.append([G.dcm(H) * item, G.dcm(H) * _r, _h[jj]])  \n",
    "        list_of_parameters.append(s_limb)\n",
    "    return list_of_parameters\n"
   ]
  },
  {
   "cell_type": "markdown",
   "metadata": {},
   "source": [
    "**The first to fourth step:**"
   ]
  },
  {
   "cell_type": "code",
   "execution_count": 14,
   "metadata": {},
   "outputs": [],
   "source": [
    "Mobility_PM_3PRPaR = s4m.ManipulatorsMobility(PM_3PRPaR(), \"A 3-PR(Pa)R Parallel Manipulator\")"
   ]
  },
  {
   "cell_type": "code",
   "execution_count": 15,
   "metadata": {},
   "outputs": [
    {
     "data": {
      "text/plain": [
       "{'Number': 3, 'Type': '3T', 'Direction': ['Tx', 'Ty', 'Tz']}"
      ]
     },
     "execution_count": 15,
     "metadata": {},
     "output_type": "execute_result"
    }
   ],
   "source": [
    "Mobility_PM_3PRPaR.Mobility"
   ]
  },
  {
   "cell_type": "markdown",
   "metadata": {},
   "source": [
    "**Displaying the result from the first to fourth step:** "
   ]
  },
  {
   "cell_type": "code",
   "execution_count": 16,
   "metadata": {},
   "outputs": [
    {
     "name": "stdout",
     "output_type": "stream",
     "text": [
      "Limb Twist System\n",
      "=================\n",
      "Limb:  1\n"
     ]
    },
    {
     "data": {
      "text/latex": [
       "$\\displaystyle \\left[ \\left[\\begin{matrix}0\\\\0\\\\0\\\\1\\\\0\\\\0\\end{matrix}\\right], \\  \\left[\\begin{matrix}1\\\\0\\\\0\\\\0\\\\0\\\\0\\end{matrix}\\right], \\  \\left[\\begin{matrix}0\\\\\\cos{\\left(\\theta_{{1}{2}} \\right)}\\\\\\sin{\\left(\\theta_{{1}{2}} \\right)}\\\\0\\\\\\left(\\frac{b}{2} - d_{1}\\right) \\sin{\\left(\\theta_{{1}{2}} \\right)}\\\\\\left(- \\frac{b}{2} + d_{1}\\right) \\cos{\\left(\\theta_{{1}{2}} \\right)}\\end{matrix}\\right], \\  \\left[\\begin{matrix}0\\\\\\cos{\\left(\\theta_{{1}{2}} \\right)}\\\\\\sin{\\left(\\theta_{{1}{2}} \\right)}\\\\0\\\\- \\left(\\frac{b}{2} + d_{1}\\right) \\sin{\\left(\\theta_{{1}{2}} \\right)}\\\\\\left(\\frac{b}{2} + d_{1}\\right) \\cos{\\left(\\theta_{{1}{2}} \\right)}\\end{matrix}\\right], \\  \\left[\\begin{matrix}0\\\\\\cos{\\left(\\theta_{{1}{2}} \\right)}\\\\\\sin{\\left(\\theta_{{1}{2}} \\right)}\\\\L \\sin{\\left(\\theta_{{1}{3}} \\right)}\\\\\\left(- L \\cos{\\left(\\theta_{{1}{3}} \\right)} + \\frac{b}{2} - d_{1}\\right) \\sin{\\left(\\theta_{{1}{2}} \\right)}\\\\\\left(L \\cos{\\left(\\theta_{{1}{3}} \\right)} - \\frac{b}{2} + d_{1}\\right) \\cos{\\left(\\theta_{{1}{2}} \\right)}\\end{matrix}\\right], \\  \\left[\\begin{matrix}0\\\\\\cos{\\left(\\theta_{{1}{2}} \\right)}\\\\\\sin{\\left(\\theta_{{1}{2}} \\right)}\\\\L \\sin{\\left(\\theta_{{1}{3}} \\right)}\\\\- \\left(L \\cos{\\left(\\theta_{{1}{3}} \\right)} + \\frac{b}{2} + d_{1}\\right) \\sin{\\left(\\theta_{{1}{2}} \\right)}\\\\\\left(L \\cos{\\left(\\theta_{{1}{3}} \\right)} + \\frac{b}{2} + d_{1}\\right) \\cos{\\left(\\theta_{{1}{2}} \\right)}\\end{matrix}\\right], \\  \\left[\\begin{matrix}1\\\\0\\\\0\\\\0\\\\- L \\sin{\\left(\\theta_{{1}{3}} \\right)} \\cos{\\left(\\theta_{{1}{2}} \\right)}\\\\- L \\sin{\\left(\\theta_{{1}{2}} \\right)} \\sin{\\left(\\theta_{{1}{3}} \\right)}\\end{matrix}\\right]\\right]$"
      ],
      "text/plain": [
       "⎡          ⎡                0                 ⎤  ⎡                0           \n",
       "⎢          ⎢                                  ⎥  ⎢                            \n",
       "⎢⎡0⎤  ⎡1⎤  ⎢       cos(\\theta_{{1}{2}})       ⎥  ⎢      cos(\\theta_{{1}{2}})  \n",
       "⎢⎢ ⎥  ⎢ ⎥  ⎢                                  ⎥  ⎢                            \n",
       "⎢⎢0⎥  ⎢0⎥  ⎢       sin(\\theta_{{1}{2}})       ⎥  ⎢      sin(\\theta_{{1}{2}})  \n",
       "⎢⎢ ⎥  ⎢ ⎥  ⎢                                  ⎥  ⎢                            \n",
       "⎢⎢0⎥  ⎢0⎥  ⎢                0                 ⎥  ⎢                0           \n",
       "⎢⎢ ⎥, ⎢ ⎥, ⎢                                  ⎥, ⎢                            \n",
       "⎢⎢1⎥  ⎢0⎥  ⎢ ⎛b        ⎞                      ⎥  ⎢ ⎛b        ⎞                \n",
       "⎢⎢ ⎥  ⎢ ⎥  ⎢ ⎜─ - d_{1}⎟⋅sin(\\theta_{{1}{2}}) ⎥  ⎢-⎜─ + d_{1}⎟⋅sin(\\theta_{{1}\n",
       "⎢⎢0⎥  ⎢0⎥  ⎢ ⎝2        ⎠                      ⎥  ⎢ ⎝2        ⎠                \n",
       "⎢⎢ ⎥  ⎢ ⎥  ⎢                                  ⎥  ⎢                            \n",
       "⎢⎣0⎦  ⎣0⎦  ⎢⎛  b        ⎞                     ⎥  ⎢⎛b        ⎞                 \n",
       "⎢          ⎢⎜- ─ + d_{1}⎟⋅cos(\\theta_{{1}{2}})⎥  ⎢⎜─ + d_{1}⎟⋅cos(\\theta_{{1}{\n",
       "⎣          ⎣⎝  2        ⎠                     ⎦  ⎣⎝2        ⎠                 \n",
       "\n",
       "     ⎤  ⎡                            0                             ⎤  ⎡       \n",
       "     ⎥  ⎢                                                          ⎥  ⎢       \n",
       "     ⎥  ⎢                   cos(\\theta_{{1}{2}})                   ⎥  ⎢       \n",
       "     ⎥  ⎢                                                          ⎥  ⎢       \n",
       "     ⎥  ⎢                   sin(\\theta_{{1}{2}})                   ⎥  ⎢       \n",
       "     ⎥  ⎢                                                          ⎥  ⎢       \n",
       "     ⎥  ⎢                  L⋅sin(\\theta_{{1}{3}})                  ⎥  ⎢       \n",
       "     ⎥, ⎢                                                          ⎥, ⎢       \n",
       "     ⎥  ⎢⎛                          b        ⎞                     ⎥  ⎢ ⎛     \n",
       "{2}})⎥  ⎢⎜-L⋅cos(\\theta_{{1}{3}}) + ─ - d_{1}⎟⋅sin(\\theta_{{1}{2}})⎥  ⎢-⎜L⋅cos\n",
       "     ⎥  ⎢⎝                          2        ⎠                     ⎥  ⎢ ⎝     \n",
       "     ⎥  ⎢                                                          ⎥  ⎢       \n",
       "     ⎥  ⎢⎛                         b        ⎞                      ⎥  ⎢⎛      \n",
       "2}}) ⎥  ⎢⎜L⋅cos(\\theta_{{1}{3}}) - ─ + d_{1}⎟⋅cos(\\theta_{{1}{2}}) ⎥  ⎢⎜L⋅cos(\n",
       "     ⎦  ⎣⎝                         2        ⎠                      ⎦  ⎣⎝      \n",
       "\n",
       "                     0                             ⎤                          \n",
       "                                                   ⎥                          \n",
       "            cos(\\theta_{{1}{2}})                   ⎥  ⎡                     1 \n",
       "                                                   ⎥  ⎢                       \n",
       "            sin(\\theta_{{1}{2}})                   ⎥  ⎢                     0 \n",
       "                                                   ⎥  ⎢                       \n",
       "           L⋅sin(\\theta_{{1}{3}})                  ⎥  ⎢                     0 \n",
       "                                                   ⎥, ⎢                       \n",
       "                    b        ⎞                     ⎥  ⎢                     0 \n",
       "(\\theta_{{1}{3}}) + ─ + d_{1}⎟⋅sin(\\theta_{{1}{2}})⎥  ⎢                       \n",
       "                    2        ⎠                     ⎥  ⎢-L⋅sin(\\theta_{{1}{3}})\n",
       "                                                   ⎥  ⎢                       \n",
       "                   b        ⎞                      ⎥  ⎣-L⋅sin(\\theta_{{1}{2}})\n",
       "\\theta_{{1}{3}}) + ─ + d_{1}⎟⋅cos(\\theta_{{1}{2}}) ⎥                          \n",
       "                   2        ⎠                      ⎦                          \n",
       "\n",
       "                      ⎤\n",
       "                      ⎥\n",
       "                     ⎤⎥\n",
       "                     ⎥⎥\n",
       "                     ⎥⎥\n",
       "                     ⎥⎥\n",
       "                     ⎥⎥\n",
       "                     ⎥⎥\n",
       "                     ⎥⎥\n",
       "                     ⎥⎥\n",
       "⋅cos(\\theta_{{1}{2}})⎥⎥\n",
       "                     ⎥⎥\n",
       "⋅sin(\\theta_{{1}{3}})⎦⎥\n",
       "                      ⎥\n",
       "                      ⎦"
      ]
     },
     "metadata": {},
     "output_type": "display_data"
    },
    {
     "name": "stdout",
     "output_type": "stream",
     "text": [
      "Limb:  2\n"
     ]
    },
    {
     "data": {
      "text/latex": [
       "$\\displaystyle \\left[ \\left[\\begin{matrix}0\\\\0\\\\0\\\\- \\frac{1}{2}\\\\\\frac{\\sqrt{3}}{2}\\\\0\\end{matrix}\\right], \\  \\left[\\begin{matrix}- \\frac{1}{2}\\\\\\frac{\\sqrt{3}}{2}\\\\0\\\\0\\\\0\\\\0\\end{matrix}\\right], \\  \\left[\\begin{matrix}- \\frac{\\sqrt{3} \\cos{\\left(\\theta_{{2}{2}} \\right)}}{2}\\\\- \\frac{\\cos{\\left(\\theta_{{2}{2}} \\right)}}{2}\\\\\\sin{\\left(\\theta_{{2}{2}} \\right)}\\\\\\frac{\\sqrt{3} \\left(- b + 2 d_{2}\\right) \\sin{\\left(\\theta_{{2}{2}} \\right)}}{4}\\\\\\frac{\\left(- b + 2 d_{2}\\right) \\sin{\\left(\\theta_{{2}{2}} \\right)}}{4}\\\\\\left(- \\frac{b}{2} + d_{2}\\right) \\cos{\\left(\\theta_{{2}{2}} \\right)}\\end{matrix}\\right], \\  \\left[\\begin{matrix}- \\frac{\\sqrt{3} \\cos{\\left(\\theta_{{2}{2}} \\right)}}{2}\\\\- \\frac{\\cos{\\left(\\theta_{{2}{2}} \\right)}}{2}\\\\\\sin{\\left(\\theta_{{2}{2}} \\right)}\\\\\\frac{\\sqrt{3} \\left(b + 2 d_{2}\\right) \\sin{\\left(\\theta_{{2}{2}} \\right)}}{4}\\\\\\frac{\\left(b + 2 d_{2}\\right) \\sin{\\left(\\theta_{{2}{2}} \\right)}}{4}\\\\\\left(\\frac{b}{2} + d_{2}\\right) \\cos{\\left(\\theta_{{2}{2}} \\right)}\\end{matrix}\\right], \\  \\left[\\begin{matrix}- \\frac{\\sqrt{3} \\cos{\\left(\\theta_{{2}{2}} \\right)}}{2}\\\\- \\frac{\\cos{\\left(\\theta_{{2}{2}} \\right)}}{2}\\\\\\sin{\\left(\\theta_{{2}{2}} \\right)}\\\\\\frac{\\sqrt{3} L \\sin{\\left(\\theta_{{2}{2}} \\right)} \\cos{\\left(\\theta_{{2}{3}} \\right)}}{2} - \\frac{L \\sin{\\left(\\theta_{{2}{3}} \\right)}}{2} - \\frac{\\sqrt{3} b \\sin{\\left(\\theta_{{2}{2}} \\right)}}{4} + \\frac{\\sqrt{3} d_{2} \\sin{\\left(\\theta_{{2}{2}} \\right)}}{2}\\\\\\frac{L \\sin{\\left(\\theta_{{2}{2}} \\right)} \\cos{\\left(\\theta_{{2}{3}} \\right)}}{2} + \\frac{\\sqrt{3} L \\sin{\\left(\\theta_{{2}{3}} \\right)}}{2} - \\frac{b \\sin{\\left(\\theta_{{2}{2}} \\right)}}{4} + \\frac{d_{2} \\sin{\\left(\\theta_{{2}{2}} \\right)}}{2}\\\\\\left(L \\cos{\\left(\\theta_{{2}{3}} \\right)} - \\frac{b}{2} + d_{2}\\right) \\cos{\\left(\\theta_{{2}{2}} \\right)}\\end{matrix}\\right], \\  \\left[\\begin{matrix}- \\frac{\\sqrt{3} \\cos{\\left(\\theta_{{2}{2}} \\right)}}{2}\\\\- \\frac{\\cos{\\left(\\theta_{{2}{2}} \\right)}}{2}\\\\\\sin{\\left(\\theta_{{2}{2}} \\right)}\\\\\\frac{\\sqrt{3} L \\sin{\\left(\\theta_{{2}{2}} \\right)} \\cos{\\left(\\theta_{{2}{3}} \\right)}}{2} - \\frac{L \\sin{\\left(\\theta_{{2}{3}} \\right)}}{2} + \\frac{\\sqrt{3} b \\sin{\\left(\\theta_{{2}{2}} \\right)}}{4} + \\frac{\\sqrt{3} d_{2} \\sin{\\left(\\theta_{{2}{2}} \\right)}}{2}\\\\\\frac{L \\sin{\\left(\\theta_{{2}{2}} \\right)} \\cos{\\left(\\theta_{{2}{3}} \\right)}}{2} + \\frac{\\sqrt{3} L \\sin{\\left(\\theta_{{2}{3}} \\right)}}{2} + \\frac{b \\sin{\\left(\\theta_{{2}{2}} \\right)}}{4} + \\frac{d_{2} \\sin{\\left(\\theta_{{2}{2}} \\right)}}{2}\\\\\\left(L \\cos{\\left(\\theta_{{2}{3}} \\right)} + \\frac{b}{2} + d_{2}\\right) \\cos{\\left(\\theta_{{2}{2}} \\right)}\\end{matrix}\\right], \\  \\left[\\begin{matrix}- \\frac{1}{2}\\\\\\frac{\\sqrt{3}}{2}\\\\0\\\\\\frac{\\sqrt{3} L \\sin{\\left(\\theta_{{2}{3}} \\right)} \\cos{\\left(\\theta_{{2}{2}} \\right)}}{2}\\\\\\frac{L \\sin{\\left(\\theta_{{2}{3}} \\right)} \\cos{\\left(\\theta_{{2}{2}} \\right)}}{2}\\\\- L \\sin{\\left(\\theta_{{2}{2}} \\right)} \\sin{\\left(\\theta_{{2}{3}} \\right)}\\end{matrix}\\right]\\right]$"
      ],
      "text/plain": [
       "⎡                ⎡      -√3⋅cos(\\theta_{{2}{2}})        ⎤  ⎡      -√3⋅cos(\\the\n",
       "⎢                ⎢      ─────────────────────────       ⎥  ⎢      ────────────\n",
       "⎢                ⎢                  2                   ⎥  ⎢                  \n",
       "⎢                ⎢                                      ⎥  ⎢                  \n",
       "⎢⎡ 0  ⎤  ⎡-1/2⎤  ⎢        -cos(\\theta_{{2}{2}})         ⎥  ⎢       -cos(\\theta\n",
       "⎢⎢    ⎥  ⎢    ⎥  ⎢        ──────────────────────        ⎥  ⎢       ───────────\n",
       "⎢⎢ 0  ⎥  ⎢ √3 ⎥  ⎢                  2                   ⎥  ⎢                 2\n",
       "⎢⎢    ⎥  ⎢ ── ⎥  ⎢                                      ⎥  ⎢                  \n",
       "⎢⎢ 0  ⎥  ⎢ 2  ⎥  ⎢         sin(\\theta_{{2}{2}})         ⎥  ⎢        sin(\\theta\n",
       "⎢⎢    ⎥  ⎢    ⎥  ⎢                                      ⎥  ⎢                  \n",
       "⎢⎢-1/2⎥, ⎢ 0  ⎥, ⎢√3⋅(-b + 2⋅d_{2})⋅sin(\\theta_{{2}{2}})⎥, ⎢√3⋅(b + 2⋅d_{2})⋅s\n",
       "⎢⎢    ⎥  ⎢    ⎥  ⎢──────────────────────────────────────⎥  ⎢──────────────────\n",
       "⎢⎢ √3 ⎥  ⎢ 0  ⎥  ⎢                  4                   ⎥  ⎢                  \n",
       "⎢⎢ ── ⎥  ⎢    ⎥  ⎢                                      ⎥  ⎢                  \n",
       "⎢⎢ 2  ⎥  ⎢ 0  ⎥  ⎢ (-b + 2⋅d_{2})⋅sin(\\theta_{{2}{2}})  ⎥  ⎢ (b + 2⋅d_{2})⋅sin\n",
       "⎢⎢    ⎥  ⎢    ⎥  ⎢ ───────────────────────────────────  ⎥  ⎢ ─────────────────\n",
       "⎢⎣ 0  ⎦  ⎣ 0  ⎦  ⎢                  4                   ⎥  ⎢                 4\n",
       "⎢                ⎢                                      ⎥  ⎢                  \n",
       "⎢                ⎢  ⎛  b        ⎞                       ⎥  ⎢  ⎛b        ⎞     \n",
       "⎢                ⎢  ⎜- ─ + d_{2}⎟⋅cos(\\theta_{{2}{2}})  ⎥  ⎢  ⎜─ + d_{2}⎟⋅cos(\n",
       "⎣                ⎣  ⎝  2        ⎠                       ⎦  ⎣  ⎝2        ⎠     \n",
       "\n",
       "ta_{{2}{2}})       ⎤  ⎡                                                     -√\n",
       "─────────────      ⎥  ⎢                                                     ──\n",
       "2                  ⎥  ⎢                                                       \n",
       "                   ⎥  ⎢                                                       \n",
       "_{{2}{2}})         ⎥  ⎢                                                      -\n",
       "───────────        ⎥  ⎢                                                      ─\n",
       "                   ⎥  ⎢                                                       \n",
       "                   ⎥  ⎢                                                       \n",
       "_{{2}{2}})         ⎥  ⎢                                                       \n",
       "                   ⎥  ⎢                                                       \n",
       "in(\\theta_{{2}{2}})⎥, ⎢√3⋅L⋅sin(\\theta_{{2}{2}})⋅cos(\\theta_{{2}{3}})   L⋅sin(\n",
       "───────────────────⎥  ⎢────────────────────────────────────────────── - ──────\n",
       "4                  ⎥  ⎢                      2                                \n",
       "                   ⎥  ⎢                                                       \n",
       "(\\theta_{{2}{2}})  ⎥  ⎢   L⋅sin(\\theta_{{2}{2}})⋅cos(\\theta_{{2}{3}})   √3⋅L⋅s\n",
       "─────────────────  ⎥  ⎢   ─────────────────────────────────────────── + ──────\n",
       "                   ⎥  ⎢                        2                              \n",
       "                   ⎥  ⎢                                                       \n",
       "                   ⎥  ⎢                                     ⎛                 \n",
       "\\theta_{{2}{2}})   ⎥  ⎢                                     ⎜L⋅cos(\\theta_{{2}\n",
       "                   ⎦  ⎣                                     ⎝                 \n",
       "\n",
       "3⋅cos(\\theta_{{2}{2}})                                                      ⎤ \n",
       "───────────────────────                                                     ⎥ \n",
       "          2                                                                 ⎥ \n",
       "                                                                            ⎥ \n",
       "cos(\\theta_{{2}{2}})                                                        ⎥ \n",
       "─────────────────────                                                       ⎥ \n",
       "         2                                                                  ⎥ \n",
       "                                                                            ⎥ \n",
       "sin(\\theta_{{2}{2}})                                                        ⎥ \n",
       "                                                                            ⎥ \n",
       "\\theta_{{2}{3}})   √3⋅b⋅sin(\\theta_{{2}{2}})   √3⋅d_{2}⋅sin(\\theta_{{2}{2}})⎥,\n",
       "──────────────── - ───────────────────────── + ─────────────────────────────⎥ \n",
       "    2                          4                             2              ⎥ \n",
       "                                                                            ⎥ \n",
       "in(\\theta_{{2}{3}})   b⋅sin(\\theta_{{2}{2}})   d_{2}⋅sin(\\theta_{{2}{2}})   ⎥ \n",
       "─────────────────── - ────────────────────── + ──────────────────────────   ⎥ \n",
       "      2                         4                          2                ⎥ \n",
       "                                                                            ⎥ \n",
       "        b        ⎞                                                          ⎥ \n",
       "{3}}) - ─ + d_{2}⎟⋅cos(\\theta_{{2}{2}})                                     ⎥ \n",
       "        2        ⎠                                                          ⎦ \n",
       "\n",
       " ⎡                                                     -√3⋅cos(\\theta_{{2}{2}}\n",
       " ⎢                                                     ───────────────────────\n",
       " ⎢                                                                 2          \n",
       " ⎢                                                                            \n",
       " ⎢                                                      -cos(\\theta_{{2}{2}}) \n",
       " ⎢                                                      ──────────────────────\n",
       " ⎢                                                                2           \n",
       " ⎢                                                                            \n",
       " ⎢                                                       sin(\\theta_{{2}{2}}) \n",
       " ⎢                                                                            \n",
       " ⎢√3⋅L⋅sin(\\theta_{{2}{2}})⋅cos(\\theta_{{2}{3}})   L⋅sin(\\theta_{{2}{3}})   √3\n",
       " ⎢────────────────────────────────────────────── - ────────────────────── + ──\n",
       " ⎢                      2                                    2                \n",
       " ⎢                                                                            \n",
       " ⎢   L⋅sin(\\theta_{{2}{2}})⋅cos(\\theta_{{2}{3}})   √3⋅L⋅sin(\\theta_{{2}{3}})  \n",
       " ⎢   ─────────────────────────────────────────── + ───────────────────────── +\n",
       " ⎢                        2                                    2              \n",
       " ⎢                                                                            \n",
       " ⎢                                     ⎛                         b        ⎞   \n",
       " ⎢                                     ⎜L⋅cos(\\theta_{{2}{3}}) + ─ + d_{2}⎟⋅co\n",
       " ⎣                                     ⎝                         2        ⎠   \n",
       "\n",
       ")                                                      ⎤                      \n",
       "──                                                     ⎥                      \n",
       "                                                       ⎥  ⎡                   \n",
       "                                                       ⎥  ⎢                   \n",
       "                                                       ⎥  ⎢                   \n",
       "                                                       ⎥  ⎢                   \n",
       "                                                       ⎥  ⎢                   \n",
       "                                                       ⎥  ⎢                   \n",
       "                                                       ⎥  ⎢                   \n",
       "                                                       ⎥  ⎢                   \n",
       "⋅b⋅sin(\\theta_{{2}{2}})   √3⋅d_{2}⋅sin(\\theta_{{2}{2}})⎥, ⎢√3⋅L⋅sin(\\theta_{{2\n",
       "─────────────────────── + ─────────────────────────────⎥  ⎢───────────────────\n",
       "          4                             2              ⎥  ⎢                   \n",
       "                                                       ⎥  ⎢                   \n",
       " b⋅sin(\\theta_{{2}{2}})   d_{2}⋅sin(\\theta_{{2}{2}})   ⎥  ⎢ L⋅sin(\\theta_{{2}{\n",
       " ────────────────────── + ──────────────────────────   ⎥  ⎢ ──────────────────\n",
       "           4                          2                ⎥  ⎢                   \n",
       "                                                       ⎥  ⎢                   \n",
       "                                                       ⎥  ⎣ -L⋅sin(\\theta_{{2}\n",
       "s(\\theta_{{2}{2}})                                     ⎥                      \n",
       "                                                       ⎦                      \n",
       "\n",
       "                            ⎤\n",
       "                            ⎥\n",
       "  -1/2                     ⎤⎥\n",
       "                           ⎥⎥\n",
       "   √3                      ⎥⎥\n",
       "   ──                      ⎥⎥\n",
       "   2                       ⎥⎥\n",
       "                           ⎥⎥\n",
       "   0                       ⎥⎥\n",
       "                           ⎥⎥\n",
       "}{3}})⋅cos(\\theta_{{2}{2}})⎥⎥\n",
       "───────────────────────────⎥⎥\n",
       "   2                       ⎥⎥\n",
       "                           ⎥⎥\n",
       "3}})⋅cos(\\theta_{{2}{2}})  ⎥⎥\n",
       "─────────────────────────  ⎥⎥\n",
       "   2                       ⎥⎥\n",
       "                           ⎥⎥\n",
       "{2}})⋅sin(\\theta_{{2}{3}}) ⎦⎥\n",
       "                            ⎥\n",
       "                            ⎦"
      ]
     },
     "metadata": {},
     "output_type": "display_data"
    },
    {
     "name": "stdout",
     "output_type": "stream",
     "text": [
      "Limb:  3\n"
     ]
    },
    {
     "data": {
      "text/latex": [
       "$\\displaystyle \\left[ \\left[\\begin{matrix}0\\\\0\\\\0\\\\- \\frac{1}{2}\\\\- \\frac{\\sqrt{3}}{2}\\\\0\\end{matrix}\\right], \\  \\left[\\begin{matrix}- \\frac{1}{2}\\\\- \\frac{\\sqrt{3}}{2}\\\\0\\\\0\\\\0\\\\0\\end{matrix}\\right], \\  \\left[\\begin{matrix}\\frac{\\sqrt{3} \\cos{\\left(\\theta_{{3}{2}} \\right)}}{2}\\\\- \\frac{\\cos{\\left(\\theta_{{3}{2}} \\right)}}{2}\\\\\\sin{\\left(\\theta_{{3}{2}} \\right)}\\\\\\frac{\\sqrt{3} \\left(b - 2 d_{3}\\right) \\sin{\\left(\\theta_{{3}{2}} \\right)}}{4}\\\\\\frac{\\left(- b + 2 d_{3}\\right) \\sin{\\left(\\theta_{{3}{2}} \\right)}}{4}\\\\\\left(- \\frac{b}{2} + d_{3}\\right) \\cos{\\left(\\theta_{{3}{2}} \\right)}\\end{matrix}\\right], \\  \\left[\\begin{matrix}\\frac{\\sqrt{3} \\cos{\\left(\\theta_{{3}{2}} \\right)}}{2}\\\\- \\frac{\\cos{\\left(\\theta_{{3}{2}} \\right)}}{2}\\\\\\sin{\\left(\\theta_{{3}{2}} \\right)}\\\\- \\frac{\\sqrt{3} \\left(b + 2 d_{3}\\right) \\sin{\\left(\\theta_{{3}{2}} \\right)}}{4}\\\\\\frac{\\left(b + 2 d_{3}\\right) \\sin{\\left(\\theta_{{3}{2}} \\right)}}{4}\\\\\\left(\\frac{b}{2} + d_{3}\\right) \\cos{\\left(\\theta_{{3}{2}} \\right)}\\end{matrix}\\right], \\  \\left[\\begin{matrix}\\frac{\\sqrt{3} \\cos{\\left(\\theta_{{3}{2}} \\right)}}{2}\\\\- \\frac{\\cos{\\left(\\theta_{{3}{2}} \\right)}}{2}\\\\\\sin{\\left(\\theta_{{3}{2}} \\right)}\\\\- \\frac{\\sqrt{3} L \\sin{\\left(\\theta_{{3}{2}} \\right)} \\cos{\\left(\\theta_{{3}{3}} \\right)}}{2} - \\frac{L \\sin{\\left(\\theta_{{3}{3}} \\right)}}{2} + \\frac{\\sqrt{3} b \\sin{\\left(\\theta_{{3}{2}} \\right)}}{4} - \\frac{\\sqrt{3} d_{3} \\sin{\\left(\\theta_{{3}{2}} \\right)}}{2}\\\\\\frac{L \\sin{\\left(\\theta_{{3}{2}} \\right)} \\cos{\\left(\\theta_{{3}{3}} \\right)}}{2} - \\frac{\\sqrt{3} L \\sin{\\left(\\theta_{{3}{3}} \\right)}}{2} - \\frac{b \\sin{\\left(\\theta_{{3}{2}} \\right)}}{4} + \\frac{d_{3} \\sin{\\left(\\theta_{{3}{2}} \\right)}}{2}\\\\\\left(L \\cos{\\left(\\theta_{{3}{3}} \\right)} - \\frac{b}{2} + d_{3}\\right) \\cos{\\left(\\theta_{{3}{2}} \\right)}\\end{matrix}\\right], \\  \\left[\\begin{matrix}\\frac{\\sqrt{3} \\cos{\\left(\\theta_{{3}{2}} \\right)}}{2}\\\\- \\frac{\\cos{\\left(\\theta_{{3}{2}} \\right)}}{2}\\\\\\sin{\\left(\\theta_{{3}{2}} \\right)}\\\\- \\frac{\\sqrt{3} L \\sin{\\left(\\theta_{{3}{2}} \\right)} \\cos{\\left(\\theta_{{3}{3}} \\right)}}{2} - \\frac{L \\sin{\\left(\\theta_{{3}{3}} \\right)}}{2} - \\frac{\\sqrt{3} b \\sin{\\left(\\theta_{{3}{2}} \\right)}}{4} - \\frac{\\sqrt{3} d_{3} \\sin{\\left(\\theta_{{3}{2}} \\right)}}{2}\\\\\\frac{L \\sin{\\left(\\theta_{{3}{2}} \\right)} \\cos{\\left(\\theta_{{3}{3}} \\right)}}{2} - \\frac{\\sqrt{3} L \\sin{\\left(\\theta_{{3}{3}} \\right)}}{2} + \\frac{b \\sin{\\left(\\theta_{{3}{2}} \\right)}}{4} + \\frac{d_{3} \\sin{\\left(\\theta_{{3}{2}} \\right)}}{2}\\\\\\left(L \\cos{\\left(\\theta_{{3}{3}} \\right)} + \\frac{b}{2} + d_{3}\\right) \\cos{\\left(\\theta_{{3}{2}} \\right)}\\end{matrix}\\right], \\  \\left[\\begin{matrix}- \\frac{1}{2}\\\\- \\frac{\\sqrt{3}}{2}\\\\0\\\\- \\frac{\\sqrt{3} L \\sin{\\left(\\theta_{{3}{3}} \\right)} \\cos{\\left(\\theta_{{3}{2}} \\right)}}{2}\\\\\\frac{L \\sin{\\left(\\theta_{{3}{3}} \\right)} \\cos{\\left(\\theta_{{3}{2}} \\right)}}{2}\\\\- L \\sin{\\left(\\theta_{{3}{2}} \\right)} \\sin{\\left(\\theta_{{3}{3}} \\right)}\\end{matrix}\\right]\\right]$"
      ],
      "text/plain": [
       "⎡                ⎡       √3⋅cos(\\theta_{{3}{2}})       ⎤  ⎡        √3⋅cos(\\the\n",
       "⎢                ⎢       ───────────────────────       ⎥  ⎢        ───────────\n",
       "⎢                ⎢                  2                  ⎥  ⎢                   \n",
       "⎢                ⎢                                     ⎥  ⎢                   \n",
       "⎢⎡ 0  ⎤  ⎡-1/2⎤  ⎢       -cos(\\theta_{{3}{2}})         ⎥  ⎢        -cos(\\theta\n",
       "⎢⎢    ⎥  ⎢    ⎥  ⎢       ──────────────────────        ⎥  ⎢        ───────────\n",
       "⎢⎢ 0  ⎥  ⎢-√3 ⎥  ⎢                 2                   ⎥  ⎢                  2\n",
       "⎢⎢    ⎥  ⎢────⎥  ⎢                                     ⎥  ⎢                   \n",
       "⎢⎢ 0  ⎥  ⎢ 2  ⎥  ⎢        sin(\\theta_{{3}{2}})         ⎥  ⎢         sin(\\theta\n",
       "⎢⎢    ⎥  ⎢    ⎥  ⎢                                     ⎥  ⎢                   \n",
       "⎢⎢-1/2⎥, ⎢ 0  ⎥, ⎢√3⋅(b - 2⋅d_{3})⋅sin(\\theta_{{3}{2}})⎥, ⎢-√3⋅(b + 2⋅d_{3})⋅s\n",
       "⎢⎢    ⎥  ⎢    ⎥  ⎢─────────────────────────────────────⎥  ⎢───────────────────\n",
       "⎢⎢-√3 ⎥  ⎢ 0  ⎥  ⎢                  4                  ⎥  ⎢                   \n",
       "⎢⎢────⎥  ⎢    ⎥  ⎢                                     ⎥  ⎢                   \n",
       "⎢⎢ 2  ⎥  ⎢ 0  ⎥  ⎢ (-b + 2⋅d_{3})⋅sin(\\theta_{{3}{2}}) ⎥  ⎢  (b + 2⋅d_{3})⋅sin\n",
       "⎢⎢    ⎥  ⎢    ⎥  ⎢ ─────────────────────────────────── ⎥  ⎢  ─────────────────\n",
       "⎢⎣ 0  ⎦  ⎣ 0  ⎦  ⎢                  4                  ⎥  ⎢                  4\n",
       "⎢                ⎢                                     ⎥  ⎢                   \n",
       "⎢                ⎢ ⎛  b        ⎞                       ⎥  ⎢   ⎛b        ⎞     \n",
       "⎢                ⎢ ⎜- ─ + d_{3}⎟⋅cos(\\theta_{{3}{2}})  ⎥  ⎢   ⎜─ + d_{3}⎟⋅cos(\n",
       "⎣                ⎣ ⎝  2        ⎠                       ⎦  ⎣   ⎝2        ⎠     \n",
       "\n",
       "ta_{{3}{2}})        ⎤  ⎡                                                      \n",
       "────────────        ⎥  ⎢                                                      \n",
       "2                   ⎥  ⎢                                                      \n",
       "                    ⎥  ⎢                                                      \n",
       "_{{3}{2}})          ⎥  ⎢                                                      \n",
       "───────────         ⎥  ⎢                                                      \n",
       "                    ⎥  ⎢                                                      \n",
       "                    ⎥  ⎢                                                      \n",
       "_{{3}{2}})          ⎥  ⎢                                                      \n",
       "                    ⎥  ⎢                                                      \n",
       "in(\\theta_{{3}{2}}) ⎥, ⎢  √3⋅L⋅sin(\\theta_{{3}{2}})⋅cos(\\theta_{{3}{3}})   L⋅s\n",
       "────────────────────⎥  ⎢- ────────────────────────────────────────────── - ───\n",
       "4                   ⎥  ⎢                        2                             \n",
       "                    ⎥  ⎢                                                      \n",
       "(\\theta_{{3}{2}})   ⎥  ⎢    L⋅sin(\\theta_{{3}{2}})⋅cos(\\theta_{{3}{3}})   √3⋅L\n",
       "─────────────────   ⎥  ⎢    ─────────────────────────────────────────── - ────\n",
       "                    ⎥  ⎢                         2                            \n",
       "                    ⎥  ⎢                                                      \n",
       "                    ⎥  ⎢                                      ⎛               \n",
       "\\theta_{{3}{2}})    ⎥  ⎢                                      ⎜L⋅cos(\\theta_{{\n",
       "                    ⎦  ⎣                                      ⎝               \n",
       "\n",
       " √3⋅cos(\\theta_{{3}{2}})                                                      \n",
       " ───────────────────────                                                      \n",
       "            2                                                                 \n",
       "                                                                              \n",
       " -cos(\\theta_{{3}{2}})                                                        \n",
       " ──────────────────────                                                       \n",
       "           2                                                                  \n",
       "                                                                              \n",
       "  sin(\\theta_{{3}{2}})                                                        \n",
       "                                                                              \n",
       "in(\\theta_{{3}{3}})   √3⋅b⋅sin(\\theta_{{3}{2}})   √3⋅d_{3}⋅sin(\\theta_{{3}{2}}\n",
       "─────────────────── + ───────────────────────── - ────────────────────────────\n",
       "       2                          4                             2             \n",
       "                                                                              \n",
       "⋅sin(\\theta_{{3}{3}})   b⋅sin(\\theta_{{3}{2}})   d_{3}⋅sin(\\theta_{{3}{2}})   \n",
       "───────────────────── - ────────────────────── + ──────────────────────────   \n",
       "        2                         4                          2                \n",
       "                                                                              \n",
       "          b        ⎞                                                          \n",
       "3}{3}}) - ─ + d_{3}⎟⋅cos(\\theta_{{3}{2}})                                     \n",
       "          2        ⎠                                                          \n",
       "\n",
       " ⎤  ⎡                                                       √3⋅cos(\\theta_{{3}\n",
       " ⎥  ⎢                                                       ──────────────────\n",
       " ⎥  ⎢                                                                  2      \n",
       " ⎥  ⎢                                                                         \n",
       " ⎥  ⎢                                                       -cos(\\theta_{{3}{2\n",
       " ⎥  ⎢                                                       ──────────────────\n",
       " ⎥  ⎢                                                                 2       \n",
       " ⎥  ⎢                                                                         \n",
       " ⎥  ⎢                                                        sin(\\theta_{{3}{2\n",
       " ⎥  ⎢                                                                         \n",
       ")⎥, ⎢  √3⋅L⋅sin(\\theta_{{3}{2}})⋅cos(\\theta_{{3}{3}})   L⋅sin(\\theta_{{3}{3}})\n",
       "─⎥  ⎢- ────────────────────────────────────────────── - ──────────────────────\n",
       " ⎥  ⎢                        2                                    2           \n",
       " ⎥  ⎢                                                                         \n",
       " ⎥  ⎢    L⋅sin(\\theta_{{3}{2}})⋅cos(\\theta_{{3}{3}})   √3⋅L⋅sin(\\theta_{{3}{3}\n",
       " ⎥  ⎢    ─────────────────────────────────────────── - ───────────────────────\n",
       " ⎥  ⎢                         2                                    2          \n",
       " ⎥  ⎢                                                                         \n",
       " ⎥  ⎢                                      ⎛                         b        \n",
       " ⎥  ⎢                                      ⎜L⋅cos(\\theta_{{3}{3}}) + ─ + d_{3}\n",
       " ⎦  ⎣                                      ⎝                         2        \n",
       "\n",
       "{2}})                                                       ⎤                 \n",
       "─────                                                       ⎥                 \n",
       "                                                            ⎥  ⎡              \n",
       "                                                            ⎥  ⎢              \n",
       "}})                                                         ⎥  ⎢              \n",
       "────                                                        ⎥  ⎢              \n",
       "                                                            ⎥  ⎢              \n",
       "                                                            ⎥  ⎢              \n",
       "}})                                                         ⎥  ⎢              \n",
       "                                                            ⎥  ⎢              \n",
       "   √3⋅b⋅sin(\\theta_{{3}{2}})   √3⋅d_{3}⋅sin(\\theta_{{3}{2}})⎥, ⎢-√3⋅L⋅sin(\\the\n",
       " - ───────────────────────── - ─────────────────────────────⎥  ⎢──────────────\n",
       "               4                             2              ⎥  ⎢              \n",
       "                                                            ⎥  ⎢              \n",
       "})   b⋅sin(\\theta_{{3}{2}})   d_{3}⋅sin(\\theta_{{3}{2}})    ⎥  ⎢  L⋅sin(\\theta\n",
       "── + ────────────────────── + ──────────────────────────    ⎥  ⎢  ────────────\n",
       "               4                          2                 ⎥  ⎢              \n",
       "                                                            ⎥  ⎢              \n",
       "⎞                                                           ⎥  ⎣  -L⋅sin(\\thet\n",
       "⎟⋅cos(\\theta_{{3}{2}})                                      ⎥                 \n",
       "⎠                                                           ⎦                 \n",
       "\n",
       "                                   ⎤\n",
       "                                   ⎥\n",
       "        -1/2                      ⎤⎥\n",
       "                                  ⎥⎥\n",
       "        -√3                       ⎥⎥\n",
       "        ────                      ⎥⎥\n",
       "         2                        ⎥⎥\n",
       "                                  ⎥⎥\n",
       "         0                        ⎥⎥\n",
       "                                  ⎥⎥\n",
       "ta_{{3}{3}})⋅cos(\\theta_{{3}{2}}) ⎥⎥\n",
       "──────────────────────────────────⎥⎥\n",
       "         2                        ⎥⎥\n",
       "                                  ⎥⎥\n",
       "_{{3}{3}})⋅cos(\\theta_{{3}{2}})   ⎥⎥\n",
       "───────────────────────────────   ⎥⎥\n",
       "         2                        ⎥⎥\n",
       "                                  ⎥⎥\n",
       "a_{{3}{2}})⋅sin(\\theta_{{3}{3}})  ⎦⎥\n",
       "                                   ⎥\n",
       "                                   ⎦"
      ]
     },
     "metadata": {},
     "output_type": "display_data"
    },
    {
     "name": "stdout",
     "output_type": "stream",
     "text": [
      "\n",
      "\n",
      "Limb Wrench System\n",
      "==================\n",
      "Limb:  1\n"
     ]
    },
    {
     "data": {
      "text/latex": [
       "$\\displaystyle \\left[ \\left[\\begin{matrix}0\\\\0\\\\0\\\\0\\\\- \\tan{\\left(\\theta_{{1}{2}} \\right)}\\\\1\\end{matrix}\\right]\\right]$"
      ],
      "text/plain": [
       "⎡⎡          0          ⎤⎤\n",
       "⎢⎢                     ⎥⎥\n",
       "⎢⎢          0          ⎥⎥\n",
       "⎢⎢                     ⎥⎥\n",
       "⎢⎢          0          ⎥⎥\n",
       "⎢⎢                     ⎥⎥\n",
       "⎢⎢          0          ⎥⎥\n",
       "⎢⎢                     ⎥⎥\n",
       "⎢⎢-tan(\\theta_{{1}{2}})⎥⎥\n",
       "⎢⎢                     ⎥⎥\n",
       "⎣⎣          1          ⎦⎦"
      ]
     },
     "metadata": {},
     "output_type": "display_data"
    },
    {
     "name": "stdout",
     "output_type": "stream",
     "text": [
      "Limb:  2\n"
     ]
    },
    {
     "data": {
      "text/latex": [
       "$\\displaystyle \\left[ \\left[\\begin{matrix}0\\\\0\\\\0\\\\\\frac{\\sqrt{3} \\tan{\\left(\\theta_{{2}{2}} \\right)}}{2}\\\\\\frac{\\tan{\\left(\\theta_{{2}{2}} \\right)}}{2}\\\\1\\end{matrix}\\right]\\right]$"
      ],
      "text/plain": [
       "⎡⎡           0           ⎤⎤\n",
       "⎢⎢                       ⎥⎥\n",
       "⎢⎢           0           ⎥⎥\n",
       "⎢⎢                       ⎥⎥\n",
       "⎢⎢           0           ⎥⎥\n",
       "⎢⎢                       ⎥⎥\n",
       "⎢⎢√3⋅tan(\\theta_{{2}{2}})⎥⎥\n",
       "⎢⎢───────────────────────⎥⎥\n",
       "⎢⎢           2           ⎥⎥\n",
       "⎢⎢                       ⎥⎥\n",
       "⎢⎢ tan(\\theta_{{2}{2}})  ⎥⎥\n",
       "⎢⎢ ────────────────────  ⎥⎥\n",
       "⎢⎢          2            ⎥⎥\n",
       "⎢⎢                       ⎥⎥\n",
       "⎣⎣           1           ⎦⎦"
      ]
     },
     "metadata": {},
     "output_type": "display_data"
    },
    {
     "name": "stdout",
     "output_type": "stream",
     "text": [
      "Limb:  3\n"
     ]
    },
    {
     "data": {
      "text/latex": [
       "$\\displaystyle \\left[ \\left[\\begin{matrix}0\\\\0\\\\0\\\\- \\frac{\\sqrt{3} \\tan{\\left(\\theta_{{3}{2}} \\right)}}{2}\\\\\\frac{\\tan{\\left(\\theta_{{3}{2}} \\right)}}{2}\\\\1\\end{matrix}\\right]\\right]$"
      ],
      "text/plain": [
       "⎡⎡            0            ⎤⎤\n",
       "⎢⎢                         ⎥⎥\n",
       "⎢⎢            0            ⎥⎥\n",
       "⎢⎢                         ⎥⎥\n",
       "⎢⎢            0            ⎥⎥\n",
       "⎢⎢                         ⎥⎥\n",
       "⎢⎢-√3⋅tan(\\theta_{{3}{2}}) ⎥⎥\n",
       "⎢⎢─────────────────────────⎥⎥\n",
       "⎢⎢            2            ⎥⎥\n",
       "⎢⎢                         ⎥⎥\n",
       "⎢⎢  tan(\\theta_{{3}{2}})   ⎥⎥\n",
       "⎢⎢  ────────────────────   ⎥⎥\n",
       "⎢⎢           2             ⎥⎥\n",
       "⎢⎢                         ⎥⎥\n",
       "⎣⎣            1            ⎦⎦"
      ]
     },
     "metadata": {},
     "output_type": "display_data"
    },
    {
     "name": "stdout",
     "output_type": "stream",
     "text": [
      "\n",
      "\n",
      "Platform Wrench System\n",
      "======================\n"
     ]
    },
    {
     "data": {
      "text/latex": [
       "$\\displaystyle \\left[ \\left[\\begin{matrix}0\\\\0\\\\0\\\\0\\\\- \\tan{\\left(\\theta_{{1}{2}} \\right)}\\\\1\\end{matrix}\\right], \\  \\left[\\begin{matrix}0\\\\0\\\\0\\\\\\frac{\\sqrt{3} \\tan{\\left(\\theta_{{2}{2}} \\right)}}{2}\\\\\\frac{\\tan{\\left(\\theta_{{2}{2}} \\right)}}{2}\\\\1\\end{matrix}\\right], \\  \\left[\\begin{matrix}0\\\\0\\\\0\\\\- \\frac{\\sqrt{3} \\tan{\\left(\\theta_{{3}{2}} \\right)}}{2}\\\\\\frac{\\tan{\\left(\\theta_{{3}{2}} \\right)}}{2}\\\\1\\end{matrix}\\right]\\right]$"
      ],
      "text/plain": [
       "⎡                         ⎡           0           ⎤  ⎡            0           \n",
       "⎢                         ⎢                       ⎥  ⎢                        \n",
       "⎢⎡          0          ⎤  ⎢           0           ⎥  ⎢            0           \n",
       "⎢⎢                     ⎥  ⎢                       ⎥  ⎢                        \n",
       "⎢⎢          0          ⎥  ⎢           0           ⎥  ⎢            0           \n",
       "⎢⎢                     ⎥  ⎢                       ⎥  ⎢                        \n",
       "⎢⎢          0          ⎥  ⎢√3⋅tan(\\theta_{{2}{2}})⎥  ⎢-√3⋅tan(\\theta_{{3}{2}})\n",
       "⎢⎢                     ⎥, ⎢───────────────────────⎥, ⎢────────────────────────\n",
       "⎢⎢          0          ⎥  ⎢           2           ⎥  ⎢            2           \n",
       "⎢⎢                     ⎥  ⎢                       ⎥  ⎢                        \n",
       "⎢⎢-tan(\\theta_{{1}{2}})⎥  ⎢ tan(\\theta_{{2}{2}})  ⎥  ⎢  tan(\\theta_{{3}{2}})  \n",
       "⎢⎢                     ⎥  ⎢ ────────────────────  ⎥  ⎢  ────────────────────  \n",
       "⎢⎣          1          ⎦  ⎢          2            ⎥  ⎢           2            \n",
       "⎢                         ⎢                       ⎥  ⎢                        \n",
       "⎣                         ⎣           1           ⎦  ⎣            1           \n",
       "\n",
       " ⎤⎤\n",
       " ⎥⎥\n",
       " ⎥⎥\n",
       " ⎥⎥\n",
       " ⎥⎥\n",
       " ⎥⎥\n",
       " ⎥⎥\n",
       "─⎥⎥\n",
       " ⎥⎥\n",
       " ⎥⎥\n",
       " ⎥⎥\n",
       " ⎥⎥\n",
       " ⎥⎥\n",
       " ⎥⎥\n",
       " ⎦⎦"
      ]
     },
     "metadata": {},
     "output_type": "display_data"
    },
    {
     "name": "stdout",
     "output_type": "stream",
     "text": [
      "\n",
      "\n",
      "Platform Twist System\n",
      "=====================\n"
     ]
    },
    {
     "data": {
      "text/latex": [
       "$\\displaystyle \\left[ \\left[\\begin{matrix}0\\\\0\\\\0\\\\1\\\\0\\\\0\\end{matrix}\\right], \\  \\left[\\begin{matrix}0\\\\0\\\\0\\\\0\\\\1\\\\0\\end{matrix}\\right], \\  \\left[\\begin{matrix}0\\\\0\\\\0\\\\0\\\\0\\\\1\\end{matrix}\\right]\\right]$"
      ],
      "text/plain": [
       "⎡⎡0⎤  ⎡0⎤  ⎡0⎤⎤\n",
       "⎢⎢ ⎥  ⎢ ⎥  ⎢ ⎥⎥\n",
       "⎢⎢0⎥  ⎢0⎥  ⎢0⎥⎥\n",
       "⎢⎢ ⎥  ⎢ ⎥  ⎢ ⎥⎥\n",
       "⎢⎢0⎥  ⎢0⎥  ⎢0⎥⎥\n",
       "⎢⎢ ⎥, ⎢ ⎥, ⎢ ⎥⎥\n",
       "⎢⎢1⎥  ⎢0⎥  ⎢0⎥⎥\n",
       "⎢⎢ ⎥  ⎢ ⎥  ⎢ ⎥⎥\n",
       "⎢⎢0⎥  ⎢1⎥  ⎢0⎥⎥\n",
       "⎢⎢ ⎥  ⎢ ⎥  ⎢ ⎥⎥\n",
       "⎣⎣0⎦  ⎣0⎦  ⎣1⎦⎦"
      ]
     },
     "metadata": {},
     "output_type": "display_data"
    }
   ],
   "source": [
    "all_screw_system(Mobility_PM_3PRPaR)"
   ]
  },
  {
   "cell_type": "markdown",
   "metadata": {
    "slideshow": {
     "slide_type": "slide"
    }
   },
   "source": [
    "### 3.3. 4-PRRU Parallel Manipulators"
   ]
  },
  {
   "cell_type": "markdown",
   "metadata": {},
   "source": [
    "The geometry of manipulator\n",
    "\n",
    "<img src=\"./img/5_PM_4PRRU.png\" width=\"512\" />"
   ]
  },
  {
   "cell_type": "markdown",
   "metadata": {},
   "source": [
    "**Examining the mobility with Grübler-Kutzbach mobility formula**"
   ]
  },
  {
   "cell_type": "code",
   "execution_count": 17,
   "metadata": {},
   "outputs": [
    {
     "name": "stdout",
     "output_type": "stream",
     "text": [
      "Mobility of 4-PRRU using Grübler-Kutzbach mobility formulas: 2\n"
     ]
    }
   ],
   "source": [
    "n = 1 + 4 * 3 + 1\n",
    "j = 4 * 4\n",
    "Sigma_fi = 4 * (3 + 2)\n",
    "print(\"Mobility of 4-PRRU using Grübler-Kutzbach mobility formulas: \" \\\n",
    "      + str(Mobility_GK(n, j, Sigma_fi)))"
   ]
  },
  {
   "cell_type": "markdown",
   "metadata": {},
   "source": [
    "**The zeroth step:** A user defined for ${\\bf{r}}_{ij}$, ${\\bf{s}}_{ij}$ and $h_{ij}$ of 4-PRRU PM."
   ]
  },
  {
   "cell_type": "code",
   "execution_count": 18,
   "metadata": {
    "slideshow": {
     "slide_type": "subslide"
    }
   },
   "outputs": [],
   "source": [
    "def PM_4PRRU():\n",
    "    # Number of limbs\n",
    "    n_limbs = 4\n",
    "    # Declaring sympy symbol for its kinematic parameter\n",
    "    R, a, b, alpha = sym.symbols(\"R a b \\\\alpha\")\n",
    "    # Joint displacement and/or joint angular displacement\n",
    "    act_spc = sym.symbols(\"d_{1:\"+str(n_limbs+1)+\"}\")\n",
    "    thetas = sym.symbols(\"\\\\theta_{{1:\"+str(n_limbs+1)+\"}{2:6}}\")\n",
    "    lambdas = sym.symbols(\"\\\\lambda_{1:\"+str(n_limbs+1)+\"}\")\n",
    "    lambdas_subs = dict(zip(lambdas, [0, sym.pi/2, sym.pi, 3*sym.pi/2]))\n",
    "    # The unit vector of a unit screw pointing at for each limb\n",
    "    _s = [mat.Matrix([0, 0, 1]),\n",
    "          mat.Matrix([0, 1, 0]),\n",
    "          mat.Matrix([0, 1, 0]),\n",
    "          mat.Matrix([0, 1, 0]),\n",
    "          mat.Matrix([0, 0, 1])]\n",
    "    # pitch of the each joint for every limb\n",
    "    _h = [sym.oo,] + 4 * [0,]    \n",
    "    # A fixed reference of frame O-XYZ\n",
    "    G = mec.ReferenceFrame(\"G\")\n",
    "    # Within this loop, it is constructed all parameters required for \n",
    "    # mobility calculation\n",
    "    list_of_parameters = [] # Variable for containing all parameters \n",
    "                            # required for mobility calculation\n",
    "    kk = len(thetas)//n_limbs\n",
    "    for ii in range(n_limbs):\n",
    "        # Moving reference of frame\n",
    "        H = G.orientnew(\"H\"+str(ii+1), \"Axis\", \n",
    "                        [lambdas[ii].subs(lambdas_subs), G.z])\n",
    "        K = G.orientnew(\"K\"+str(ii+1), \"Axis\", [alpha, G.x])\n",
    "        N = G.orientnew(\"N\"+str(ii+1), \"Axis\",\n",
    "                        [thetas[ii*kk], K.y])\n",
    "        Q = G.orientnew(\"Q\"+str(ii+1), \"Axis\",\n",
    "                        [thetas[ii*kk+1], K.y])\n",
    "        # Position vector OA, AB, and BC in fixed reference of frame\n",
    "        rOA = G.dcm(H) * mat.Matrix([R, 0, act_spc[ii]])\n",
    "        rAB = G.dcm(H) * (G.dcm(K) * (G.dcm(N) * mat.Matrix([a, 0, 0])))\n",
    "        rBC = G.dcm(H) * (G.dcm(N) * (G.dcm(N) * mat.Matrix([b, 0, 0])))\n",
    "        # Contruct all parameters for each limb\n",
    "        s_limb = []\n",
    "        for jj, item in enumerate(_s):\n",
    "            if jj in [1, 2, 3]:\n",
    "                item = G.dcm(K) * item\n",
    "            item = G.dcm(H) * item\n",
    "            if jj in [0, 1]:\n",
    "                _r = rOA\n",
    "            elif jj == 2:\n",
    "                _r = rOA + rAB\n",
    "            elif jj in [3, 4]:\n",
    "                _r = rOA + rAB + rBC\n",
    "            s_limb.append([item, _r, _h[jj]])      \n",
    "        list_of_parameters.append(s_limb)\n",
    "    return list_of_parameters\n"
   ]
  },
  {
   "cell_type": "markdown",
   "metadata": {},
   "source": [
    "**The first to fourth step:**"
   ]
  },
  {
   "cell_type": "code",
   "execution_count": 19,
   "metadata": {},
   "outputs": [],
   "source": [
    "Mobility_PM_4PRRU = s4m.ManipulatorsMobility(PM_4PRRU(), \"4-PRRU Parallel Manipulators\")"
   ]
  },
  {
   "cell_type": "markdown",
   "metadata": {},
   "source": [
    "**Displaying the result from the first to fourth step:** "
   ]
  },
  {
   "cell_type": "code",
   "execution_count": 20,
   "metadata": {},
   "outputs": [
    {
     "name": "stdout",
     "output_type": "stream",
     "text": [
      "Limb Twist System\n",
      "=================\n",
      "Limb:  1\n"
     ]
    },
    {
     "data": {
      "text/latex": [
       "$\\displaystyle \\left[ \\left[\\begin{matrix}0\\\\0\\\\0\\\\0\\\\0\\\\1\\end{matrix}\\right], \\  \\left[\\begin{matrix}0\\\\\\cos{\\left(\\alpha \\right)}\\\\\\sin{\\left(\\alpha \\right)}\\\\- d_{1} \\cos{\\left(\\alpha \\right)}\\\\- R \\sin{\\left(\\alpha \\right)}\\\\R \\cos{\\left(\\alpha \\right)}\\end{matrix}\\right], \\  \\left[\\begin{matrix}0\\\\\\cos{\\left(\\alpha \\right)}\\\\\\sin{\\left(\\alpha \\right)}\\\\\\left(a \\sin{\\left(\\theta_{{1}{2}} \\right)} - d_{1}\\right) \\cos{\\left(\\alpha \\right)}\\\\- \\left(R + a \\cos{\\left(\\theta_{{1}{2}} \\right)}\\right) \\sin{\\left(\\alpha \\right)}\\\\\\left(R + a \\cos{\\left(\\theta_{{1}{2}} \\right)}\\right) \\cos{\\left(\\alpha \\right)}\\end{matrix}\\right], \\  \\left[\\begin{matrix}0\\\\\\cos{\\left(\\alpha \\right)}\\\\\\sin{\\left(\\alpha \\right)}\\\\a \\sin{\\left(\\theta_{{1}{2}} \\right)} \\cos{\\left(\\alpha \\right)} + 2 b \\sin{\\left(\\theta_{{1}{2}} \\right)} \\cos{\\left(\\theta_{{1}{2}} \\right)} - d_{1} \\cos{\\left(\\alpha \\right)}\\\\\\left(- R - a \\cos{\\left(\\theta_{{1}{2}} \\right)} - 2 b \\cos^{2}{\\left(\\theta_{{1}{2}} \\right)} + b\\right) \\sin{\\left(\\alpha \\right)}\\\\\\left(R + a \\cos{\\left(\\theta_{{1}{2}} \\right)} - 2 b \\sin^{2}{\\left(\\theta_{{1}{2}} \\right)} + b\\right) \\cos{\\left(\\alpha \\right)}\\end{matrix}\\right], \\  \\left[\\begin{matrix}0\\\\0\\\\1\\\\2 \\left(a \\cos{\\left(\\alpha \\right)} + b \\cos{\\left(\\theta_{{1}{2}} \\right)}\\right) \\sin{\\left(\\alpha \\right)} \\sin{\\left(\\theta_{{1}{2}} \\right)}\\\\- R - a \\cos{\\left(\\theta_{{1}{2}} \\right)} - 2 b \\cos^{2}{\\left(\\theta_{{1}{2}} \\right)} + b\\\\0\\end{matrix}\\right]\\right]$"
      ],
      "text/plain": [
       "⎡                                                                           ⎡ \n",
       "⎢⎡0⎤  ⎡        0         ⎤  ⎡                     0                      ⎤  ⎢ \n",
       "⎢⎢ ⎥  ⎢                  ⎥  ⎢                                            ⎥  ⎢ \n",
       "⎢⎢0⎥  ⎢   cos(\\alpha)    ⎥  ⎢                cos(\\alpha)                 ⎥  ⎢ \n",
       "⎢⎢ ⎥  ⎢                  ⎥  ⎢                                            ⎥  ⎢ \n",
       "⎢⎢0⎥  ⎢   sin(\\alpha)    ⎥  ⎢                sin(\\alpha)                 ⎥  ⎢ \n",
       "⎢⎢ ⎥, ⎢                  ⎥, ⎢                                            ⎥, ⎢a\n",
       "⎢⎢0⎥  ⎢-d_{1}⋅cos(\\alpha)⎥  ⎢(a⋅sin(\\theta_{{1}{2}}) - d_{1})⋅cos(\\alpha)⎥  ⎢ \n",
       "⎢⎢ ⎥  ⎢                  ⎥  ⎢                                            ⎥  ⎢ \n",
       "⎢⎢0⎥  ⎢  -R⋅sin(\\alpha)  ⎥  ⎢ -(R + a⋅cos(\\theta_{{1}{2}}))⋅sin(\\alpha)  ⎥  ⎢ \n",
       "⎢⎢ ⎥  ⎢                  ⎥  ⎢                                            ⎥  ⎢ \n",
       "⎢⎣1⎦  ⎣  R⋅cos(\\alpha)   ⎦  ⎣  (R + a⋅cos(\\theta_{{1}{2}}))⋅cos(\\alpha)  ⎦  ⎢ \n",
       "⎣                                                                           ⎣ \n",
       "\n",
       "                                                 0                            \n",
       "                                                                              \n",
       "                                            cos(\\alpha)                       \n",
       "                                                                              \n",
       "                                            sin(\\alpha)                       \n",
       "                                                                              \n",
       "⋅sin(\\theta_{{1}{2}})⋅cos(\\alpha) + 2⋅b⋅sin(\\theta_{{1}{2}})⋅cos(\\theta_{{1}{2\n",
       "                                                                              \n",
       "             ⎛                                     2                     ⎞    \n",
       "             ⎝-R - a⋅cos(\\theta_{{1}{2}}) - 2⋅b⋅cos (\\theta_{{1}{2}}) + b⎠⋅sin\n",
       "                                                                              \n",
       "              ⎛                                    2                     ⎞    \n",
       "              ⎝R + a⋅cos(\\theta_{{1}{2}}) - 2⋅b⋅sin (\\theta_{{1}{2}}) + b⎠⋅cos\n",
       "\n",
       "                       ⎤  ⎡                                     0             \n",
       "                       ⎥  ⎢                                                   \n",
       "                       ⎥  ⎢                                     0             \n",
       "                       ⎥  ⎢                                                   \n",
       "                       ⎥  ⎢                                     1             \n",
       "                       ⎥  ⎢                                                   \n",
       "}}) - d_{1}⋅cos(\\alpha)⎥, ⎢2⋅(a⋅cos(\\alpha) + b⋅cos(\\theta_{{1}{2}}))⋅sin(\\alp\n",
       "                       ⎥  ⎢                                                   \n",
       "                       ⎥  ⎢                                             2     \n",
       "(\\alpha)               ⎥  ⎢        -R - a⋅cos(\\theta_{{1}{2}}) - 2⋅b⋅cos (\\the\n",
       "                       ⎥  ⎢                                                   \n",
       "                       ⎥  ⎣                                     0             \n",
       "(\\alpha)               ⎦                                                      \n",
       "\n",
       "                        ⎤⎤\n",
       "                        ⎥⎥\n",
       "                        ⎥⎥\n",
       "                        ⎥⎥\n",
       "                        ⎥⎥\n",
       "                        ⎥⎥\n",
       "ha)⋅sin(\\theta_{{1}{2}})⎥⎥\n",
       "                        ⎥⎥\n",
       "                        ⎥⎥\n",
       "ta_{{1}{2}}) + b        ⎥⎥\n",
       "                        ⎥⎥\n",
       "                        ⎦⎥\n",
       "                         ⎦"
      ]
     },
     "metadata": {},
     "output_type": "display_data"
    },
    {
     "name": "stdout",
     "output_type": "stream",
     "text": [
      "Limb:  2\n"
     ]
    },
    {
     "data": {
      "text/latex": [
       "$\\displaystyle \\left[ \\left[\\begin{matrix}0\\\\0\\\\0\\\\0\\\\0\\\\1\\end{matrix}\\right], \\  \\left[\\begin{matrix}- \\cos{\\left(\\alpha \\right)}\\\\0\\\\\\sin{\\left(\\alpha \\right)}\\\\R \\sin{\\left(\\alpha \\right)}\\\\- d_{2} \\cos{\\left(\\alpha \\right)}\\\\R \\cos{\\left(\\alpha \\right)}\\end{matrix}\\right], \\  \\left[\\begin{matrix}- \\cos{\\left(\\alpha \\right)}\\\\0\\\\\\sin{\\left(\\alpha \\right)}\\\\\\left(R + a \\cos{\\left(\\theta_{{2}{2}} \\right)}\\right) \\sin{\\left(\\alpha \\right)}\\\\\\left(a \\sin{\\left(\\theta_{{2}{2}} \\right)} - d_{2}\\right) \\cos{\\left(\\alpha \\right)}\\\\\\left(R + a \\cos{\\left(\\theta_{{2}{2}} \\right)}\\right) \\cos{\\left(\\alpha \\right)}\\end{matrix}\\right], \\  \\left[\\begin{matrix}- \\cos{\\left(\\alpha \\right)}\\\\0\\\\\\sin{\\left(\\alpha \\right)}\\\\\\left(R + a \\cos{\\left(\\theta_{{2}{2}} \\right)} - 2 b \\sin^{2}{\\left(\\theta_{{2}{2}} \\right)} + b\\right) \\sin{\\left(\\alpha \\right)}\\\\a \\sin{\\left(\\theta_{{2}{2}} \\right)} \\cos{\\left(\\alpha \\right)} + 2 b \\sin{\\left(\\theta_{{2}{2}} \\right)} \\cos{\\left(\\theta_{{2}{2}} \\right)} - d_{2} \\cos{\\left(\\alpha \\right)}\\\\\\left(R + a \\cos{\\left(\\theta_{{2}{2}} \\right)} - 2 b \\sin^{2}{\\left(\\theta_{{2}{2}} \\right)} + b\\right) \\cos{\\left(\\alpha \\right)}\\end{matrix}\\right], \\  \\left[\\begin{matrix}0\\\\0\\\\1\\\\R + a \\cos{\\left(\\theta_{{2}{2}} \\right)} - 2 b \\sin^{2}{\\left(\\theta_{{2}{2}} \\right)} + b\\\\2 \\left(a \\cos{\\left(\\alpha \\right)} + b \\cos{\\left(\\theta_{{2}{2}} \\right)}\\right) \\sin{\\left(\\alpha \\right)} \\sin{\\left(\\theta_{{2}{2}} \\right)}\\\\0\\end{matrix}\\right]\\right]$"
      ],
      "text/plain": [
       "⎡                                                                           ⎡ \n",
       "⎢⎡0⎤  ⎡   -cos(\\alpha)   ⎤  ⎡                -cos(\\alpha)                ⎤  ⎢ \n",
       "⎢⎢ ⎥  ⎢                  ⎥  ⎢                                            ⎥  ⎢ \n",
       "⎢⎢0⎥  ⎢        0         ⎥  ⎢                     0                      ⎥  ⎢ \n",
       "⎢⎢ ⎥  ⎢                  ⎥  ⎢                                            ⎥  ⎢ \n",
       "⎢⎢0⎥  ⎢   sin(\\alpha)    ⎥  ⎢                sin(\\alpha)                 ⎥  ⎢ \n",
       "⎢⎢ ⎥, ⎢                  ⎥, ⎢                                            ⎥, ⎢ \n",
       "⎢⎢0⎥  ⎢  R⋅sin(\\alpha)   ⎥  ⎢  (R + a⋅cos(\\theta_{{2}{2}}))⋅sin(\\alpha)  ⎥  ⎢ \n",
       "⎢⎢ ⎥  ⎢                  ⎥  ⎢                                            ⎥  ⎢ \n",
       "⎢⎢0⎥  ⎢-d_{2}⋅cos(\\alpha)⎥  ⎢(a⋅sin(\\theta_{{2}{2}}) - d_{2})⋅cos(\\alpha)⎥  ⎢a\n",
       "⎢⎢ ⎥  ⎢                  ⎥  ⎢                                            ⎥  ⎢ \n",
       "⎢⎣1⎦  ⎣  R⋅cos(\\alpha)   ⎦  ⎣  (R + a⋅cos(\\theta_{{2}{2}}))⋅cos(\\alpha)  ⎦  ⎢ \n",
       "⎣                                                                           ⎣ \n",
       "\n",
       "                                            -cos(\\alpha)                      \n",
       "                                                                              \n",
       "                                                 0                            \n",
       "                                                                              \n",
       "                                            sin(\\alpha)                       \n",
       "                                                                              \n",
       "              ⎛                                    2                     ⎞    \n",
       "              ⎝R + a⋅cos(\\theta_{{2}{2}}) - 2⋅b⋅sin (\\theta_{{2}{2}}) + b⎠⋅sin\n",
       "                                                                              \n",
       "⋅sin(\\theta_{{2}{2}})⋅cos(\\alpha) + 2⋅b⋅sin(\\theta_{{2}{2}})⋅cos(\\theta_{{2}{2\n",
       "                                                                              \n",
       "              ⎛                                    2                     ⎞    \n",
       "              ⎝R + a⋅cos(\\theta_{{2}{2}}) - 2⋅b⋅sin (\\theta_{{2}{2}}) + b⎠⋅cos\n",
       "\n",
       "                       ⎤  ⎡                                     0             \n",
       "                       ⎥  ⎢                                                   \n",
       "                       ⎥  ⎢                                     0             \n",
       "                       ⎥  ⎢                                                   \n",
       "                       ⎥  ⎢                                     1             \n",
       "                       ⎥  ⎢                                                   \n",
       "                       ⎥, ⎢                                            2      \n",
       "(\\alpha)               ⎥  ⎢        R + a⋅cos(\\theta_{{2}{2}}) - 2⋅b⋅sin (\\thet\n",
       "                       ⎥  ⎢                                                   \n",
       "}}) - d_{2}⋅cos(\\alpha)⎥  ⎢2⋅(a⋅cos(\\alpha) + b⋅cos(\\theta_{{2}{2}}))⋅sin(\\alp\n",
       "                       ⎥  ⎢                                                   \n",
       "                       ⎥  ⎣                                     0             \n",
       "(\\alpha)               ⎦                                                      \n",
       "\n",
       "                        ⎤⎤\n",
       "                        ⎥⎥\n",
       "                        ⎥⎥\n",
       "                        ⎥⎥\n",
       "                        ⎥⎥\n",
       "                        ⎥⎥\n",
       "                        ⎥⎥\n",
       "a_{{2}{2}}) + b         ⎥⎥\n",
       "                        ⎥⎥\n",
       "ha)⋅sin(\\theta_{{2}{2}})⎥⎥\n",
       "                        ⎥⎥\n",
       "                        ⎦⎥\n",
       "                         ⎦"
      ]
     },
     "metadata": {},
     "output_type": "display_data"
    },
    {
     "name": "stdout",
     "output_type": "stream",
     "text": [
      "Limb:  3\n"
     ]
    },
    {
     "data": {
      "text/latex": [
       "$\\displaystyle \\left[ \\left[\\begin{matrix}0\\\\0\\\\0\\\\0\\\\0\\\\1\\end{matrix}\\right], \\  \\left[\\begin{matrix}0\\\\- \\cos{\\left(\\alpha \\right)}\\\\\\sin{\\left(\\alpha \\right)}\\\\d_{3} \\cos{\\left(\\alpha \\right)}\\\\R \\sin{\\left(\\alpha \\right)}\\\\R \\cos{\\left(\\alpha \\right)}\\end{matrix}\\right], \\  \\left[\\begin{matrix}0\\\\- \\cos{\\left(\\alpha \\right)}\\\\\\sin{\\left(\\alpha \\right)}\\\\\\left(- a \\sin{\\left(\\theta_{{3}{2}} \\right)} + d_{3}\\right) \\cos{\\left(\\alpha \\right)}\\\\\\left(R + a \\cos{\\left(\\theta_{{3}{2}} \\right)}\\right) \\sin{\\left(\\alpha \\right)}\\\\\\left(R + a \\cos{\\left(\\theta_{{3}{2}} \\right)}\\right) \\cos{\\left(\\alpha \\right)}\\end{matrix}\\right], \\  \\left[\\begin{matrix}0\\\\- \\cos{\\left(\\alpha \\right)}\\\\\\sin{\\left(\\alpha \\right)}\\\\- a \\sin{\\left(\\theta_{{3}{2}} \\right)} \\cos{\\left(\\alpha \\right)} - 2 b \\sin{\\left(\\theta_{{3}{2}} \\right)} \\cos{\\left(\\theta_{{3}{2}} \\right)} + d_{3} \\cos{\\left(\\alpha \\right)}\\\\\\left(R + a \\cos{\\left(\\theta_{{3}{2}} \\right)} - 2 b \\sin^{2}{\\left(\\theta_{{3}{2}} \\right)} + b\\right) \\sin{\\left(\\alpha \\right)}\\\\\\left(R + a \\cos{\\left(\\theta_{{3}{2}} \\right)} - 2 b \\sin^{2}{\\left(\\theta_{{3}{2}} \\right)} + b\\right) \\cos{\\left(\\alpha \\right)}\\end{matrix}\\right], \\  \\left[\\begin{matrix}0\\\\0\\\\1\\\\- 2 \\left(a \\cos{\\left(\\alpha \\right)} + b \\cos{\\left(\\theta_{{3}{2}} \\right)}\\right) \\sin{\\left(\\alpha \\right)} \\sin{\\left(\\theta_{{3}{2}} \\right)}\\\\R + a \\cos{\\left(\\theta_{{3}{2}} \\right)} - 2 b \\sin^{2}{\\left(\\theta_{{3}{2}} \\right)} + b\\\\0\\end{matrix}\\right]\\right]$"
      ],
      "text/plain": [
       "⎡                                                                           ⎡ \n",
       "⎢⎡0⎤  ⎡        0        ⎤  ⎡                      0                      ⎤  ⎢ \n",
       "⎢⎢ ⎥  ⎢                 ⎥  ⎢                                             ⎥  ⎢ \n",
       "⎢⎢0⎥  ⎢  -cos(\\alpha)   ⎥  ⎢                -cos(\\alpha)                 ⎥  ⎢ \n",
       "⎢⎢ ⎥  ⎢                 ⎥  ⎢                                             ⎥  ⎢ \n",
       "⎢⎢0⎥  ⎢   sin(\\alpha)   ⎥  ⎢                 sin(\\alpha)                 ⎥  ⎢ \n",
       "⎢⎢ ⎥, ⎢                 ⎥, ⎢                                             ⎥, ⎢-\n",
       "⎢⎢0⎥  ⎢d_{3}⋅cos(\\alpha)⎥  ⎢(-a⋅sin(\\theta_{{3}{2}}) + d_{3})⋅cos(\\alpha)⎥  ⎢ \n",
       "⎢⎢ ⎥  ⎢                 ⎥  ⎢                                             ⎥  ⎢ \n",
       "⎢⎢0⎥  ⎢  R⋅sin(\\alpha)  ⎥  ⎢  (R + a⋅cos(\\theta_{{3}{2}}))⋅sin(\\alpha)   ⎥  ⎢ \n",
       "⎢⎢ ⎥  ⎢                 ⎥  ⎢                                             ⎥  ⎢ \n",
       "⎢⎣1⎦  ⎣  R⋅cos(\\alpha)  ⎦  ⎣  (R + a⋅cos(\\theta_{{3}{2}}))⋅cos(\\alpha)   ⎦  ⎢ \n",
       "⎣                                                                           ⎣ \n",
       "\n",
       "                                                  0                           \n",
       "                                                                              \n",
       "                                            -cos(\\alpha)                      \n",
       "                                                                              \n",
       "                                             sin(\\alpha)                      \n",
       "                                                                              \n",
       "a⋅sin(\\theta_{{3}{2}})⋅cos(\\alpha) - 2⋅b⋅sin(\\theta_{{3}{2}})⋅cos(\\theta_{{3}{\n",
       "                                                                              \n",
       "              ⎛                                    2                     ⎞    \n",
       "              ⎝R + a⋅cos(\\theta_{{3}{2}}) - 2⋅b⋅sin (\\theta_{{3}{2}}) + b⎠⋅sin\n",
       "                                                                              \n",
       "              ⎛                                    2                     ⎞    \n",
       "              ⎝R + a⋅cos(\\theta_{{3}{2}}) - 2⋅b⋅sin (\\theta_{{3}{2}}) + b⎠⋅cos\n",
       "\n",
       "                        ⎤  ⎡                                     0            \n",
       "                        ⎥  ⎢                                                  \n",
       "                        ⎥  ⎢                                     0            \n",
       "                        ⎥  ⎢                                                  \n",
       "                        ⎥  ⎢                                     1            \n",
       "                        ⎥  ⎢                                                  \n",
       "2}}) + d_{3}⋅cos(\\alpha)⎥, ⎢-2⋅(a⋅cos(\\alpha) + b⋅cos(\\theta_{{3}{2}}))⋅sin(\\a\n",
       "                        ⎥  ⎢                                                  \n",
       "                        ⎥  ⎢                                             2    \n",
       "(\\alpha)                ⎥  ⎢         R + a⋅cos(\\theta_{{3}{2}}) - 2⋅b⋅sin (\\th\n",
       "                        ⎥  ⎢                                                  \n",
       "                        ⎥  ⎣                                     0            \n",
       "(\\alpha)                ⎦                                                     \n",
       "\n",
       "                          ⎤⎤\n",
       "                          ⎥⎥\n",
       "                          ⎥⎥\n",
       "                          ⎥⎥\n",
       "                          ⎥⎥\n",
       "                          ⎥⎥\n",
       "lpha)⋅sin(\\theta_{{3}{2}})⎥⎥\n",
       "                          ⎥⎥\n",
       "                          ⎥⎥\n",
       "eta_{{3}{2}}) + b         ⎥⎥\n",
       "                          ⎥⎥\n",
       "                          ⎦⎥\n",
       "                           ⎦"
      ]
     },
     "metadata": {},
     "output_type": "display_data"
    },
    {
     "name": "stdout",
     "output_type": "stream",
     "text": [
      "Limb:  4\n"
     ]
    },
    {
     "data": {
      "text/latex": [
       "$\\displaystyle \\left[ \\left[\\begin{matrix}0\\\\0\\\\0\\\\0\\\\0\\\\1\\end{matrix}\\right], \\  \\left[\\begin{matrix}\\cos{\\left(\\alpha \\right)}\\\\0\\\\\\sin{\\left(\\alpha \\right)}\\\\- R \\sin{\\left(\\alpha \\right)}\\\\d_{4} \\cos{\\left(\\alpha \\right)}\\\\R \\cos{\\left(\\alpha \\right)}\\end{matrix}\\right], \\  \\left[\\begin{matrix}\\cos{\\left(\\alpha \\right)}\\\\0\\\\\\sin{\\left(\\alpha \\right)}\\\\- \\left(R + a \\cos{\\left(\\theta_{{4}{2}} \\right)}\\right) \\sin{\\left(\\alpha \\right)}\\\\\\left(- a \\sin{\\left(\\theta_{{4}{2}} \\right)} + d_{4}\\right) \\cos{\\left(\\alpha \\right)}\\\\\\left(R + a \\cos{\\left(\\theta_{{4}{2}} \\right)}\\right) \\cos{\\left(\\alpha \\right)}\\end{matrix}\\right], \\  \\left[\\begin{matrix}\\cos{\\left(\\alpha \\right)}\\\\0\\\\\\sin{\\left(\\alpha \\right)}\\\\\\left(- R - a \\cos{\\left(\\theta_{{4}{2}} \\right)} - 2 b \\cos^{2}{\\left(\\theta_{{4}{2}} \\right)} + b\\right) \\sin{\\left(\\alpha \\right)}\\\\- a \\sin{\\left(\\theta_{{4}{2}} \\right)} \\cos{\\left(\\alpha \\right)} - 2 b \\sin{\\left(\\theta_{{4}{2}} \\right)} \\cos{\\left(\\theta_{{4}{2}} \\right)} + d_{4} \\cos{\\left(\\alpha \\right)}\\\\\\left(R + a \\cos{\\left(\\theta_{{4}{2}} \\right)} - 2 b \\sin^{2}{\\left(\\theta_{{4}{2}} \\right)} + b\\right) \\cos{\\left(\\alpha \\right)}\\end{matrix}\\right], \\  \\left[\\begin{matrix}0\\\\0\\\\1\\\\- R - a \\cos{\\left(\\theta_{{4}{2}} \\right)} - 2 b \\cos^{2}{\\left(\\theta_{{4}{2}} \\right)} + b\\\\- 2 \\left(a \\cos{\\left(\\alpha \\right)} + b \\cos{\\left(\\theta_{{4}{2}} \\right)}\\right) \\sin{\\left(\\alpha \\right)} \\sin{\\left(\\theta_{{4}{2}} \\right)}\\\\0\\end{matrix}\\right]\\right]$"
      ],
      "text/plain": [
       "⎡                                                                           ⎡ \n",
       "⎢⎡0⎤  ⎡   cos(\\alpha)   ⎤  ⎡                 cos(\\alpha)                 ⎤  ⎢ \n",
       "⎢⎢ ⎥  ⎢                 ⎥  ⎢                                             ⎥  ⎢ \n",
       "⎢⎢0⎥  ⎢        0        ⎥  ⎢                      0                      ⎥  ⎢ \n",
       "⎢⎢ ⎥  ⎢                 ⎥  ⎢                                             ⎥  ⎢ \n",
       "⎢⎢0⎥  ⎢   sin(\\alpha)   ⎥  ⎢                 sin(\\alpha)                 ⎥  ⎢ \n",
       "⎢⎢ ⎥, ⎢                 ⎥, ⎢                                             ⎥, ⎢ \n",
       "⎢⎢0⎥  ⎢ -R⋅sin(\\alpha)  ⎥  ⎢  -(R + a⋅cos(\\theta_{{4}{2}}))⋅sin(\\alpha)  ⎥  ⎢ \n",
       "⎢⎢ ⎥  ⎢                 ⎥  ⎢                                             ⎥  ⎢ \n",
       "⎢⎢0⎥  ⎢d_{4}⋅cos(\\alpha)⎥  ⎢(-a⋅sin(\\theta_{{4}{2}}) + d_{4})⋅cos(\\alpha)⎥  ⎢-\n",
       "⎢⎢ ⎥  ⎢                 ⎥  ⎢                                             ⎥  ⎢ \n",
       "⎢⎣1⎦  ⎣  R⋅cos(\\alpha)  ⎦  ⎣  (R + a⋅cos(\\theta_{{4}{2}}))⋅cos(\\alpha)   ⎦  ⎢ \n",
       "⎣                                                                           ⎣ \n",
       "\n",
       "                                             cos(\\alpha)                      \n",
       "                                                                              \n",
       "                                                  0                           \n",
       "                                                                              \n",
       "                                             sin(\\alpha)                      \n",
       "                                                                              \n",
       "              ⎛                                     2                     ⎞   \n",
       "              ⎝-R - a⋅cos(\\theta_{{4}{2}}) - 2⋅b⋅cos (\\theta_{{4}{2}}) + b⎠⋅si\n",
       "                                                                              \n",
       "a⋅sin(\\theta_{{4}{2}})⋅cos(\\alpha) - 2⋅b⋅sin(\\theta_{{4}{2}})⋅cos(\\theta_{{4}{\n",
       "                                                                              \n",
       "              ⎛                                    2                     ⎞    \n",
       "              ⎝R + a⋅cos(\\theta_{{4}{2}}) - 2⋅b⋅sin (\\theta_{{4}{2}}) + b⎠⋅cos\n",
       "\n",
       "                        ⎤  ⎡                                     0            \n",
       "                        ⎥  ⎢                                                  \n",
       "                        ⎥  ⎢                                     0            \n",
       "                        ⎥  ⎢                                                  \n",
       "                        ⎥  ⎢                                     1            \n",
       "                        ⎥  ⎢                                                  \n",
       "                        ⎥, ⎢                                             2    \n",
       "n(\\alpha)               ⎥  ⎢        -R - a⋅cos(\\theta_{{4}{2}}) - 2⋅b⋅cos (\\th\n",
       "                        ⎥  ⎢                                                  \n",
       "2}}) + d_{4}⋅cos(\\alpha)⎥  ⎢-2⋅(a⋅cos(\\alpha) + b⋅cos(\\theta_{{4}{2}}))⋅sin(\\a\n",
       "                        ⎥  ⎢                                                  \n",
       "                        ⎥  ⎣                                     0            \n",
       "(\\alpha)                ⎦                                                     \n",
       "\n",
       "                          ⎤⎤\n",
       "                          ⎥⎥\n",
       "                          ⎥⎥\n",
       "                          ⎥⎥\n",
       "                          ⎥⎥\n",
       "                          ⎥⎥\n",
       "                          ⎥⎥\n",
       "eta_{{4}{2}}) + b         ⎥⎥\n",
       "                          ⎥⎥\n",
       "lpha)⋅sin(\\theta_{{4}{2}})⎥⎥\n",
       "                          ⎥⎥\n",
       "                          ⎦⎥\n",
       "                           ⎦"
      ]
     },
     "metadata": {},
     "output_type": "display_data"
    },
    {
     "name": "stdout",
     "output_type": "stream",
     "text": [
      "\n",
      "\n",
      "Limb Wrench System\n",
      "==================\n",
      "Limb:  1\n"
     ]
    },
    {
     "data": {
      "text/latex": [
       "$\\displaystyle \\left[ \\left[\\begin{matrix}0\\\\0\\\\0\\\\1\\\\0\\\\0\\end{matrix}\\right]\\right]$"
      ],
      "text/plain": [
       "⎡⎡0⎤⎤\n",
       "⎢⎢ ⎥⎥\n",
       "⎢⎢0⎥⎥\n",
       "⎢⎢ ⎥⎥\n",
       "⎢⎢0⎥⎥\n",
       "⎢⎢ ⎥⎥\n",
       "⎢⎢1⎥⎥\n",
       "⎢⎢ ⎥⎥\n",
       "⎢⎢0⎥⎥\n",
       "⎢⎢ ⎥⎥\n",
       "⎣⎣0⎦⎦"
      ]
     },
     "metadata": {},
     "output_type": "display_data"
    },
    {
     "name": "stdout",
     "output_type": "stream",
     "text": [
      "Limb:  2\n"
     ]
    },
    {
     "data": {
      "text/latex": [
       "$\\displaystyle \\left[ \\left[\\begin{matrix}0\\\\0\\\\0\\\\0\\\\1\\\\0\\end{matrix}\\right]\\right]$"
      ],
      "text/plain": [
       "⎡⎡0⎤⎤\n",
       "⎢⎢ ⎥⎥\n",
       "⎢⎢0⎥⎥\n",
       "⎢⎢ ⎥⎥\n",
       "⎢⎢0⎥⎥\n",
       "⎢⎢ ⎥⎥\n",
       "⎢⎢0⎥⎥\n",
       "⎢⎢ ⎥⎥\n",
       "⎢⎢1⎥⎥\n",
       "⎢⎢ ⎥⎥\n",
       "⎣⎣0⎦⎦"
      ]
     },
     "metadata": {},
     "output_type": "display_data"
    },
    {
     "name": "stdout",
     "output_type": "stream",
     "text": [
      "Limb:  3\n"
     ]
    },
    {
     "data": {
      "text/latex": [
       "$\\displaystyle \\left[ \\left[\\begin{matrix}0\\\\0\\\\0\\\\1\\\\0\\\\0\\end{matrix}\\right]\\right]$"
      ],
      "text/plain": [
       "⎡⎡0⎤⎤\n",
       "⎢⎢ ⎥⎥\n",
       "⎢⎢0⎥⎥\n",
       "⎢⎢ ⎥⎥\n",
       "⎢⎢0⎥⎥\n",
       "⎢⎢ ⎥⎥\n",
       "⎢⎢1⎥⎥\n",
       "⎢⎢ ⎥⎥\n",
       "⎢⎢0⎥⎥\n",
       "⎢⎢ ⎥⎥\n",
       "⎣⎣0⎦⎦"
      ]
     },
     "metadata": {},
     "output_type": "display_data"
    },
    {
     "name": "stdout",
     "output_type": "stream",
     "text": [
      "Limb:  4\n"
     ]
    },
    {
     "data": {
      "text/latex": [
       "$\\displaystyle \\left[ \\left[\\begin{matrix}0\\\\0\\\\0\\\\0\\\\1\\\\0\\end{matrix}\\right]\\right]$"
      ],
      "text/plain": [
       "⎡⎡0⎤⎤\n",
       "⎢⎢ ⎥⎥\n",
       "⎢⎢0⎥⎥\n",
       "⎢⎢ ⎥⎥\n",
       "⎢⎢0⎥⎥\n",
       "⎢⎢ ⎥⎥\n",
       "⎢⎢0⎥⎥\n",
       "⎢⎢ ⎥⎥\n",
       "⎢⎢1⎥⎥\n",
       "⎢⎢ ⎥⎥\n",
       "⎣⎣0⎦⎦"
      ]
     },
     "metadata": {},
     "output_type": "display_data"
    },
    {
     "name": "stdout",
     "output_type": "stream",
     "text": [
      "\n",
      "\n",
      "Platform Wrench System\n",
      "======================\n"
     ]
    },
    {
     "data": {
      "text/latex": [
       "$\\displaystyle \\left[ \\left[\\begin{matrix}0\\\\0\\\\0\\\\1\\\\0\\\\0\\end{matrix}\\right], \\  \\left[\\begin{matrix}0\\\\0\\\\0\\\\0\\\\1\\\\0\\end{matrix}\\right]\\right]$"
      ],
      "text/plain": [
       "⎡⎡0⎤  ⎡0⎤⎤\n",
       "⎢⎢ ⎥  ⎢ ⎥⎥\n",
       "⎢⎢0⎥  ⎢0⎥⎥\n",
       "⎢⎢ ⎥  ⎢ ⎥⎥\n",
       "⎢⎢0⎥  ⎢0⎥⎥\n",
       "⎢⎢ ⎥, ⎢ ⎥⎥\n",
       "⎢⎢1⎥  ⎢0⎥⎥\n",
       "⎢⎢ ⎥  ⎢ ⎥⎥\n",
       "⎢⎢0⎥  ⎢1⎥⎥\n",
       "⎢⎢ ⎥  ⎢ ⎥⎥\n",
       "⎣⎣0⎦  ⎣0⎦⎦"
      ]
     },
     "metadata": {},
     "output_type": "display_data"
    },
    {
     "name": "stdout",
     "output_type": "stream",
     "text": [
      "\n",
      "\n",
      "Platform Twist System\n",
      "=====================\n"
     ]
    },
    {
     "data": {
      "text/latex": [
       "$\\displaystyle \\left[ \\left[\\begin{matrix}0\\\\0\\\\0\\\\1\\\\0\\\\0\\end{matrix}\\right], \\  \\left[\\begin{matrix}0\\\\0\\\\0\\\\0\\\\1\\\\0\\end{matrix}\\right], \\  \\left[\\begin{matrix}0\\\\0\\\\0\\\\0\\\\0\\\\1\\end{matrix}\\right], \\  \\left[\\begin{matrix}0\\\\0\\\\1\\\\0\\\\0\\\\0\\end{matrix}\\right]\\right]$"
      ],
      "text/plain": [
       "⎡⎡0⎤  ⎡0⎤  ⎡0⎤  ⎡0⎤⎤\n",
       "⎢⎢ ⎥  ⎢ ⎥  ⎢ ⎥  ⎢ ⎥⎥\n",
       "⎢⎢0⎥  ⎢0⎥  ⎢0⎥  ⎢0⎥⎥\n",
       "⎢⎢ ⎥  ⎢ ⎥  ⎢ ⎥  ⎢ ⎥⎥\n",
       "⎢⎢0⎥  ⎢0⎥  ⎢0⎥  ⎢1⎥⎥\n",
       "⎢⎢ ⎥, ⎢ ⎥, ⎢ ⎥, ⎢ ⎥⎥\n",
       "⎢⎢1⎥  ⎢0⎥  ⎢0⎥  ⎢0⎥⎥\n",
       "⎢⎢ ⎥  ⎢ ⎥  ⎢ ⎥  ⎢ ⎥⎥\n",
       "⎢⎢0⎥  ⎢1⎥  ⎢0⎥  ⎢0⎥⎥\n",
       "⎢⎢ ⎥  ⎢ ⎥  ⎢ ⎥  ⎢ ⎥⎥\n",
       "⎣⎣0⎦  ⎣0⎦  ⎣1⎦  ⎣0⎦⎦"
      ]
     },
     "metadata": {},
     "output_type": "display_data"
    }
   ],
   "source": [
    "all_screw_system(Mobility_PM_4PRRU)"
   ]
  },
  {
   "cell_type": "markdown",
   "metadata": {
    "slideshow": {
     "slide_type": "slide"
    }
   },
   "source": [
    "### 3.4. 6-UPS Parallel Manipulators"
   ]
  },
  {
   "cell_type": "markdown",
   "metadata": {},
   "source": [
    "The geometry of manipulator\n",
    "\n",
    "<img src=\"./img/6_PM_6UPS.PNG\" width=\"512\" />"
   ]
  },
  {
   "cell_type": "markdown",
   "metadata": {},
   "source": [
    "**Examining the mobility with Grübler-Kutzbach mobility formula**"
   ]
  },
  {
   "cell_type": "code",
   "execution_count": 21,
   "metadata": {},
   "outputs": [
    {
     "name": "stdout",
     "output_type": "stream",
     "text": [
      "Mobility of 6-UPS using Grübler-Kutzbach mobility formulas: 6\n"
     ]
    }
   ],
   "source": [
    "n = 1 + 6 * 2 + 1\n",
    "j = 6 * 3\n",
    "Sigma_fi = 6 * (2 + 1 + 3)\n",
    "print(\"Mobility of 6-UPS using Grübler-Kutzbach mobility formulas: \" \\\n",
    "      + str(Mobility_GK(n, j, Sigma_fi)))"
   ]
  },
  {
   "cell_type": "markdown",
   "metadata": {},
   "source": [
    "**The zeroth step:** A user defined for ${\\bf{r}}_{ij}$, ${\\bf{s}}_{ij}$ and $h_{ij}$ of 6-UPS PM."
   ]
  },
  {
   "cell_type": "code",
   "execution_count": 22,
   "metadata": {
    "slideshow": {
     "slide_type": "subslide"
    }
   },
   "outputs": [],
   "source": [
    "def PM_6UPS():\n",
    "    # Number of limbs\n",
    "    n_limbs = 6\n",
    "    # Declaring sympy symbol for its kinematic parameter\n",
    "    R, r = sym.symbols(\"R r\")\n",
    "    # Joint displacement and/or joint angular displacement\n",
    "    act_spc = sym.symbols(\"d_{1:\"+str(n_limbs+1)+\"}\")\n",
    "    thetas = sym.symbols(\"\\\\theta_{{1:\"+str(n_limbs+1)+\"}{1:6}}\")\n",
    "    lambdas = sym.symbols(\"\\\\lambda_{1:\"+str(n_limbs+1)+\"}\")\n",
    "    lambdas_subs = dict(zip(lambdas, [ii*sym.pi/3 for ii in range(n_limbs)]))\n",
    "    # The unit vector of a unit screw pointing at for each limb\n",
    "    _s = [mat.Matrix([1, 0, 0]),\n",
    "          mat.Matrix([0, 1, 0]),\n",
    "          mat.Matrix([0, 0, 1]),\n",
    "          mat.Matrix([1, 0, 0]),\n",
    "          mat.Matrix([0, 1, 0]),\n",
    "          mat.Matrix([0, 0, 1])]\n",
    "    # pitch of the each joint for every limb\n",
    "    _h = 2 * [0,] + [sym.oo,] + 3 * [0,]\n",
    "    # A fixed reference of frame O-XYZ\n",
    "    G = mec.ReferenceFrame(\"G\")\n",
    "    # Within this loop, it is constructed all parameters required for \n",
    "    # mobility calculation\n",
    "    list_of_parameters = [] # Variable for containing all parameters \n",
    "                            # required for mobility calculation\n",
    "    kk = len(thetas)//n_limbs\n",
    "    for ii in range(n_limbs):\n",
    "        # Moving reference of frame\n",
    "        H = G.orientnew(\"H\"+str(ii+1), \"Axis\", \n",
    "                        [lambdas[ii].subs(lambdas_subs), G.z])\n",
    "        K = G.orientnew(\"K\"+str(ii+1), \"Axis\", [thetas[ii*kk], G.x])\n",
    "        N = K.orientnew(\"N\"+str(ii+1), \"Axis\", [thetas[ii*kk+1], K.y])\n",
    "        # Position vector AB in fixed reference of frame\n",
    "        rAB = G.dcm(H) * (G.dcm(K) * mat.Matrix([0, 0, act_spc[ii]]))\n",
    "        # Contruct all parameters for each limb\n",
    "        s_limb = []\n",
    "        for jj, item in enumerate(_s):\n",
    "            if jj == 1:\n",
    "                item = G.dcm(K) * item\n",
    "            elif jj in [2, 3, 4, 5]:\n",
    "                item = G.dcm(N) * item\n",
    "            item = G.dcm(H) * item\n",
    "            _r = G.dcm(H) * mat.Matrix([R, 0, 0])\n",
    "            if jj in [3, 4, 5]:\n",
    "                _r += rAB           \n",
    "            s_limb.append([item, _r, _h[jj]])\n",
    "        list_of_parameters.append(s_limb) \n",
    "    return list_of_parameters\n"
   ]
  },
  {
   "cell_type": "markdown",
   "metadata": {},
   "source": [
    "**The first to fourth step:**"
   ]
  },
  {
   "cell_type": "code",
   "execution_count": 23,
   "metadata": {},
   "outputs": [],
   "source": [
    "Mobility_PM_6UPS = s4m.ManipulatorsMobility(PM_6UPS(), \"6-UPS Parallel Manipulators\")"
   ]
  },
  {
   "cell_type": "code",
   "execution_count": 24,
   "metadata": {},
   "outputs": [
    {
     "data": {
      "text/plain": [
       "{'Number': 6,\n",
       " 'Type': '3T3R',\n",
       " 'Direction': ['Tx', 'Ty', 'Tz', 'Rx', 'Ry', 'Rz']}"
      ]
     },
     "execution_count": 24,
     "metadata": {},
     "output_type": "execute_result"
    }
   ],
   "source": [
    "Mobility_PM_6UPS.Mobility"
   ]
  },
  {
   "cell_type": "markdown",
   "metadata": {},
   "source": [
    "**Displaying the result from the first to fourth step:** "
   ]
  },
  {
   "cell_type": "code",
   "execution_count": 25,
   "metadata": {
    "scrolled": false
   },
   "outputs": [
    {
     "name": "stdout",
     "output_type": "stream",
     "text": [
      "Limb Twist System\n",
      "=================\n",
      "Limb:  1\n"
     ]
    },
    {
     "data": {
      "text/latex": [
       "$\\displaystyle \\left[ \\left[\\begin{matrix}1\\\\0\\\\0\\\\0\\\\0\\\\0\\end{matrix}\\right], \\  \\left[\\begin{matrix}0\\\\\\cos{\\left(\\theta_{{1}{1}} \\right)}\\\\\\sin{\\left(\\theta_{{1}{1}} \\right)}\\\\0\\\\- R \\sin{\\left(\\theta_{{1}{1}} \\right)}\\\\R \\cos{\\left(\\theta_{{1}{1}} \\right)}\\end{matrix}\\right], \\  \\left[\\begin{matrix}0\\\\0\\\\0\\\\\\sin{\\left(\\theta_{{1}{2}} \\right)}\\\\- \\sin{\\left(\\theta_{{1}{1}} \\right)} \\cos{\\left(\\theta_{{1}{2}} \\right)}\\\\\\cos{\\left(\\theta_{{1}{1}} \\right)} \\cos{\\left(\\theta_{{1}{2}} \\right)}\\end{matrix}\\right], \\  \\left[\\begin{matrix}\\cos{\\left(\\theta_{{1}{2}} \\right)}\\\\\\sin{\\left(\\theta_{{1}{1}} \\right)} \\sin{\\left(\\theta_{{1}{2}} \\right)}\\\\- \\sin{\\left(\\theta_{{1}{2}} \\right)} \\cos{\\left(\\theta_{{1}{1}} \\right)}\\\\0\\\\\\left(R \\sin{\\left(\\theta_{{1}{2}} \\right)} + d_{1} \\cos{\\left(\\theta_{{1}{2}} \\right)}\\right) \\cos{\\left(\\theta_{{1}{1}} \\right)}\\\\\\left(R \\sin{\\left(\\theta_{{1}{2}} \\right)} + d_{1} \\cos{\\left(\\theta_{{1}{2}} \\right)}\\right) \\sin{\\left(\\theta_{{1}{1}} \\right)}\\end{matrix}\\right], \\  \\left[\\begin{matrix}0\\\\\\cos{\\left(\\theta_{{1}{1}} \\right)}\\\\\\sin{\\left(\\theta_{{1}{1}} \\right)}\\\\- d_{1}\\\\- R \\sin{\\left(\\theta_{{1}{1}} \\right)}\\\\R \\cos{\\left(\\theta_{{1}{1}} \\right)}\\end{matrix}\\right], \\  \\left[\\begin{matrix}\\sin{\\left(\\theta_{{1}{2}} \\right)}\\\\- \\sin{\\left(\\theta_{{1}{1}} \\right)} \\cos{\\left(\\theta_{{1}{2}} \\right)}\\\\\\cos{\\left(\\theta_{{1}{1}} \\right)} \\cos{\\left(\\theta_{{1}{2}} \\right)}\\\\0\\\\\\left(- R \\cos{\\left(\\theta_{{1}{2}} \\right)} + d_{1} \\sin{\\left(\\theta_{{1}{2}} \\right)}\\right) \\cos{\\left(\\theta_{{1}{1}} \\right)}\\\\\\left(- R \\cos{\\left(\\theta_{{1}{2}} \\right)} + d_{1} \\sin{\\left(\\theta_{{1}{2}} \\right)}\\right) \\sin{\\left(\\theta_{{1}{1}} \\right)}\\end{matrix}\\right]\\right]$"
      ],
      "text/plain": [
       "⎡⎡1⎤  ⎡           0           ⎤  ⎡                    0                     ⎤ \n",
       "⎢⎢ ⎥  ⎢                       ⎥  ⎢                                          ⎥ \n",
       "⎢⎢0⎥  ⎢ cos(\\theta_{{1}{1}})  ⎥  ⎢                    0                     ⎥ \n",
       "⎢⎢ ⎥  ⎢                       ⎥  ⎢                                          ⎥ \n",
       "⎢⎢0⎥  ⎢ sin(\\theta_{{1}{1}})  ⎥  ⎢                    0                     ⎥ \n",
       "⎢⎢ ⎥, ⎢                       ⎥, ⎢                                          ⎥,\n",
       "⎢⎢0⎥  ⎢           0           ⎥  ⎢           sin(\\theta_{{1}{2}})           ⎥ \n",
       "⎢⎢ ⎥  ⎢                       ⎥  ⎢                                          ⎥ \n",
       "⎢⎢0⎥  ⎢-R⋅sin(\\theta_{{1}{1}})⎥  ⎢-sin(\\theta_{{1}{1}})⋅cos(\\theta_{{1}{2}})⎥ \n",
       "⎢⎢ ⎥  ⎢                       ⎥  ⎢                                          ⎥ \n",
       "⎣⎣0⎦  ⎣R⋅cos(\\theta_{{1}{1}}) ⎦  ⎣cos(\\theta_{{1}{1}})⋅cos(\\theta_{{1}{2}}) ⎦ \n",
       "\n",
       " ⎡                           cos(\\theta_{{1}{2}})                           ⎤ \n",
       " ⎢                                                                          ⎥ \n",
       " ⎢                sin(\\theta_{{1}{1}})⋅sin(\\theta_{{1}{2}})                 ⎥ \n",
       " ⎢                                                                          ⎥ \n",
       " ⎢                -sin(\\theta_{{1}{2}})⋅cos(\\theta_{{1}{1}})                ⎥ \n",
       " ⎢                                                                          ⎥,\n",
       " ⎢                                    0                                     ⎥ \n",
       " ⎢                                                                          ⎥ \n",
       " ⎢(R⋅sin(\\theta_{{1}{2}}) + d_{1}⋅cos(\\theta_{{1}{2}}))⋅cos(\\theta_{{1}{1}})⎥ \n",
       " ⎢                                                                          ⎥ \n",
       " ⎣(R⋅sin(\\theta_{{1}{2}}) + d_{1}⋅cos(\\theta_{{1}{2}}))⋅sin(\\theta_{{1}{1}})⎦ \n",
       "\n",
       " ⎡           0           ⎤  ⎡                           sin(\\theta_{{1}{2}})  \n",
       " ⎢                       ⎥  ⎢                                                 \n",
       " ⎢ cos(\\theta_{{1}{1}})  ⎥  ⎢                -sin(\\theta_{{1}{1}})⋅cos(\\theta_\n",
       " ⎢                       ⎥  ⎢                                                 \n",
       " ⎢ sin(\\theta_{{1}{1}})  ⎥  ⎢                 cos(\\theta_{{1}{1}})⋅cos(\\theta_\n",
       " ⎢                       ⎥, ⎢                                                 \n",
       " ⎢        -d_{1}         ⎥  ⎢                                     0           \n",
       " ⎢                       ⎥  ⎢                                                 \n",
       " ⎢-R⋅sin(\\theta_{{1}{1}})⎥  ⎢(-R⋅cos(\\theta_{{1}{2}}) + d_{1}⋅sin(\\theta_{{1}{\n",
       " ⎢                       ⎥  ⎢                                                 \n",
       " ⎣R⋅cos(\\theta_{{1}{1}}) ⎦  ⎣(-R⋅cos(\\theta_{{1}{2}}) + d_{1}⋅sin(\\theta_{{1}{\n",
       "\n",
       "                          ⎤⎤\n",
       "                          ⎥⎥\n",
       "{{1}{2}})                 ⎥⎥\n",
       "                          ⎥⎥\n",
       "{{1}{2}})                 ⎥⎥\n",
       "                          ⎥⎥\n",
       "                          ⎥⎥\n",
       "                          ⎥⎥\n",
       "2}}))⋅cos(\\theta_{{1}{1}})⎥⎥\n",
       "                          ⎥⎥\n",
       "2}}))⋅sin(\\theta_{{1}{1}})⎦⎦"
      ]
     },
     "metadata": {},
     "output_type": "display_data"
    },
    {
     "name": "stdout",
     "output_type": "stream",
     "text": [
      "Limb:  2\n"
     ]
    },
    {
     "data": {
      "text/latex": [
       "$\\displaystyle \\left[ \\left[\\begin{matrix}\\frac{1}{2}\\\\\\frac{\\sqrt{3}}{2}\\\\0\\\\0\\\\0\\\\0\\end{matrix}\\right], \\  \\left[\\begin{matrix}- \\frac{\\sqrt{3} \\cos{\\left(\\theta_{{2}{1}} \\right)}}{2}\\\\\\frac{\\cos{\\left(\\theta_{{2}{1}} \\right)}}{2}\\\\\\sin{\\left(\\theta_{{2}{1}} \\right)}\\\\\\frac{\\sqrt{3} R \\sin{\\left(\\theta_{{2}{1}} \\right)}}{2}\\\\- \\frac{R \\sin{\\left(\\theta_{{2}{1}} \\right)}}{2}\\\\R \\cos{\\left(\\theta_{{2}{1}} \\right)}\\end{matrix}\\right], \\  \\left[\\begin{matrix}0\\\\0\\\\0\\\\\\frac{\\sqrt{3} \\sin{\\left(\\theta_{{2}{1}} \\right)} \\cos{\\left(\\theta_{{2}{2}} \\right)}}{2} + \\frac{\\sin{\\left(\\theta_{{2}{2}} \\right)}}{2}\\\\- \\frac{\\sin{\\left(\\theta_{{2}{1}} \\right)} \\cos{\\left(\\theta_{{2}{2}} \\right)}}{2} + \\frac{\\sqrt{3} \\sin{\\left(\\theta_{{2}{2}} \\right)}}{2}\\\\\\cos{\\left(\\theta_{{2}{1}} \\right)} \\cos{\\left(\\theta_{{2}{2}} \\right)}\\end{matrix}\\right], \\  \\left[\\begin{matrix}- \\frac{\\sqrt{3} \\sin{\\left(\\theta_{{2}{1}} \\right)} \\sin{\\left(\\theta_{{2}{2}} \\right)}}{2} + \\frac{\\cos{\\left(\\theta_{{2}{2}} \\right)}}{2}\\\\\\frac{\\sin{\\left(\\theta_{{2}{1}} \\right)} \\sin{\\left(\\theta_{{2}{2}} \\right)}}{2} + \\frac{\\sqrt{3} \\cos{\\left(\\theta_{{2}{2}} \\right)}}{2}\\\\- \\sin{\\left(\\theta_{{2}{2}} \\right)} \\cos{\\left(\\theta_{{2}{1}} \\right)}\\\\- \\frac{\\sqrt{3} \\left(R \\sin{\\left(\\theta_{{2}{2}} \\right)} + d_{2} \\cos{\\left(\\theta_{{2}{2}} \\right)}\\right) \\cos{\\left(\\theta_{{2}{1}} \\right)}}{2}\\\\\\frac{\\left(R \\sin{\\left(\\theta_{{2}{2}} \\right)} + d_{2} \\cos{\\left(\\theta_{{2}{2}} \\right)}\\right) \\cos{\\left(\\theta_{{2}{1}} \\right)}}{2}\\\\\\left(R \\sin{\\left(\\theta_{{2}{2}} \\right)} + d_{2} \\cos{\\left(\\theta_{{2}{2}} \\right)}\\right) \\sin{\\left(\\theta_{{2}{1}} \\right)}\\end{matrix}\\right], \\  \\left[\\begin{matrix}- \\frac{\\sqrt{3} \\cos{\\left(\\theta_{{2}{1}} \\right)}}{2}\\\\\\frac{\\cos{\\left(\\theta_{{2}{1}} \\right)}}{2}\\\\\\sin{\\left(\\theta_{{2}{1}} \\right)}\\\\\\frac{\\sqrt{3} R \\sin{\\left(\\theta_{{2}{1}} \\right)}}{2} - \\frac{d_{2}}{2}\\\\- \\frac{R \\sin{\\left(\\theta_{{2}{1}} \\right)}}{2} - \\frac{\\sqrt{3} d_{2}}{2}\\\\R \\cos{\\left(\\theta_{{2}{1}} \\right)}\\end{matrix}\\right], \\  \\left[\\begin{matrix}\\frac{\\sqrt{3} \\sin{\\left(\\theta_{{2}{1}} \\right)} \\cos{\\left(\\theta_{{2}{2}} \\right)}}{2} + \\frac{\\sin{\\left(\\theta_{{2}{2}} \\right)}}{2}\\\\- \\frac{\\sin{\\left(\\theta_{{2}{1}} \\right)} \\cos{\\left(\\theta_{{2}{2}} \\right)}}{2} + \\frac{\\sqrt{3} \\sin{\\left(\\theta_{{2}{2}} \\right)}}{2}\\\\\\cos{\\left(\\theta_{{2}{1}} \\right)} \\cos{\\left(\\theta_{{2}{2}} \\right)}\\\\\\frac{\\sqrt{3} \\left(R \\cos{\\left(\\theta_{{2}{2}} \\right)} - d_{2} \\sin{\\left(\\theta_{{2}{2}} \\right)}\\right) \\cos{\\left(\\theta_{{2}{1}} \\right)}}{2}\\\\\\frac{\\left(- R \\cos{\\left(\\theta_{{2}{2}} \\right)} + d_{2} \\sin{\\left(\\theta_{{2}{2}} \\right)}\\right) \\cos{\\left(\\theta_{{2}{1}} \\right)}}{2}\\\\\\left(- R \\cos{\\left(\\theta_{{2}{2}} \\right)} + d_{2} \\sin{\\left(\\theta_{{2}{2}} \\right)}\\right) \\sin{\\left(\\theta_{{2}{1}} \\right)}\\end{matrix}\\right]\\right]$"
      ],
      "text/plain": [
       "⎡       ⎡-√3⋅cos(\\theta_{{2}{1}}) ⎤                                           \n",
       "⎢       ⎢─────────────────────────⎥                                           \n",
       "⎢       ⎢            2            ⎥  ⎡                                  0     \n",
       "⎢⎡1/2⎤  ⎢                         ⎥  ⎢                                        \n",
       "⎢⎢   ⎥  ⎢  cos(\\theta_{{2}{1}})   ⎥  ⎢                                  0     \n",
       "⎢⎢√3 ⎥  ⎢  ────────────────────   ⎥  ⎢                                        \n",
       "⎢⎢── ⎥  ⎢           2             ⎥  ⎢                                  0     \n",
       "⎢⎢2  ⎥  ⎢                         ⎥  ⎢                                        \n",
       "⎢⎢   ⎥  ⎢  sin(\\theta_{{2}{1}})   ⎥  ⎢ √3⋅sin(\\theta_{{2}{1}})⋅cos(\\theta_{{2}\n",
       "⎢⎢ 0 ⎥, ⎢                         ⎥, ⎢ ───────────────────────────────────────\n",
       "⎢⎢   ⎥  ⎢√3⋅R⋅sin(\\theta_{{2}{1}})⎥  ⎢                      2                 \n",
       "⎢⎢ 0 ⎥  ⎢─────────────────────────⎥  ⎢                                        \n",
       "⎢⎢   ⎥  ⎢            2            ⎥  ⎢  sin(\\theta_{{2}{1}})⋅cos(\\theta_{{2}{2\n",
       "⎢⎢ 0 ⎥  ⎢                         ⎥  ⎢- ──────────────────────────────────────\n",
       "⎢⎢   ⎥  ⎢-R⋅sin(\\theta_{{2}{1}})  ⎥  ⎢                      2                 \n",
       "⎢⎣ 0 ⎦  ⎢──────────────────────── ⎥  ⎢                                        \n",
       "⎢       ⎢           2             ⎥  ⎣              cos(\\theta_{{2}{1}})⋅cos(\\\n",
       "⎢       ⎢                         ⎥                                           \n",
       "⎣       ⎣ R⋅cos(\\theta_{{2}{1}})  ⎦                                           \n",
       "\n",
       "                                ⎡       √3⋅sin(\\theta_{{2}{1}})⋅sin(\\theta_{{2\n",
       "                                ⎢     - ──────────────────────────────────────\n",
       "                             ⎤  ⎢                            2                \n",
       "                             ⎥  ⎢                                             \n",
       "                             ⎥  ⎢      sin(\\theta_{{2}{1}})⋅sin(\\theta_{{2}{2}\n",
       "                             ⎥  ⎢      ───────────────────────────────────────\n",
       "                             ⎥  ⎢                          2                  \n",
       "                             ⎥  ⎢                                             \n",
       "{2}})   sin(\\theta_{{2}{2}}) ⎥  ⎢                  -sin(\\theta_{{2}{2}})⋅cos(\\\n",
       "───── + ──────────────────── ⎥, ⎢                                             \n",
       "                 2           ⎥  ⎢-√3⋅(R⋅sin(\\theta_{{2}{2}}) + d_{2}⋅cos(\\thet\n",
       "                             ⎥  ⎢─────────────────────────────────────────────\n",
       "}})   √3⋅sin(\\theta_{{2}{2}})⎥  ⎢                                       2     \n",
       "─── + ───────────────────────⎥  ⎢                                             \n",
       "                 2           ⎥  ⎢  (R⋅sin(\\theta_{{2}{2}}) + d_{2}⋅cos(\\theta_\n",
       "                             ⎥  ⎢  ───────────────────────────────────────────\n",
       "theta_{{2}{2}})              ⎦  ⎢                                      2      \n",
       "                                ⎢                                             \n",
       "                                ⎣  (R⋅sin(\\theta_{{2}{2}}) + d_{2}⋅cos(\\theta_\n",
       "\n",
       "}{2}})   cos(\\theta_{{2}{2}})     ⎤  ⎡     -√3⋅cos(\\theta_{{2}{1}})      ⎤  ⎡ \n",
       "────── + ────────────────────     ⎥  ⎢     ─────────────────────────     ⎥  ⎢ \n",
       "                  2               ⎥  ⎢                 2                 ⎥  ⎢ \n",
       "                                  ⎥  ⎢                                   ⎥  ⎢ \n",
       "})   √3⋅cos(\\theta_{{2}{2}})      ⎥  ⎢       cos(\\theta_{{2}{1}})        ⎥  ⎢ \n",
       "── + ───────────────────────      ⎥  ⎢       ────────────────────        ⎥  ⎢ \n",
       "                2                 ⎥  ⎢                2                  ⎥  ⎢ \n",
       "                                  ⎥  ⎢                                   ⎥  ⎢ \n",
       "theta_{{2}{1}})                   ⎥  ⎢       sin(\\theta_{{2}{1}})        ⎥  ⎢ \n",
       "                                  ⎥, ⎢                                   ⎥, ⎢ \n",
       "a_{{2}{2}}))⋅cos(\\theta_{{2}{1}}) ⎥  ⎢ √3⋅R⋅sin(\\theta_{{2}{1}})   d_{2} ⎥  ⎢√\n",
       "──────────────────────────────────⎥  ⎢ ───────────────────────── - ───── ⎥  ⎢─\n",
       "                                  ⎥  ⎢             2                 2   ⎥  ⎢ \n",
       "                                  ⎥  ⎢                                   ⎥  ⎢ \n",
       "{{2}{2}}))⋅cos(\\theta_{{2}{1}})   ⎥  ⎢  R⋅sin(\\theta_{{2}{1}})   √3⋅d_{2}⎥  ⎢ \n",
       "───────────────────────────────   ⎥  ⎢- ────────────────────── - ────────⎥  ⎢ \n",
       "                                  ⎥  ⎢            2                 2    ⎥  ⎢ \n",
       "                                  ⎥  ⎢                                   ⎥  ⎢ \n",
       "{{2}{2}}))⋅sin(\\theta_{{2}{1}})   ⎦  ⎣      R⋅cos(\\theta_{{2}{1}})       ⎦  ⎣ \n",
       "\n",
       "    √3⋅sin(\\theta_{{2}{1}})⋅cos(\\theta_{{2}{2}})   sin(\\theta_{{2}{2}})     ⎤⎤\n",
       "    ──────────────────────────────────────────── + ────────────────────     ⎥⎥\n",
       "                         2                                  2               ⎥⎥\n",
       "                                                                            ⎥⎥\n",
       "     sin(\\theta_{{2}{1}})⋅cos(\\theta_{{2}{2}})   √3⋅sin(\\theta_{{2}{2}})    ⎥⎥\n",
       "   - ───────────────────────────────────────── + ───────────────────────    ⎥⎥\n",
       "                         2                                  2               ⎥⎥\n",
       "                                                                            ⎥⎥\n",
       "                 cos(\\theta_{{2}{1}})⋅cos(\\theta_{{2}{2}})                  ⎥⎥\n",
       "                                                                            ⎥⎥\n",
       "3⋅(R⋅cos(\\theta_{{2}{2}}) - d_{2}⋅sin(\\theta_{{2}{2}}))⋅cos(\\theta_{{2}{1}})⎥⎥\n",
       "────────────────────────────────────────────────────────────────────────────⎥⎥\n",
       "                                     2                                      ⎥⎥\n",
       "                                                                            ⎥⎥\n",
       "(-R⋅cos(\\theta_{{2}{2}}) + d_{2}⋅sin(\\theta_{{2}{2}}))⋅cos(\\theta_{{2}{1}}) ⎥⎥\n",
       "─────────────────────────────────────────────────────────────────────────── ⎥⎥\n",
       "                                     2                                      ⎥⎥\n",
       "                                                                            ⎥⎥\n",
       "(-R⋅cos(\\theta_{{2}{2}}) + d_{2}⋅sin(\\theta_{{2}{2}}))⋅sin(\\theta_{{2}{1}}) ⎦⎦"
      ]
     },
     "metadata": {},
     "output_type": "display_data"
    },
    {
     "name": "stdout",
     "output_type": "stream",
     "text": [
      "Limb:  3\n"
     ]
    },
    {
     "data": {
      "text/latex": [
       "$\\displaystyle \\left[ \\left[\\begin{matrix}- \\frac{1}{2}\\\\\\frac{\\sqrt{3}}{2}\\\\0\\\\0\\\\0\\\\0\\end{matrix}\\right], \\  \\left[\\begin{matrix}- \\frac{\\sqrt{3} \\cos{\\left(\\theta_{{3}{1}} \\right)}}{2}\\\\- \\frac{\\cos{\\left(\\theta_{{3}{1}} \\right)}}{2}\\\\\\sin{\\left(\\theta_{{3}{1}} \\right)}\\\\\\frac{\\sqrt{3} R \\sin{\\left(\\theta_{{3}{1}} \\right)}}{2}\\\\\\frac{R \\sin{\\left(\\theta_{{3}{1}} \\right)}}{2}\\\\R \\cos{\\left(\\theta_{{3}{1}} \\right)}\\end{matrix}\\right], \\  \\left[\\begin{matrix}0\\\\0\\\\0\\\\\\frac{\\sqrt{3} \\sin{\\left(\\theta_{{3}{1}} \\right)} \\cos{\\left(\\theta_{{3}{2}} \\right)}}{2} - \\frac{\\sin{\\left(\\theta_{{3}{2}} \\right)}}{2}\\\\\\frac{\\sin{\\left(\\theta_{{3}{1}} \\right)} \\cos{\\left(\\theta_{{3}{2}} \\right)}}{2} + \\frac{\\sqrt{3} \\sin{\\left(\\theta_{{3}{2}} \\right)}}{2}\\\\\\cos{\\left(\\theta_{{3}{1}} \\right)} \\cos{\\left(\\theta_{{3}{2}} \\right)}\\end{matrix}\\right], \\  \\left[\\begin{matrix}- \\frac{\\sqrt{3} \\sin{\\left(\\theta_{{3}{1}} \\right)} \\sin{\\left(\\theta_{{3}{2}} \\right)}}{2} - \\frac{\\cos{\\left(\\theta_{{3}{2}} \\right)}}{2}\\\\- \\frac{\\sin{\\left(\\theta_{{3}{1}} \\right)} \\sin{\\left(\\theta_{{3}{2}} \\right)}}{2} + \\frac{\\sqrt{3} \\cos{\\left(\\theta_{{3}{2}} \\right)}}{2}\\\\- \\sin{\\left(\\theta_{{3}{2}} \\right)} \\cos{\\left(\\theta_{{3}{1}} \\right)}\\\\- \\frac{\\sqrt{3} \\left(R \\sin{\\left(\\theta_{{3}{2}} \\right)} + d_{3} \\cos{\\left(\\theta_{{3}{2}} \\right)}\\right) \\cos{\\left(\\theta_{{3}{1}} \\right)}}{2}\\\\- \\frac{\\left(R \\sin{\\left(\\theta_{{3}{2}} \\right)} + d_{3} \\cos{\\left(\\theta_{{3}{2}} \\right)}\\right) \\cos{\\left(\\theta_{{3}{1}} \\right)}}{2}\\\\\\left(R \\sin{\\left(\\theta_{{3}{2}} \\right)} + d_{3} \\cos{\\left(\\theta_{{3}{2}} \\right)}\\right) \\sin{\\left(\\theta_{{3}{1}} \\right)}\\end{matrix}\\right], \\  \\left[\\begin{matrix}- \\frac{\\sqrt{3} \\cos{\\left(\\theta_{{3}{1}} \\right)}}{2}\\\\- \\frac{\\cos{\\left(\\theta_{{3}{1}} \\right)}}{2}\\\\\\sin{\\left(\\theta_{{3}{1}} \\right)}\\\\\\frac{\\sqrt{3} R \\sin{\\left(\\theta_{{3}{1}} \\right)}}{2} + \\frac{d_{3}}{2}\\\\\\frac{R \\sin{\\left(\\theta_{{3}{1}} \\right)}}{2} - \\frac{\\sqrt{3} d_{3}}{2}\\\\R \\cos{\\left(\\theta_{{3}{1}} \\right)}\\end{matrix}\\right], \\  \\left[\\begin{matrix}\\frac{\\sqrt{3} \\sin{\\left(\\theta_{{3}{1}} \\right)} \\cos{\\left(\\theta_{{3}{2}} \\right)}}{2} - \\frac{\\sin{\\left(\\theta_{{3}{2}} \\right)}}{2}\\\\\\frac{\\sin{\\left(\\theta_{{3}{1}} \\right)} \\cos{\\left(\\theta_{{3}{2}} \\right)}}{2} + \\frac{\\sqrt{3} \\sin{\\left(\\theta_{{3}{2}} \\right)}}{2}\\\\\\cos{\\left(\\theta_{{3}{1}} \\right)} \\cos{\\left(\\theta_{{3}{2}} \\right)}\\\\\\frac{\\sqrt{3} \\left(R \\cos{\\left(\\theta_{{3}{2}} \\right)} - d_{3} \\sin{\\left(\\theta_{{3}{2}} \\right)}\\right) \\cos{\\left(\\theta_{{3}{1}} \\right)}}{2}\\\\\\frac{\\left(R \\cos{\\left(\\theta_{{3}{2}} \\right)} - d_{3} \\sin{\\left(\\theta_{{3}{2}} \\right)}\\right) \\cos{\\left(\\theta_{{3}{1}} \\right)}}{2}\\\\\\left(- R \\cos{\\left(\\theta_{{3}{2}} \\right)} + d_{3} \\sin{\\left(\\theta_{{3}{2}} \\right)}\\right) \\sin{\\left(\\theta_{{3}{1}} \\right)}\\end{matrix}\\right]\\right]$"
      ],
      "text/plain": [
       "⎡        ⎡-√3⋅cos(\\theta_{{3}{1}}) ⎤                                          \n",
       "⎢        ⎢─────────────────────────⎥                                          \n",
       "⎢        ⎢            2            ⎥  ⎡                                 0     \n",
       "⎢⎡-1/2⎤  ⎢                         ⎥  ⎢                                       \n",
       "⎢⎢    ⎥  ⎢ -cos(\\theta_{{3}{1}})   ⎥  ⎢                                 0     \n",
       "⎢⎢ √3 ⎥  ⎢ ──────────────────────  ⎥  ⎢                                       \n",
       "⎢⎢ ── ⎥  ⎢           2             ⎥  ⎢                                 0     \n",
       "⎢⎢ 2  ⎥  ⎢                         ⎥  ⎢                                       \n",
       "⎢⎢    ⎥  ⎢  sin(\\theta_{{3}{1}})   ⎥  ⎢√3⋅sin(\\theta_{{3}{1}})⋅cos(\\theta_{{3}\n",
       "⎢⎢ 0  ⎥, ⎢                         ⎥, ⎢───────────────────────────────────────\n",
       "⎢⎢    ⎥  ⎢√3⋅R⋅sin(\\theta_{{3}{1}})⎥  ⎢                     2                 \n",
       "⎢⎢ 0  ⎥  ⎢─────────────────────────⎥  ⎢                                       \n",
       "⎢⎢    ⎥  ⎢            2            ⎥  ⎢sin(\\theta_{{3}{1}})⋅cos(\\theta_{{3}{2}\n",
       "⎢⎢ 0  ⎥  ⎢                         ⎥  ⎢───────────────────────────────────────\n",
       "⎢⎢    ⎥  ⎢ R⋅sin(\\theta_{{3}{1}})  ⎥  ⎢                    2                  \n",
       "⎢⎣ 0  ⎦  ⎢ ──────────────────────  ⎥  ⎢                                       \n",
       "⎢        ⎢           2             ⎥  ⎣             cos(\\theta_{{3}{1}})⋅cos(\\\n",
       "⎢        ⎢                         ⎥                                          \n",
       "⎣        ⎣ R⋅cos(\\theta_{{3}{1}})  ⎦                                          \n",
       "\n",
       "                               ⎡       √3⋅sin(\\theta_{{3}{1}})⋅sin(\\theta_{{3}\n",
       "                               ⎢     - ───────────────────────────────────────\n",
       "                            ⎤  ⎢                            2                 \n",
       "                            ⎥  ⎢                                              \n",
       "                            ⎥  ⎢       sin(\\theta_{{3}{1}})⋅sin(\\theta_{{3}{2}\n",
       "                            ⎥  ⎢     - ───────────────────────────────────────\n",
       "                            ⎥  ⎢                           2                  \n",
       "                            ⎥  ⎢                                              \n",
       "{2}})   sin(\\theta_{{3}{2}})⎥  ⎢                  -sin(\\theta_{{3}{2}})⋅cos(\\t\n",
       "───── - ────────────────────⎥, ⎢                                              \n",
       "                 2          ⎥  ⎢-√3⋅(R⋅sin(\\theta_{{3}{2}}) + d_{3}⋅cos(\\theta\n",
       "                            ⎥  ⎢──────────────────────────────────────────────\n",
       "})   √3⋅sin(\\theta_{{3}{2}})⎥  ⎢                                       2      \n",
       "── + ───────────────────────⎥  ⎢                                              \n",
       "                2           ⎥  ⎢ -(R⋅sin(\\theta_{{3}{2}}) + d_{3}⋅cos(\\theta_{\n",
       "                            ⎥  ⎢ ─────────────────────────────────────────────\n",
       "theta_{{3}{2}})             ⎦  ⎢                                      2       \n",
       "                               ⎢                                              \n",
       "                               ⎣  (R⋅sin(\\theta_{{3}{2}}) + d_{3}⋅cos(\\theta_{\n",
       "\n",
       "{2}})   cos(\\theta_{{3}{2}})     ⎤  ⎡    -√3⋅cos(\\theta_{{3}{1}})     ⎤  ⎡    \n",
       "───── - ────────────────────     ⎥  ⎢    ─────────────────────────    ⎥  ⎢    \n",
       "                 2               ⎥  ⎢                2                ⎥  ⎢    \n",
       "                                 ⎥  ⎢                                 ⎥  ⎢    \n",
       "})   √3⋅cos(\\theta_{{3}{2}})     ⎥  ⎢     -cos(\\theta_{{3}{1}})       ⎥  ⎢    \n",
       "── + ───────────────────────     ⎥  ⎢     ──────────────────────      ⎥  ⎢    \n",
       "                2                ⎥  ⎢               2                 ⎥  ⎢    \n",
       "                                 ⎥  ⎢                                 ⎥  ⎢    \n",
       "heta_{{3}{1}})                   ⎥  ⎢      sin(\\theta_{{3}{1}})       ⎥  ⎢    \n",
       "                                 ⎥, ⎢                                 ⎥, ⎢    \n",
       "_{{3}{2}}))⋅cos(\\theta_{{3}{1}}) ⎥  ⎢√3⋅R⋅sin(\\theta_{{3}{1}})   d_{3}⎥  ⎢√3⋅(\n",
       "─────────────────────────────────⎥  ⎢───────────────────────── + ─────⎥  ⎢────\n",
       "                                 ⎥  ⎢            2                 2  ⎥  ⎢    \n",
       "                                 ⎥  ⎢                                 ⎥  ⎢    \n",
       "{3}{2}}))⋅cos(\\theta_{{3}{1}})   ⎥  ⎢R⋅sin(\\theta_{{3}{1}})   √3⋅d_{3}⎥  ⎢ (R⋅\n",
       "───────────────────────────────  ⎥  ⎢────────────────────── - ────────⎥  ⎢ ───\n",
       "                                 ⎥  ⎢          2                 2    ⎥  ⎢    \n",
       "                                 ⎥  ⎢                                 ⎥  ⎢    \n",
       "{3}{2}}))⋅sin(\\theta_{{3}{1}})   ⎦  ⎣     R⋅cos(\\theta_{{3}{1}})      ⎦  ⎣ (-R\n",
       "\n",
       " √3⋅sin(\\theta_{{3}{1}})⋅cos(\\theta_{{3}{2}})   sin(\\theta_{{3}{2}})     ⎤⎤\n",
       " ──────────────────────────────────────────── - ────────────────────     ⎥⎥\n",
       "                      2                                  2               ⎥⎥\n",
       "                                                                         ⎥⎥\n",
       " sin(\\theta_{{3}{1}})⋅cos(\\theta_{{3}{2}})   √3⋅sin(\\theta_{{3}{2}})     ⎥⎥\n",
       " ───────────────────────────────────────── + ───────────────────────     ⎥⎥\n",
       "                     2                                  2                ⎥⎥\n",
       "                                                                         ⎥⎥\n",
       "              cos(\\theta_{{3}{1}})⋅cos(\\theta_{{3}{2}})                  ⎥⎥\n",
       "                                                                         ⎥⎥\n",
       "R⋅cos(\\theta_{{3}{2}}) - d_{3}⋅sin(\\theta_{{3}{2}}))⋅cos(\\theta_{{3}{1}})⎥⎥\n",
       "─────────────────────────────────────────────────────────────────────────⎥⎥\n",
       "                                  2                                      ⎥⎥\n",
       "                                                                         ⎥⎥\n",
       "cos(\\theta_{{3}{2}}) - d_{3}⋅sin(\\theta_{{3}{2}}))⋅cos(\\theta_{{3}{1}})  ⎥⎥\n",
       "───────────────────────────────────────────────────────────────────────  ⎥⎥\n",
       "                                 2                                       ⎥⎥\n",
       "                                                                         ⎥⎥\n",
       "⋅cos(\\theta_{{3}{2}}) + d_{3}⋅sin(\\theta_{{3}{2}}))⋅sin(\\theta_{{3}{1}}) ⎦⎦"
      ]
     },
     "metadata": {},
     "output_type": "display_data"
    },
    {
     "name": "stdout",
     "output_type": "stream",
     "text": [
      "Limb:  4\n"
     ]
    },
    {
     "data": {
      "text/latex": [
       "$\\displaystyle \\left[ \\left[\\begin{matrix}-1\\\\0\\\\0\\\\0\\\\0\\\\0\\end{matrix}\\right], \\  \\left[\\begin{matrix}0\\\\- \\cos{\\left(\\theta_{{4}{1}} \\right)}\\\\\\sin{\\left(\\theta_{{4}{1}} \\right)}\\\\0\\\\R \\sin{\\left(\\theta_{{4}{1}} \\right)}\\\\R \\cos{\\left(\\theta_{{4}{1}} \\right)}\\end{matrix}\\right], \\  \\left[\\begin{matrix}0\\\\0\\\\0\\\\- \\sin{\\left(\\theta_{{4}{2}} \\right)}\\\\\\sin{\\left(\\theta_{{4}{1}} \\right)} \\cos{\\left(\\theta_{{4}{2}} \\right)}\\\\\\cos{\\left(\\theta_{{4}{1}} \\right)} \\cos{\\left(\\theta_{{4}{2}} \\right)}\\end{matrix}\\right], \\  \\left[\\begin{matrix}- \\cos{\\left(\\theta_{{4}{2}} \\right)}\\\\- \\sin{\\left(\\theta_{{4}{1}} \\right)} \\sin{\\left(\\theta_{{4}{2}} \\right)}\\\\- \\sin{\\left(\\theta_{{4}{2}} \\right)} \\cos{\\left(\\theta_{{4}{1}} \\right)}\\\\0\\\\- \\left(R \\sin{\\left(\\theta_{{4}{2}} \\right)} + d_{4} \\cos{\\left(\\theta_{{4}{2}} \\right)}\\right) \\cos{\\left(\\theta_{{4}{1}} \\right)}\\\\\\left(R \\sin{\\left(\\theta_{{4}{2}} \\right)} + d_{4} \\cos{\\left(\\theta_{{4}{2}} \\right)}\\right) \\sin{\\left(\\theta_{{4}{1}} \\right)}\\end{matrix}\\right], \\  \\left[\\begin{matrix}0\\\\- \\cos{\\left(\\theta_{{4}{1}} \\right)}\\\\\\sin{\\left(\\theta_{{4}{1}} \\right)}\\\\d_{4}\\\\R \\sin{\\left(\\theta_{{4}{1}} \\right)}\\\\R \\cos{\\left(\\theta_{{4}{1}} \\right)}\\end{matrix}\\right], \\  \\left[\\begin{matrix}- \\sin{\\left(\\theta_{{4}{2}} \\right)}\\\\\\sin{\\left(\\theta_{{4}{1}} \\right)} \\cos{\\left(\\theta_{{4}{2}} \\right)}\\\\\\cos{\\left(\\theta_{{4}{1}} \\right)} \\cos{\\left(\\theta_{{4}{2}} \\right)}\\\\0\\\\\\left(R \\cos{\\left(\\theta_{{4}{2}} \\right)} - d_{4} \\sin{\\left(\\theta_{{4}{2}} \\right)}\\right) \\cos{\\left(\\theta_{{4}{1}} \\right)}\\\\\\left(- R \\cos{\\left(\\theta_{{4}{2}} \\right)} + d_{4} \\sin{\\left(\\theta_{{4}{2}} \\right)}\\right) \\sin{\\left(\\theta_{{4}{1}} \\right)}\\end{matrix}\\right]\\right]$"
      ],
      "text/plain": [
       "⎡⎡-1⎤  ⎡          0           ⎤  ⎡                    0                    ⎤  \n",
       "⎢⎢  ⎥  ⎢                      ⎥  ⎢                                         ⎥  \n",
       "⎢⎢0 ⎥  ⎢-cos(\\theta_{{4}{1}}) ⎥  ⎢                    0                    ⎥  \n",
       "⎢⎢  ⎥  ⎢                      ⎥  ⎢                                         ⎥  \n",
       "⎢⎢0 ⎥  ⎢ sin(\\theta_{{4}{1}}) ⎥  ⎢                    0                    ⎥  \n",
       "⎢⎢  ⎥, ⎢                      ⎥, ⎢                                         ⎥, \n",
       "⎢⎢0 ⎥  ⎢          0           ⎥  ⎢          -sin(\\theta_{{4}{2}})          ⎥  \n",
       "⎢⎢  ⎥  ⎢                      ⎥  ⎢                                         ⎥  \n",
       "⎢⎢0 ⎥  ⎢R⋅sin(\\theta_{{4}{1}})⎥  ⎢sin(\\theta_{{4}{1}})⋅cos(\\theta_{{4}{2}})⎥  \n",
       "⎢⎢  ⎥  ⎢                      ⎥  ⎢                                         ⎥  \n",
       "⎣⎣0 ⎦  ⎣R⋅cos(\\theta_{{4}{1}})⎦  ⎣cos(\\theta_{{4}{1}})⋅cos(\\theta_{{4}{2}})⎦  \n",
       "\n",
       "⎡                           -cos(\\theta_{{4}{2}})                           ⎤ \n",
       "⎢                                                                           ⎥ \n",
       "⎢                -sin(\\theta_{{4}{1}})⋅sin(\\theta_{{4}{2}})                 ⎥ \n",
       "⎢                                                                           ⎥ \n",
       "⎢                -sin(\\theta_{{4}{2}})⋅cos(\\theta_{{4}{1}})                 ⎥ \n",
       "⎢                                                                           ⎥,\n",
       "⎢                                     0                                     ⎥ \n",
       "⎢                                                                           ⎥ \n",
       "⎢-(R⋅sin(\\theta_{{4}{2}}) + d_{4}⋅cos(\\theta_{{4}{2}}))⋅cos(\\theta_{{4}{1}})⎥ \n",
       "⎢                                                                           ⎥ \n",
       "⎣(R⋅sin(\\theta_{{4}{2}}) + d_{4}⋅cos(\\theta_{{4}{2}}))⋅sin(\\theta_{{4}{1}}) ⎦ \n",
       "\n",
       " ⎡          0           ⎤  ⎡                           -sin(\\theta_{{4}{2}})  \n",
       " ⎢                      ⎥  ⎢                                                  \n",
       " ⎢-cos(\\theta_{{4}{1}}) ⎥  ⎢                 sin(\\theta_{{4}{1}})⋅cos(\\theta_{\n",
       " ⎢                      ⎥  ⎢                                                  \n",
       " ⎢ sin(\\theta_{{4}{1}}) ⎥  ⎢                 cos(\\theta_{{4}{1}})⋅cos(\\theta_{\n",
       " ⎢                      ⎥, ⎢                                                  \n",
       " ⎢        d_{4}         ⎥  ⎢                                     0            \n",
       " ⎢                      ⎥  ⎢                                                  \n",
       " ⎢R⋅sin(\\theta_{{4}{1}})⎥  ⎢(R⋅cos(\\theta_{{4}{2}}) - d_{4}⋅sin(\\theta_{{4}{2}\n",
       " ⎢                      ⎥  ⎢                                                  \n",
       " ⎣R⋅cos(\\theta_{{4}{1}})⎦  ⎣(-R⋅cos(\\theta_{{4}{2}}) + d_{4}⋅sin(\\theta_{{4}{2\n",
       "\n",
       "                         ⎤⎤\n",
       "                         ⎥⎥\n",
       "{4}{2}})                 ⎥⎥\n",
       "                         ⎥⎥\n",
       "{4}{2}})                 ⎥⎥\n",
       "                         ⎥⎥\n",
       "                         ⎥⎥\n",
       "                         ⎥⎥\n",
       "}))⋅cos(\\theta_{{4}{1}}) ⎥⎥\n",
       "                         ⎥⎥\n",
       "}}))⋅sin(\\theta_{{4}{1}})⎦⎦"
      ]
     },
     "metadata": {},
     "output_type": "display_data"
    },
    {
     "name": "stdout",
     "output_type": "stream",
     "text": [
      "Limb:  5\n"
     ]
    },
    {
     "data": {
      "text/latex": [
       "$\\displaystyle \\left[ \\left[\\begin{matrix}- \\frac{1}{2}\\\\- \\frac{\\sqrt{3}}{2}\\\\0\\\\0\\\\0\\\\0\\end{matrix}\\right], \\  \\left[\\begin{matrix}\\frac{\\sqrt{3} \\cos{\\left(\\theta_{{5}{1}} \\right)}}{2}\\\\- \\frac{\\cos{\\left(\\theta_{{5}{1}} \\right)}}{2}\\\\\\sin{\\left(\\theta_{{5}{1}} \\right)}\\\\- \\frac{\\sqrt{3} R \\sin{\\left(\\theta_{{5}{1}} \\right)}}{2}\\\\\\frac{R \\sin{\\left(\\theta_{{5}{1}} \\right)}}{2}\\\\R \\cos{\\left(\\theta_{{5}{1}} \\right)}\\end{matrix}\\right], \\  \\left[\\begin{matrix}0\\\\0\\\\0\\\\- \\frac{\\sqrt{3} \\sin{\\left(\\theta_{{5}{1}} \\right)} \\cos{\\left(\\theta_{{5}{2}} \\right)}}{2} - \\frac{\\sin{\\left(\\theta_{{5}{2}} \\right)}}{2}\\\\\\frac{\\sin{\\left(\\theta_{{5}{1}} \\right)} \\cos{\\left(\\theta_{{5}{2}} \\right)}}{2} - \\frac{\\sqrt{3} \\sin{\\left(\\theta_{{5}{2}} \\right)}}{2}\\\\\\cos{\\left(\\theta_{{5}{1}} \\right)} \\cos{\\left(\\theta_{{5}{2}} \\right)}\\end{matrix}\\right], \\  \\left[\\begin{matrix}\\frac{\\sqrt{3} \\sin{\\left(\\theta_{{5}{1}} \\right)} \\sin{\\left(\\theta_{{5}{2}} \\right)}}{2} - \\frac{\\cos{\\left(\\theta_{{5}{2}} \\right)}}{2}\\\\- \\frac{\\sin{\\left(\\theta_{{5}{1}} \\right)} \\sin{\\left(\\theta_{{5}{2}} \\right)}}{2} - \\frac{\\sqrt{3} \\cos{\\left(\\theta_{{5}{2}} \\right)}}{2}\\\\- \\sin{\\left(\\theta_{{5}{2}} \\right)} \\cos{\\left(\\theta_{{5}{1}} \\right)}\\\\\\frac{\\sqrt{3} \\left(R \\sin{\\left(\\theta_{{5}{2}} \\right)} + d_{5} \\cos{\\left(\\theta_{{5}{2}} \\right)}\\right) \\cos{\\left(\\theta_{{5}{1}} \\right)}}{2}\\\\- \\frac{\\left(R \\sin{\\left(\\theta_{{5}{2}} \\right)} + d_{5} \\cos{\\left(\\theta_{{5}{2}} \\right)}\\right) \\cos{\\left(\\theta_{{5}{1}} \\right)}}{2}\\\\\\left(R \\sin{\\left(\\theta_{{5}{2}} \\right)} + d_{5} \\cos{\\left(\\theta_{{5}{2}} \\right)}\\right) \\sin{\\left(\\theta_{{5}{1}} \\right)}\\end{matrix}\\right], \\  \\left[\\begin{matrix}\\frac{\\sqrt{3} \\cos{\\left(\\theta_{{5}{1}} \\right)}}{2}\\\\- \\frac{\\cos{\\left(\\theta_{{5}{1}} \\right)}}{2}\\\\\\sin{\\left(\\theta_{{5}{1}} \\right)}\\\\- \\frac{\\sqrt{3} R \\sin{\\left(\\theta_{{5}{1}} \\right)}}{2} + \\frac{d_{5}}{2}\\\\\\frac{R \\sin{\\left(\\theta_{{5}{1}} \\right)}}{2} + \\frac{\\sqrt{3} d_{5}}{2}\\\\R \\cos{\\left(\\theta_{{5}{1}} \\right)}\\end{matrix}\\right], \\  \\left[\\begin{matrix}- \\frac{\\sqrt{3} \\sin{\\left(\\theta_{{5}{1}} \\right)} \\cos{\\left(\\theta_{{5}{2}} \\right)}}{2} - \\frac{\\sin{\\left(\\theta_{{5}{2}} \\right)}}{2}\\\\\\frac{\\sin{\\left(\\theta_{{5}{1}} \\right)} \\cos{\\left(\\theta_{{5}{2}} \\right)}}{2} - \\frac{\\sqrt{3} \\sin{\\left(\\theta_{{5}{2}} \\right)}}{2}\\\\\\cos{\\left(\\theta_{{5}{1}} \\right)} \\cos{\\left(\\theta_{{5}{2}} \\right)}\\\\\\frac{\\sqrt{3} \\left(- R \\cos{\\left(\\theta_{{5}{2}} \\right)} + d_{5} \\sin{\\left(\\theta_{{5}{2}} \\right)}\\right) \\cos{\\left(\\theta_{{5}{1}} \\right)}}{2}\\\\\\frac{\\left(R \\cos{\\left(\\theta_{{5}{2}} \\right)} - d_{5} \\sin{\\left(\\theta_{{5}{2}} \\right)}\\right) \\cos{\\left(\\theta_{{5}{1}} \\right)}}{2}\\\\\\left(- R \\cos{\\left(\\theta_{{5}{2}} \\right)} + d_{5} \\sin{\\left(\\theta_{{5}{2}} \\right)}\\right) \\sin{\\left(\\theta_{{5}{1}} \\right)}\\end{matrix}\\right]\\right]$"
      ],
      "text/plain": [
       "⎡        ⎡  √3⋅cos(\\theta_{{5}{1}})  ⎤                                        \n",
       "⎢        ⎢  ───────────────────────  ⎥                                        \n",
       "⎢        ⎢             2             ⎥  ⎡                                  0  \n",
       "⎢⎡-1/2⎤  ⎢                           ⎥  ⎢                                     \n",
       "⎢⎢    ⎥  ⎢  -cos(\\theta_{{5}{1}})    ⎥  ⎢                                  0  \n",
       "⎢⎢-√3 ⎥  ⎢  ──────────────────────   ⎥  ⎢                                     \n",
       "⎢⎢────⎥  ⎢            2              ⎥  ⎢                                  0  \n",
       "⎢⎢ 2  ⎥  ⎢                           ⎥  ⎢                                     \n",
       "⎢⎢    ⎥  ⎢   sin(\\theta_{{5}{1}})    ⎥  ⎢  √3⋅sin(\\theta_{{5}{1}})⋅cos(\\theta_\n",
       "⎢⎢ 0  ⎥, ⎢                           ⎥, ⎢- ───────────────────────────────────\n",
       "⎢⎢    ⎥  ⎢-√3⋅R⋅sin(\\theta_{{5}{1}}) ⎥  ⎢                       2             \n",
       "⎢⎢ 0  ⎥  ⎢───────────────────────────⎥  ⎢                                     \n",
       "⎢⎢    ⎥  ⎢             2             ⎥  ⎢ sin(\\theta_{{5}{1}})⋅cos(\\theta_{{5}\n",
       "⎢⎢ 0  ⎥  ⎢                           ⎥  ⎢ ────────────────────────────────────\n",
       "⎢⎢    ⎥  ⎢  R⋅sin(\\theta_{{5}{1}})   ⎥  ⎢                     2               \n",
       "⎢⎣ 0  ⎦  ⎢  ──────────────────────   ⎥  ⎢                                     \n",
       "⎢        ⎢            2              ⎥  ⎣              cos(\\theta_{{5}{1}})⋅co\n",
       "⎢        ⎢                           ⎥                                        \n",
       "⎣        ⎣  R⋅cos(\\theta_{{5}{1}})   ⎦                                        \n",
       "\n",
       "                                   ⎡     √3⋅sin(\\theta_{{5}{1}})⋅sin(\\theta_{{\n",
       "                                   ⎢     ─────────────────────────────────────\n",
       "                                ⎤  ⎢                          2               \n",
       "                                ⎥  ⎢                                          \n",
       "                                ⎥  ⎢      sin(\\theta_{{5}{1}})⋅sin(\\theta_{{5}\n",
       "                                ⎥  ⎢    - ────────────────────────────────────\n",
       "                                ⎥  ⎢                          2               \n",
       "                                ⎥  ⎢                                          \n",
       "{{5}{2}})   sin(\\theta_{{5}{2}})⎥  ⎢                 -sin(\\theta_{{5}{2}})⋅cos\n",
       "───────── - ────────────────────⎥, ⎢                                          \n",
       "                     2          ⎥  ⎢√3⋅(R⋅sin(\\theta_{{5}{2}}) + d_{5}⋅cos(\\th\n",
       "                                ⎥  ⎢──────────────────────────────────────────\n",
       "{2}})   √3⋅sin(\\theta_{{5}{2}}) ⎥  ⎢                                      2   \n",
       "───── - ─────────────────────── ⎥  ⎢                                          \n",
       "                   2            ⎥  ⎢-(R⋅sin(\\theta_{{5}{2}}) + d_{5}⋅cos(\\thet\n",
       "                                ⎥  ⎢──────────────────────────────────────────\n",
       "s(\\theta_{{5}{2}})              ⎦  ⎢                                     2    \n",
       "                                   ⎢                                          \n",
       "                                   ⎣ (R⋅sin(\\theta_{{5}{2}}) + d_{5}⋅cos(\\thet\n",
       "\n",
       "5}{2}})   cos(\\theta_{{5}{2}})     ⎤  ⎡      √3⋅cos(\\theta_{{5}{1}})      ⎤  ⎡\n",
       "─────── - ────────────────────     ⎥  ⎢      ───────────────────────      ⎥  ⎢\n",
       "                   2               ⎥  ⎢                 2                 ⎥  ⎢\n",
       "                                   ⎥  ⎢                                   ⎥  ⎢\n",
       "{2}})   √3⋅cos(\\theta_{{5}{2}})    ⎥  ⎢      -cos(\\theta_{{5}{1}})        ⎥  ⎢\n",
       "───── - ───────────────────────    ⎥  ⎢      ──────────────────────       ⎥  ⎢\n",
       "                   2               ⎥  ⎢                2                  ⎥  ⎢\n",
       "                                   ⎥  ⎢                                   ⎥  ⎢\n",
       "(\\theta_{{5}{1}})                  ⎥  ⎢       sin(\\theta_{{5}{1}})        ⎥  ⎢\n",
       "                                   ⎥, ⎢                                   ⎥, ⎢\n",
       "eta_{{5}{2}}))⋅cos(\\theta_{{5}{1}})⎥  ⎢  √3⋅R⋅sin(\\theta_{{5}{1}})   d_{5}⎥  ⎢\n",
       "───────────────────────────────────⎥  ⎢- ───────────────────────── + ─────⎥  ⎢\n",
       "                                   ⎥  ⎢              2                 2  ⎥  ⎢\n",
       "                                   ⎥  ⎢                                   ⎥  ⎢\n",
       "a_{{5}{2}}))⋅cos(\\theta_{{5}{1}})  ⎥  ⎢ R⋅sin(\\theta_{{5}{1}})   √3⋅d_{5} ⎥  ⎢\n",
       "────────────────────────────────── ⎥  ⎢ ────────────────────── + ──────── ⎥  ⎢\n",
       "                                   ⎥  ⎢           2                 2     ⎥  ⎢\n",
       "                                   ⎥  ⎢                                   ⎥  ⎢\n",
       "a_{{5}{2}}))⋅sin(\\theta_{{5}{1}})  ⎦  ⎣      R⋅cos(\\theta_{{5}{1}})       ⎦  ⎣\n",
       "\n",
       "      √3⋅sin(\\theta_{{5}{1}})⋅cos(\\theta_{{5}{2}})   sin(\\theta_{{5}{2}})     \n",
       "    - ──────────────────────────────────────────── - ────────────────────     \n",
       "                           2                                  2               \n",
       "                                                                              \n",
       "     sin(\\theta_{{5}{1}})⋅cos(\\theta_{{5}{2}})   √3⋅sin(\\theta_{{5}{2}})      \n",
       "     ───────────────────────────────────────── - ───────────────────────      \n",
       "                         2                                  2                 \n",
       "                                                                              \n",
       "                  cos(\\theta_{{5}{1}})⋅cos(\\theta_{{5}{2}})                   \n",
       "                                                                              \n",
       "√3⋅(-R⋅cos(\\theta_{{5}{2}}) + d_{5}⋅sin(\\theta_{{5}{2}}))⋅cos(\\theta_{{5}{1}})\n",
       "──────────────────────────────────────────────────────────────────────────────\n",
       "                                      2                                       \n",
       "                                                                              \n",
       "  (R⋅cos(\\theta_{{5}{2}}) - d_{5}⋅sin(\\theta_{{5}{2}}))⋅cos(\\theta_{{5}{1}})  \n",
       "  ──────────────────────────────────────────────────────────────────────────  \n",
       "                                      2                                       \n",
       "                                                                              \n",
       " (-R⋅cos(\\theta_{{5}{2}}) + d_{5}⋅sin(\\theta_{{5}{2}}))⋅sin(\\theta_{{5}{1}})  \n",
       "\n",
       "⎤⎤\n",
       "⎥⎥\n",
       "⎥⎥\n",
       "⎥⎥\n",
       "⎥⎥\n",
       "⎥⎥\n",
       "⎥⎥\n",
       "⎥⎥\n",
       "⎥⎥\n",
       "⎥⎥\n",
       "⎥⎥\n",
       "⎥⎥\n",
       "⎥⎥\n",
       "⎥⎥\n",
       "⎥⎥\n",
       "⎥⎥\n",
       "⎥⎥\n",
       "⎥⎥\n",
       "⎦⎦"
      ]
     },
     "metadata": {},
     "output_type": "display_data"
    },
    {
     "name": "stdout",
     "output_type": "stream",
     "text": [
      "Limb:  6\n"
     ]
    },
    {
     "data": {
      "text/latex": [
       "$\\displaystyle \\left[ \\left[\\begin{matrix}\\frac{1}{2}\\\\- \\frac{\\sqrt{3}}{2}\\\\0\\\\0\\\\0\\\\0\\end{matrix}\\right], \\  \\left[\\begin{matrix}\\frac{\\sqrt{3} \\cos{\\left(\\theta_{{6}{1}} \\right)}}{2}\\\\\\frac{\\cos{\\left(\\theta_{{6}{1}} \\right)}}{2}\\\\\\sin{\\left(\\theta_{{6}{1}} \\right)}\\\\- \\frac{\\sqrt{3} R \\sin{\\left(\\theta_{{6}{1}} \\right)}}{2}\\\\- \\frac{R \\sin{\\left(\\theta_{{6}{1}} \\right)}}{2}\\\\R \\cos{\\left(\\theta_{{6}{1}} \\right)}\\end{matrix}\\right], \\  \\left[\\begin{matrix}0\\\\0\\\\0\\\\- \\frac{\\sqrt{3} \\sin{\\left(\\theta_{{6}{1}} \\right)} \\cos{\\left(\\theta_{{6}{2}} \\right)}}{2} + \\frac{\\sin{\\left(\\theta_{{6}{2}} \\right)}}{2}\\\\- \\frac{\\sin{\\left(\\theta_{{6}{1}} \\right)} \\cos{\\left(\\theta_{{6}{2}} \\right)}}{2} - \\frac{\\sqrt{3} \\sin{\\left(\\theta_{{6}{2}} \\right)}}{2}\\\\\\cos{\\left(\\theta_{{6}{1}} \\right)} \\cos{\\left(\\theta_{{6}{2}} \\right)}\\end{matrix}\\right], \\  \\left[\\begin{matrix}\\frac{\\sqrt{3} \\sin{\\left(\\theta_{{6}{1}} \\right)} \\sin{\\left(\\theta_{{6}{2}} \\right)}}{2} + \\frac{\\cos{\\left(\\theta_{{6}{2}} \\right)}}{2}\\\\\\frac{\\sin{\\left(\\theta_{{6}{1}} \\right)} \\sin{\\left(\\theta_{{6}{2}} \\right)}}{2} - \\frac{\\sqrt{3} \\cos{\\left(\\theta_{{6}{2}} \\right)}}{2}\\\\- \\sin{\\left(\\theta_{{6}{2}} \\right)} \\cos{\\left(\\theta_{{6}{1}} \\right)}\\\\\\frac{\\sqrt{3} \\left(R \\sin{\\left(\\theta_{{6}{2}} \\right)} + d_{6} \\cos{\\left(\\theta_{{6}{2}} \\right)}\\right) \\cos{\\left(\\theta_{{6}{1}} \\right)}}{2}\\\\\\frac{\\left(R \\sin{\\left(\\theta_{{6}{2}} \\right)} + d_{6} \\cos{\\left(\\theta_{{6}{2}} \\right)}\\right) \\cos{\\left(\\theta_{{6}{1}} \\right)}}{2}\\\\\\left(R \\sin{\\left(\\theta_{{6}{2}} \\right)} + d_{6} \\cos{\\left(\\theta_{{6}{2}} \\right)}\\right) \\sin{\\left(\\theta_{{6}{1}} \\right)}\\end{matrix}\\right], \\  \\left[\\begin{matrix}\\frac{\\sqrt{3} \\cos{\\left(\\theta_{{6}{1}} \\right)}}{2}\\\\\\frac{\\cos{\\left(\\theta_{{6}{1}} \\right)}}{2}\\\\\\sin{\\left(\\theta_{{6}{1}} \\right)}\\\\- \\frac{\\sqrt{3} R \\sin{\\left(\\theta_{{6}{1}} \\right)}}{2} - \\frac{d_{6}}{2}\\\\- \\frac{R \\sin{\\left(\\theta_{{6}{1}} \\right)}}{2} + \\frac{\\sqrt{3} d_{6}}{2}\\\\R \\cos{\\left(\\theta_{{6}{1}} \\right)}\\end{matrix}\\right], \\  \\left[\\begin{matrix}- \\frac{\\sqrt{3} \\sin{\\left(\\theta_{{6}{1}} \\right)} \\cos{\\left(\\theta_{{6}{2}} \\right)}}{2} + \\frac{\\sin{\\left(\\theta_{{6}{2}} \\right)}}{2}\\\\- \\frac{\\sin{\\left(\\theta_{{6}{1}} \\right)} \\cos{\\left(\\theta_{{6}{2}} \\right)}}{2} - \\frac{\\sqrt{3} \\sin{\\left(\\theta_{{6}{2}} \\right)}}{2}\\\\\\cos{\\left(\\theta_{{6}{1}} \\right)} \\cos{\\left(\\theta_{{6}{2}} \\right)}\\\\\\frac{\\sqrt{3} \\left(- R \\cos{\\left(\\theta_{{6}{2}} \\right)} + d_{6} \\sin{\\left(\\theta_{{6}{2}} \\right)}\\right) \\cos{\\left(\\theta_{{6}{1}} \\right)}}{2}\\\\\\frac{\\left(- R \\cos{\\left(\\theta_{{6}{2}} \\right)} + d_{6} \\sin{\\left(\\theta_{{6}{2}} \\right)}\\right) \\cos{\\left(\\theta_{{6}{1}} \\right)}}{2}\\\\\\left(- R \\cos{\\left(\\theta_{{6}{2}} \\right)} + d_{6} \\sin{\\left(\\theta_{{6}{2}} \\right)}\\right) \\sin{\\left(\\theta_{{6}{1}} \\right)}\\end{matrix}\\right]\\right]$"
      ],
      "text/plain": [
       "⎡        ⎡  √3⋅cos(\\theta_{{6}{1}})  ⎤                                        \n",
       "⎢        ⎢  ───────────────────────  ⎥                                        \n",
       "⎢        ⎢             2             ⎥  ⎡                                  0  \n",
       "⎢⎡1/2 ⎤  ⎢                           ⎥  ⎢                                     \n",
       "⎢⎢    ⎥  ⎢   cos(\\theta_{{6}{1}})    ⎥  ⎢                                  0  \n",
       "⎢⎢-√3 ⎥  ⎢   ────────────────────    ⎥  ⎢                                     \n",
       "⎢⎢────⎥  ⎢            2              ⎥  ⎢                                  0  \n",
       "⎢⎢ 2  ⎥  ⎢                           ⎥  ⎢                                     \n",
       "⎢⎢    ⎥  ⎢   sin(\\theta_{{6}{1}})    ⎥  ⎢  √3⋅sin(\\theta_{{6}{1}})⋅cos(\\theta_\n",
       "⎢⎢ 0  ⎥, ⎢                           ⎥, ⎢- ───────────────────────────────────\n",
       "⎢⎢    ⎥  ⎢-√3⋅R⋅sin(\\theta_{{6}{1}}) ⎥  ⎢                       2             \n",
       "⎢⎢ 0  ⎥  ⎢───────────────────────────⎥  ⎢                                     \n",
       "⎢⎢    ⎥  ⎢             2             ⎥  ⎢  sin(\\theta_{{6}{1}})⋅cos(\\theta_{{6\n",
       "⎢⎢ 0  ⎥  ⎢                           ⎥  ⎢- ───────────────────────────────────\n",
       "⎢⎢    ⎥  ⎢ -R⋅sin(\\theta_{{6}{1}})   ⎥  ⎢                      2              \n",
       "⎢⎣ 0  ⎦  ⎢ ────────────────────────  ⎥  ⎢                                     \n",
       "⎢        ⎢            2              ⎥  ⎣              cos(\\theta_{{6}{1}})⋅co\n",
       "⎢        ⎢                           ⎥                                        \n",
       "⎣        ⎣  R⋅cos(\\theta_{{6}{1}})   ⎦                                        \n",
       "\n",
       "                                   ⎡     √3⋅sin(\\theta_{{6}{1}})⋅sin(\\theta_{{\n",
       "                                   ⎢     ─────────────────────────────────────\n",
       "                                ⎤  ⎢                          2               \n",
       "                                ⎥  ⎢                                          \n",
       "                                ⎥  ⎢     sin(\\theta_{{6}{1}})⋅sin(\\theta_{{6}{\n",
       "                                ⎥  ⎢     ─────────────────────────────────────\n",
       "                                ⎥  ⎢                         2                \n",
       "                                ⎥  ⎢                                          \n",
       "{{6}{2}})   sin(\\theta_{{6}{2}})⎥  ⎢                 -sin(\\theta_{{6}{2}})⋅cos\n",
       "───────── + ────────────────────⎥, ⎢                                          \n",
       "                     2          ⎥  ⎢√3⋅(R⋅sin(\\theta_{{6}{2}}) + d_{6}⋅cos(\\th\n",
       "                                ⎥  ⎢──────────────────────────────────────────\n",
       "}{2}})   √3⋅sin(\\theta_{{6}{2}})⎥  ⎢                                      2   \n",
       "────── - ───────────────────────⎥  ⎢                                          \n",
       "                    2           ⎥  ⎢ (R⋅sin(\\theta_{{6}{2}}) + d_{6}⋅cos(\\thet\n",
       "                                ⎥  ⎢ ─────────────────────────────────────────\n",
       "s(\\theta_{{6}{2}})              ⎦  ⎢                                     2    \n",
       "                                   ⎢                                          \n",
       "                                   ⎣ (R⋅sin(\\theta_{{6}{2}}) + d_{6}⋅cos(\\thet\n",
       "\n",
       "6}{2}})   cos(\\theta_{{6}{2}})     ⎤  ⎡      √3⋅cos(\\theta_{{6}{1}})      ⎤  ⎡\n",
       "─────── + ────────────────────     ⎥  ⎢      ───────────────────────      ⎥  ⎢\n",
       "                   2               ⎥  ⎢                 2                 ⎥  ⎢\n",
       "                                   ⎥  ⎢                                   ⎥  ⎢\n",
       "2}})   √3⋅cos(\\theta_{{6}{2}})     ⎥  ⎢       cos(\\theta_{{6}{1}})        ⎥  ⎢\n",
       "──── - ───────────────────────     ⎥  ⎢       ────────────────────        ⎥  ⎢\n",
       "                  2                ⎥  ⎢                2                  ⎥  ⎢\n",
       "                                   ⎥  ⎢                                   ⎥  ⎢\n",
       "(\\theta_{{6}{1}})                  ⎥  ⎢       sin(\\theta_{{6}{1}})        ⎥  ⎢\n",
       "                                   ⎥, ⎢                                   ⎥, ⎢\n",
       "eta_{{6}{2}}))⋅cos(\\theta_{{6}{1}})⎥  ⎢  √3⋅R⋅sin(\\theta_{{6}{1}})   d_{6}⎥  ⎢\n",
       "───────────────────────────────────⎥  ⎢- ───────────────────────── - ─────⎥  ⎢\n",
       "                                   ⎥  ⎢              2                 2  ⎥  ⎢\n",
       "                                   ⎥  ⎢                                   ⎥  ⎢\n",
       "a_{{6}{2}}))⋅cos(\\theta_{{6}{1}})  ⎥  ⎢  R⋅sin(\\theta_{{6}{1}})   √3⋅d_{6}⎥  ⎢\n",
       "─────────────────────────────────  ⎥  ⎢- ────────────────────── + ────────⎥  ⎢\n",
       "                                   ⎥  ⎢            2                 2    ⎥  ⎢\n",
       "                                   ⎥  ⎢                                   ⎥  ⎢\n",
       "a_{{6}{2}}))⋅sin(\\theta_{{6}{1}})  ⎦  ⎣      R⋅cos(\\theta_{{6}{1}})       ⎦  ⎣\n",
       "\n",
       "      √3⋅sin(\\theta_{{6}{1}})⋅cos(\\theta_{{6}{2}})   sin(\\theta_{{6}{2}})     \n",
       "    - ──────────────────────────────────────────── + ────────────────────     \n",
       "                           2                                  2               \n",
       "                                                                              \n",
       "      sin(\\theta_{{6}{1}})⋅cos(\\theta_{{6}{2}})   √3⋅sin(\\theta_{{6}{2}})     \n",
       "    - ───────────────────────────────────────── - ───────────────────────     \n",
       "                          2                                  2                \n",
       "                                                                              \n",
       "                  cos(\\theta_{{6}{1}})⋅cos(\\theta_{{6}{2}})                   \n",
       "                                                                              \n",
       "√3⋅(-R⋅cos(\\theta_{{6}{2}}) + d_{6}⋅sin(\\theta_{{6}{2}}))⋅cos(\\theta_{{6}{1}})\n",
       "──────────────────────────────────────────────────────────────────────────────\n",
       "                                      2                                       \n",
       "                                                                              \n",
       " (-R⋅cos(\\theta_{{6}{2}}) + d_{6}⋅sin(\\theta_{{6}{2}}))⋅cos(\\theta_{{6}{1}})  \n",
       " ───────────────────────────────────────────────────────────────────────────  \n",
       "                                      2                                       \n",
       "                                                                              \n",
       " (-R⋅cos(\\theta_{{6}{2}}) + d_{6}⋅sin(\\theta_{{6}{2}}))⋅sin(\\theta_{{6}{1}})  \n",
       "\n",
       "⎤⎤\n",
       "⎥⎥\n",
       "⎥⎥\n",
       "⎥⎥\n",
       "⎥⎥\n",
       "⎥⎥\n",
       "⎥⎥\n",
       "⎥⎥\n",
       "⎥⎥\n",
       "⎥⎥\n",
       "⎥⎥\n",
       "⎥⎥\n",
       "⎥⎥\n",
       "⎥⎥\n",
       "⎥⎥\n",
       "⎥⎥\n",
       "⎥⎥\n",
       "⎥⎥\n",
       "⎦⎦"
      ]
     },
     "metadata": {},
     "output_type": "display_data"
    },
    {
     "name": "stdout",
     "output_type": "stream",
     "text": [
      "\n",
      "\n",
      "Limb Wrench System\n",
      "==================\n",
      "Limb:  1\n"
     ]
    },
    {
     "data": {
      "text/latex": [
       "$\\displaystyle \\left[ \\right]$"
      ],
      "text/plain": [
       "[]"
      ]
     },
     "metadata": {},
     "output_type": "display_data"
    },
    {
     "name": "stdout",
     "output_type": "stream",
     "text": [
      "Limb:  2\n"
     ]
    },
    {
     "data": {
      "text/latex": [
       "$\\displaystyle \\left[ \\right]$"
      ],
      "text/plain": [
       "[]"
      ]
     },
     "metadata": {},
     "output_type": "display_data"
    },
    {
     "name": "stdout",
     "output_type": "stream",
     "text": [
      "Limb:  3\n"
     ]
    },
    {
     "data": {
      "text/latex": [
       "$\\displaystyle \\left[ \\right]$"
      ],
      "text/plain": [
       "[]"
      ]
     },
     "metadata": {},
     "output_type": "display_data"
    },
    {
     "name": "stdout",
     "output_type": "stream",
     "text": [
      "Limb:  4\n"
     ]
    },
    {
     "data": {
      "text/latex": [
       "$\\displaystyle \\left[ \\right]$"
      ],
      "text/plain": [
       "[]"
      ]
     },
     "metadata": {},
     "output_type": "display_data"
    },
    {
     "name": "stdout",
     "output_type": "stream",
     "text": [
      "Limb:  5\n"
     ]
    },
    {
     "data": {
      "text/latex": [
       "$\\displaystyle \\left[ \\right]$"
      ],
      "text/plain": [
       "[]"
      ]
     },
     "metadata": {},
     "output_type": "display_data"
    },
    {
     "name": "stdout",
     "output_type": "stream",
     "text": [
      "Limb:  6\n"
     ]
    },
    {
     "data": {
      "text/latex": [
       "$\\displaystyle \\left[ \\right]$"
      ],
      "text/plain": [
       "[]"
      ]
     },
     "metadata": {},
     "output_type": "display_data"
    },
    {
     "name": "stdout",
     "output_type": "stream",
     "text": [
      "\n",
      "\n",
      "Platform Wrench System\n",
      "======================\n"
     ]
    },
    {
     "data": {
      "text/latex": [
       "$\\displaystyle \\left[ \\right]$"
      ],
      "text/plain": [
       "[]"
      ]
     },
     "metadata": {},
     "output_type": "display_data"
    },
    {
     "name": "stdout",
     "output_type": "stream",
     "text": [
      "\n",
      "\n",
      "Platform Twist System\n",
      "=====================\n"
     ]
    },
    {
     "data": {
      "text/latex": [
       "$\\displaystyle \\left[ \\left[\\begin{matrix}0\\\\0\\\\0\\\\1\\\\0\\\\0\\end{matrix}\\right], \\  \\left[\\begin{matrix}0\\\\0\\\\0\\\\0\\\\1\\\\0\\end{matrix}\\right], \\  \\left[\\begin{matrix}0\\\\0\\\\0\\\\0\\\\0\\\\1\\end{matrix}\\right], \\  \\left[\\begin{matrix}1\\\\0\\\\0\\\\0\\\\0\\\\0\\end{matrix}\\right], \\  \\left[\\begin{matrix}0\\\\1\\\\0\\\\0\\\\0\\\\0\\end{matrix}\\right], \\  \\left[\\begin{matrix}0\\\\0\\\\1\\\\0\\\\0\\\\0\\end{matrix}\\right]\\right]$"
      ],
      "text/plain": [
       "⎡⎡0⎤  ⎡0⎤  ⎡0⎤  ⎡1⎤  ⎡0⎤  ⎡0⎤⎤\n",
       "⎢⎢ ⎥  ⎢ ⎥  ⎢ ⎥  ⎢ ⎥  ⎢ ⎥  ⎢ ⎥⎥\n",
       "⎢⎢0⎥  ⎢0⎥  ⎢0⎥  ⎢0⎥  ⎢1⎥  ⎢0⎥⎥\n",
       "⎢⎢ ⎥  ⎢ ⎥  ⎢ ⎥  ⎢ ⎥  ⎢ ⎥  ⎢ ⎥⎥\n",
       "⎢⎢0⎥  ⎢0⎥  ⎢0⎥  ⎢0⎥  ⎢0⎥  ⎢1⎥⎥\n",
       "⎢⎢ ⎥, ⎢ ⎥, ⎢ ⎥, ⎢ ⎥, ⎢ ⎥, ⎢ ⎥⎥\n",
       "⎢⎢1⎥  ⎢0⎥  ⎢0⎥  ⎢0⎥  ⎢0⎥  ⎢0⎥⎥\n",
       "⎢⎢ ⎥  ⎢ ⎥  ⎢ ⎥  ⎢ ⎥  ⎢ ⎥  ⎢ ⎥⎥\n",
       "⎢⎢0⎥  ⎢1⎥  ⎢0⎥  ⎢0⎥  ⎢0⎥  ⎢0⎥⎥\n",
       "⎢⎢ ⎥  ⎢ ⎥  ⎢ ⎥  ⎢ ⎥  ⎢ ⎥  ⎢ ⎥⎥\n",
       "⎣⎣0⎦  ⎣0⎦  ⎣1⎦  ⎣0⎦  ⎣0⎦  ⎣0⎦⎦"
      ]
     },
     "metadata": {},
     "output_type": "display_data"
    }
   ],
   "source": [
    "all_screw_system(Mobility_PM_6UPS)"
   ]
  },
  {
   "cell_type": "markdown",
   "metadata": {},
   "source": [
    "## 4. Computation Time for Each PM"
   ]
  },
  {
   "cell_type": "markdown",
   "metadata": {},
   "source": [
    "**The 3-PRRR Parallel Manipulator**"
   ]
  },
  {
   "cell_type": "code",
   "execution_count": 26,
   "metadata": {},
   "outputs": [
    {
     "name": "stdout",
     "output_type": "stream",
     "text": [
      "1.16 s ± 45.1 ms per loop (mean ± std. dev. of 10 runs, 1 loop each)\n"
     ]
    }
   ],
   "source": [
    "%%timeit -n 1 -r 10\n",
    "s4m.ManipulatorsMobility(PM_3PRRR())"
   ]
  },
  {
   "cell_type": "markdown",
   "metadata": {},
   "source": [
    "**The 3-PR(Pa)R Parallel Manipulator**"
   ]
  },
  {
   "cell_type": "code",
   "execution_count": 27,
   "metadata": {},
   "outputs": [
    {
     "name": "stdout",
     "output_type": "stream",
     "text": [
      "5.24 s ± 147 ms per loop (mean ± std. dev. of 10 runs, 1 loop each)\n"
     ]
    }
   ],
   "source": [
    "%%timeit -n 1 -r 10\n",
    "s4m.ManipulatorsMobility(PM_3PRPaR())"
   ]
  },
  {
   "cell_type": "markdown",
   "metadata": {},
   "source": [
    "**The 4-PRRU Parallel Manipulator**"
   ]
  },
  {
   "cell_type": "code",
   "execution_count": 28,
   "metadata": {},
   "outputs": [
    {
     "name": "stdout",
     "output_type": "stream",
     "text": [
      "9.01 s ± 329 ms per loop (mean ± std. dev. of 10 runs, 1 loop each)\n"
     ]
    }
   ],
   "source": [
    "%%timeit -n 1 -r 10\n",
    "s4m.ManipulatorsMobility(PM_4PRRU())"
   ]
  },
  {
   "cell_type": "markdown",
   "metadata": {},
   "source": [
    "**The 6-UPS Parallel Manipulator**"
   ]
  },
  {
   "cell_type": "code",
   "execution_count": 29,
   "metadata": {},
   "outputs": [
    {
     "name": "stdout",
     "output_type": "stream",
     "text": [
      "25.9 s ± 418 ms per loop (mean ± std. dev. of 10 runs, 1 loop each)\n"
     ]
    }
   ],
   "source": [
    "%%timeit -n 1 -r 10\n",
    "s4m.ManipulatorsMobility(PM_6UPS())"
   ]
  },
  {
   "cell_type": "markdown",
   "metadata": {},
   "source": [
    "---"
   ]
  }
 ],
 "metadata": {
  "kernelspec": {
   "display_name": "Python 3",
   "language": "python",
   "name": "python3"
  },
  "language_info": {
   "codemirror_mode": {
    "name": "ipython",
    "version": 3
   },
   "file_extension": ".py",
   "mimetype": "text/x-python",
   "name": "python",
   "nbconvert_exporter": "python",
   "pygments_lexer": "ipython3",
   "version": "3.7.4"
  },
  "toc": {
   "base_numbering": 1,
   "nav_menu": {},
   "number_sections": false,
   "sideBar": false,
   "skip_h1_title": false,
   "title_cell": "Table of Contents",
   "title_sidebar": "Contents",
   "toc_cell": false,
   "toc_position": {},
   "toc_section_display": false,
   "toc_window_display": false
  }
 },
 "nbformat": 4,
 "nbformat_minor": 4
}
